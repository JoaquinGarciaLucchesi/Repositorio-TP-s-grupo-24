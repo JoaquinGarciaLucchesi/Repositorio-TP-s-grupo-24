{
 "cells": [
  {
   "cell_type": "code",
   "execution_count": 2,
   "id": "1c179422-d212-480a-aad2-44bbf2278a00",
   "metadata": {},
   "outputs": [],
   "source": [
    "## Parte 1\n",
    "# Primero que nada, realizamos la limpieza de la base de datos.\n",
    "\n",
    "import pandas as pd\n",
    "\n",
    "df_04 = pd.read_stata('C:\\\\Users\\\\54115\\\\Desktop\\\\Python\\\\TP2\\\\usu_individual_T104.dta')\n",
    "df_24 = pd.read_excel('C:\\\\Users\\\\54115\\\\Desktop\\\\Python\\\\TP2\\\\usu_individual_T124.xlsx', engine='openpyxl')"
   ]
  },
  {
   "cell_type": "code",
   "execution_count": 3,
   "id": "f6f9857b-3ecd-48ee-b258-0ce1e0366954",
   "metadata": {},
   "outputs": [],
   "source": [
    "df_04.columns = df_04.columns.str.lower()\n",
    "df_24.columns = df_24.columns.str.lower()"
   ]
  },
  {
   "cell_type": "code",
   "execution_count": 4,
   "id": "0fe42e1c-18fa-4b6a-9f76-cd21b1283ee7",
   "metadata": {},
   "outputs": [
    {
     "name": "stdout",
     "output_type": "stream",
     "text": [
      "Valores únicos para la variable 'deccfr':\n",
      "  - 2004: {'08', '07', '00', '09', '06', '05', '01', '03', '04', '10', '02'}\n",
      "  - 2024: {0, 1, 2, 3, 4, 5, 6, 7, 8, 9, 10, 12}\n",
      "----------------------------------------\n",
      "Valores únicos para la variable 'ideccfr':\n",
      "  - 2004: {'07', '08', '00', '09', '  ', '06', '05', '01', '03', '04', '10', '02'}\n",
      "  - 2024: {0.0, 1.0, 2.0, 3.0, 4.0, 5.0, 6.0, 7.0, 8.0, 9.0, 10.0, 12.0}\n",
      "----------------------------------------\n",
      "Valores únicos para la variable 'rdeccfr':\n",
      "  - 2004: {'08', '00', '07', '09', '06', '05', '01', '03', '04', '10', '02'}\n",
      "  - 2024: {0, 1, 2, 3, 4, 5, 6, 7, 8, 9, 10, 12}\n",
      "----------------------------------------\n",
      "Valores únicos para la variable 'gdeccfr':\n",
      "  - 2004: {'08', '00', '07', '09', '  ', '06', '05', '01', '03', '04', '10', '02'}\n",
      "  - 2024: {0.0, 1.0, 2.0, 3.0, 4.0, 5.0, 6.0, 7.0, 8.0, 9.0, 10.0, 12.0}\n",
      "----------------------------------------\n",
      "Valores únicos para la variable 'pdeccfr':\n",
      "  - 2004: {'07', '08', '00', '09', '  ', '06', '05', '01', '03', '04', '10', '02'}\n",
      "  - 2024: {0.0, 1.0, 2.0, 3.0, 4.0, 5.0, 6.0, 7.0, 8.0, 9.0, 10.0, 12.0}\n",
      "----------------------------------------\n",
      "Valores únicos para la variable 'adeccfr':\n",
      "  - 2004: {'07', '00', '08', '09', '06', '05', '01', '03', '04', '10', '02'}\n",
      "  - 2024: {0, 1, 2, 3, 4, 5, 6, 7, 8, 9, 10, 12}\n",
      "----------------------------------------\n"
     ]
    }
   ],
   "source": [
    "# Identificamos distintas variables con problemas de codificación, y son las siguientes:\n",
    "variables_con_problemas = ['deccfr', 'ideccfr', 'rdeccfr', 'gdeccfr', 'pdeccfr', 'adeccfr']\n",
    "\n",
    "for var in variables_con_problemas:\n",
    "    # Revisamos los valores únicos en 2004\n",
    "    val_04 = set(df_04[var].dropna().unique())\n",
    "    # Revisamos los valores únicos en 2024\n",
    "    val_24 = set(df_24[var].dropna().unique())\n",
    "    \n",
    "    print(f\"Valores únicos para la variable '{var}':\")\n",
    "    print(f\"  - 2004: {val_04}\")\n",
    "    print(f\"  - 2024: {val_24}\")\n",
    "    print(\"-\" * 40)"
   ]
  },
  {
   "cell_type": "code",
   "execution_count": 13,
   "id": "ab324de9-f5c6-497c-9d27-70106539df5f",
   "metadata": {},
   "outputs": [
    {
     "name": "stdout",
     "output_type": "stream",
     "text": [
      "Valores homogéneos para la variable 'deccfr':\n",
      "  - 2004: {0, 1, 2, 3, 4, 5, 6, 7, 8, 9, 10}\n",
      "  - 2024: {0, 1, 2, 3, 4, 5, 6, 7, 8, 9, 10, 12}\n",
      "----------------------------------------\n",
      "Valores homogéneos para la variable 'ideccfr':\n",
      "  - 2004: {0.0, 1.0, 2.0, 3.0, 4.0, 5.0, 6.0, 7.0, 8.0, 9.0, 10.0}\n",
      "  - 2024: {0.0, 1.0, 2.0, 3.0, 4.0, 5.0, 6.0, 7.0, 8.0, 9.0, 10.0, 12.0}\n",
      "----------------------------------------\n",
      "Valores homogéneos para la variable 'rdeccfr':\n",
      "  - 2004: {0, 1, 2, 3, 4, 5, 6, 7, 8, 9, 10}\n",
      "  - 2024: {0, 1, 2, 3, 4, 5, 6, 7, 8, 9, 10, 12}\n",
      "----------------------------------------\n",
      "Valores homogéneos para la variable 'gdeccfr':\n",
      "  - 2004: {0.0, 1.0, 2.0, 3.0, 4.0, 5.0, 6.0, 7.0, 8.0, 9.0, 10.0}\n",
      "  - 2024: {0.0, 1.0, 2.0, 3.0, 4.0, 5.0, 6.0, 7.0, 8.0, 9.0, 10.0, 12.0}\n",
      "----------------------------------------\n",
      "Valores homogéneos para la variable 'pdeccfr':\n",
      "  - 2004: {0.0, 1.0, 2.0, 3.0, 4.0, 5.0, 6.0, 7.0, 8.0, 9.0, 10.0}\n",
      "  - 2024: {0.0, 1.0, 2.0, 3.0, 4.0, 5.0, 6.0, 7.0, 8.0, 9.0, 10.0, 12.0}\n",
      "----------------------------------------\n",
      "Valores homogéneos para la variable 'adeccfr':\n",
      "  - 2004: {0, 1, 2, 3, 4, 5, 6, 7, 8, 9, 10}\n",
      "  - 2024: {0, 1, 2, 3, 4, 5, 6, 7, 8, 9, 10, 12}\n",
      "----------------------------------------\n"
     ]
    }
   ],
   "source": [
    "## Vemos que hay diferencias de codificación entre las variables.\n",
    "# El paso siguiente es realizar la homogeinización de aquellas variables de la lista, para poder realizar la limpieza.\n",
    "\n",
    "def homogeneizar_variable(df, var):\n",
    "    df[var] = df[var].replace(' ', pd.NA)\n",
    "    df[var] = pd.to_numeric(df[var], errors='coerce')\n",
    "\n",
    "# Homogeneizamos cada variable\n",
    "variables_con_problemas = ['deccfr', 'ideccfr', 'rdeccfr', 'gdeccfr', 'pdeccfr', 'adeccfr']\n",
    "\n",
    "for var in variables_con_problemas:\n",
    "    homogeneizar_variable(df_04, var)\n",
    "    df_24[var] = pd.to_numeric(df_24[var], errors='coerce')\n",
    "\n",
    "# Verificamos los resultados\n",
    "for var in variables_con_problemas:\n",
    "    print(f\"Valores homogéneos para la variable '{var}':\")\n",
    "    print(f\"  - 2004: {set(df_04[var].dropna().unique())}\")\n",
    "    print(f\"  - 2024: {set(df_24[var].dropna().unique())}\")\n",
    "    print(\"-\" * 40)"
   ]
  },
  {
   "cell_type": "code",
   "execution_count": 5,
   "id": "bcb883ce-09fe-4ca3-8289-869bcbe72067",
   "metadata": {},
   "outputs": [],
   "source": [
    "common_columns = df_04.columns.intersection(df_24.columns)\n",
    "df_04 = df_04[common_columns]\n",
    "df_24 = df_24[common_columns]\n",
    "\n",
    "df_04.loc[:, 'anio'] = 2004\n",
    "df_24.loc[:, 'anio'] = 2024\n",
    "\n",
    "df_final = pd.concat([df_04, df_24], ignore_index=True)"
   ]
  },
  {
   "cell_type": "code",
   "execution_count": 6,
   "id": "27c0755d-8873-411b-8b70-441764e97613",
   "metadata": {},
   "outputs": [],
   "source": [
    "df_final.to_csv('C:\\\\Users\\\\54115\\\\Desktop\\\\Python\\\\TP2\\\\EPH_2004_2024_unificada.csv', index=False)"
   ]
  },
  {
   "cell_type": "code",
   "execution_count": 8,
   "id": "1010ba43-7ffe-4c27-8161-603f9a61a6b1",
   "metadata": {},
   "outputs": [
    {
     "name": "stderr",
     "output_type": "stream",
     "text": [
      "C:\\Users\\54115\\AppData\\Local\\Temp\\ipykernel_6980\\3863203135.py:19: FutureWarning: The behavior of DataFrame concatenation with empty or all-NA entries is deprecated. In a future version, this will no longer exclude empty or all-NA columns when determining the result dtypes. To retain the old behavior, exclude the relevant entries before the concat operation.\n",
      "  df_gba = pd.concat([df_04_gba, df_24_gba], ignore_index=True)\n"
     ]
    },
    {
     "data": {
      "image/png": "[encoded data removed]",
      "text/plain": [
       "<Figure size 1200x500 with 2 Axes>"
      ]
     },
     "metadata": {},
     "output_type": "display_data"
    }
   ],
   "source": [
    "## Parte 1 - Ejercicio 1\n",
    "\n",
    "import pandas as pd\n",
    "import matplotlib.pyplot as plt\n",
    "import seaborn as sns\n",
    "\n",
    "df_04_gba = df_04[df_04['aglomerado'] == 32].copy()\n",
    "df_24_gba = df_24[df_24['aglomerado'] == 32].copy()\n",
    "\n",
    "df_04_gba['ch06'] = df_04_gba['ch06'].replace(\"Menos de 1 año\", 0)\n",
    "df_04_gba['ch06'] = pd.to_numeric(df_04_gba['ch06'], errors='coerce') # Codificamos los datos de edad de 2004, de tipo \"Categorical\", a tipo numérico\n",
    "df_04_gba['edad2'] = df_04_gba['ch06'] ** 2\n",
    "\n",
    "df_24_gba['ch06'] = df_24_gba['ch06'].replace(\"Menos de 1 año\", 0)\n",
    "df_24_gba['ch06'] = pd.to_numeric(df_24_gba['ch06'], errors='coerce') # Codificamos los datos de edad de 2024, de tipo \"Categorical\", a tipo numérico\n",
    "df_24_gba['edad2'] = df_24_gba['ch06'] ** 2\n",
    "\n",
    "# Concatenamos ambas bases\n",
    "df_gba = pd.concat([df_04_gba, df_24_gba], ignore_index=True)\n",
    "\n",
    "# Panel A: Histograma\n",
    "plt.figure(figsize=(12, 5))\n",
    "\n",
    "plt.subplot(1, 2, 1)\n",
    "sns.histplot(df['ch06'].dropna(), bins=30, kde=False, color='grey')\n",
    "plt.title(\"Gráfico A: Histograma de la variable edad\")\n",
    "plt.xlabel(\"Edad\")\n",
    "plt.ylabel(\"Frecuencia\")\n",
    "\n",
    "# Panel B: Distribución kernel para ocupados y desocupados\n",
    "plt.subplot(1, 2, 2)\n",
    "\n",
    "ocupados = df[df['estado'] == 1]['ch06']\n",
    "desocupados = df[df['estado'] == 2]['ch06']\n",
    "\n",
    "sns.kdeplot(ocupados.dropna(), label='Ocupados', color='blue', fill=True, alpha=0.5)\n",
    "sns.kdeplot(desocupados.dropna(), label='Desocupados', color='red', fill=True, alpha=0.5)\n",
    "\n",
    "plt.title(\"Gráfico B: Distribución de densidad por ocupación\")\n",
    "plt.xlabel(\"Edad\")\n",
    "plt.legend()\n",
    "\n",
    "plt.tight_layout()\n",
    "plt.show()"
   ]
  },
  {
   "cell_type": "code",
   "execution_count": 21,
   "id": "2467f2a7-19a4-4f4d-827c-09d6b15032c0",
   "metadata": {},
   "outputs": [
    {
     "name": "stderr",
     "output_type": "stream",
     "text": [
      "C:\\Users\\54115\\AppData\\Local\\Temp\\ipykernel_6980\\4149498742.py:4: PerformanceWarning: DataFrame is highly fragmented.  This is usually the result of calling `frame.insert` many times, which has poor performance.  Consider joining all columns at once using pd.concat(axis=1) instead. To get a de-fragmented frame, use `newframe = frame.copy()`\n",
      "  df['educ'] = np.empty(df.shape[0], dtype=float)\n"
     ]
    }
   ],
   "source": [
    "import numpy as np\n",
    "\n",
    "def crear_variable_educ(df_gba):\n",
    "    df['educ'] = np.empty(df.shape[0], dtype=float)\n",
    "    \n",
    "    # Asegurar nombres en minúscula\n",
    "    df.columns = df.columns.str.lower()\n",
    "\n",
    "    # Definir mapeo para niveles finalizados\n",
    "    nivel_a_anios = {\n",
    "        1: 1,     # Jardín\n",
    "        2: 7,     # Primaria\n",
    "        3: 9,     # EGB\n",
    "        4: 12,    # Secundaria\n",
    "        5: 12,    # Polimodal\n",
    "        6: 14,    # Terciario\n",
    "        7: 17,    # Universitario\n",
    "        8: 20,    # Posgrado\n",
    "        9: np.nan,   # Educación especial\n",
    "        98: np.nan,  # Educación especial\n",
    "        99: np.nan   # Ns/Nr\n",
    "    }\n",
    "\n",
    "    # Convertir a numéricos\n",
    "    df['ch12'] = pd.to_numeric(df['ch12'], errors='coerce')\n",
    "    df['ch13'] = pd.to_numeric(df['ch13'], errors='coerce')\n",
    "    df['ch14'] = pd.to_numeric(df['ch14'], errors='coerce')\n",
    "\n",
    "    # Inicializar columna educ\n",
    "    df['educ'] = np.nan\n",
    "\n",
    "    # Si completó el nivel, asignar años según mapeo\n",
    "    df.loc[df['ch13'] == 1, 'educ'] = df.loc[df['ch13'] == 1, 'ch12'].map(nivel_a_anios)\n",
    "\n",
    "    # Si no completó el nivel, usar el último año aprobado\n",
    "    df.loc[df['ch13'] == 2, 'educ'] = df.loc[df['ch13'] == 2, 'ch14']\n",
    "\n",
    "    return df\n",
    "\n",
    "df_gba = crear_variable_educ(df_gba)"
   ]
  },
  {
   "cell_type": "code",
   "execution_count": 22,
   "id": "611e9657-09ec-4675-9d6c-3d1237fe3995",
   "metadata": {},
   "outputs": [
    {
     "data": {
      "text/html": [
       "<div>\n",
       "<style scoped>\n",
       "    .dataframe tbody tr th:only-of-type {\n",
       "        vertical-align: middle;\n",
       "    }\n",
       "\n",
       "    .dataframe tbody tr th {\n",
       "        vertical-align: top;\n",
       "    }\n",
       "\n",
       "    .dataframe thead th {\n",
       "        text-align: right;\n",
       "    }\n",
       "</style>\n",
       "<table border=\"1\" class=\"dataframe\">\n",
       "  <thead>\n",
       "    <tr style=\"text-align: right;\">\n",
       "      <th></th>\n",
       "      <th>conteo</th>\n",
       "      <th>promedio</th>\n",
       "      <th>desvío estándar</th>\n",
       "      <th>min</th>\n",
       "      <th>25%</th>\n",
       "      <th>50%</th>\n",
       "      <th>75%</th>\n",
       "      <th>max</th>\n",
       "    </tr>\n",
       "  </thead>\n",
       "  <tbody>\n",
       "    <tr>\n",
       "      <th>educ</th>\n",
       "      <td>1395.0</td>\n",
       "      <td>10.4</td>\n",
       "      <td>11.9</td>\n",
       "      <td>0.0</td>\n",
       "      <td>3.0</td>\n",
       "      <td>12.0</td>\n",
       "      <td>14.0</td>\n",
       "      <td>99.0</td>\n",
       "    </tr>\n",
       "  </tbody>\n",
       "</table>\n",
       "</div>"
      ],
      "text/plain": [
       "      conteo  promedio  desvío estándar  min  25%   50%   75%   max\n",
       "educ  1395.0      10.4             11.9  0.0  3.0  12.0  14.0  99.0"
      ]
     },
     "execution_count": 22,
     "metadata": {},
     "output_type": "execute_result"
    }
   ],
   "source": [
    "# Realizamos la estadística descriptiva, y creamos un DataFrame aparte para una mejor visualización.\n",
    "\n",
    "descripcion_educ = df['educ'].describe()\n",
    "df_descripcion_educ = descripcion_educ.to_frame().T\n",
    "df_descripcion_educ.columns = ['conteo', 'promedio', 'desvío estándar', 'min', '25%', '50%', '75%', 'max']\n",
    "df_descripcion_educ['promedio'] = df_descripcion_educ['promedio'].round(1)\n",
    "df_descripcion_educ['desvío estándar'] = df_descripcion_educ['desvío estándar'].round(1)\n",
    "df_descripcion_educ\n",
    "## La variable 'educ' muestra los años de educación formal. Los datos de la estadística arrojan un promedio de 8 años, con un desvío estándar de 11,6. El 50% de las observaciones tuvieron 7 años de educación formal."
   ]
  },
  {
   "cell_type": "code",
   "execution_count": null,
   "id": "af2a9f90-4264-487d-a111-fa764d30213a",
   "metadata": {},
   "outputs": [],
   "source": [
    "#parte 1, ejercicio 3\n",
    "import pandas as pd\n",
    "import matplotlib.pyplot as plt\n",
    "import seaborn as sns\n",
    "import numpy as np\n",
    "# Creo la variable salario_semanal\n",
    "# Divido ingresos habituales (P21) por 40 para obtener el salario semanal\n",
    "df['salario_semanal'] = df['P21'] / 40\n",
    "\n",
    "# Ajusto los pesos de 2004 a pesos de 2024\n",
    "# Ajustar los pesos de 2004 a pesos de 2024\n",
    "indice_ajuste = 822.2\n",
    "df['salario_semanal_ajustado'] = df['salario_semanal']\n",
    "df.loc[df['anio'] == 2004, 'salario_semanal_ajustado'] *= indice_ajuste\n",
    "\n",
    "# Creo un histograma de salario_semanal_ajustado (Panel A)\n",
    "plt.figure(figsize=(10, 6))\n",
    "sns.histplot(df['salario_semanal_ajustado'], kde=False, bins=30, color='blue')\n",
    "plt.title(\"Histograma de Salario Semanal Ajustado\")\n",
    "plt.xlabel(\"Salario Semanal Ajustado (Pesos de 2024)\")\n",
    "plt.ylabel(\"Frecuencia\")\n",
    "plt.show()\n",
    "\n",
    "# Creo distribuciones de kernel para ocupados y desocupados (Panel B)\n",
    "plt.figure(figsize=(10, 6))\n",
    "sns.kdeplot(df.loc[df['ocupacion'] == 'ocupado', 'salario_semanal_ajustado'], label=\"Ocupados\", shade=True, color='green')\n",
    "sns.kdeplot(df.loc[df['ocupacion'] == 'desocupado', 'salario_semanal_ajustado'], label=\"Desocupados\", shade=True, color='red')\n",
    "plt.title(\"Distribución de Kernel de Salarios para Ocupados y Desocupados\")\n",
    "plt.xlabel(\"Salario Semanal Ajustado (Pesos de 2024)\")\n",
    "plt.ylabel(\"Densidad\")\n",
    "plt.legend()\n",
    "plt.show()"
   ]
  }
 ],
 "metadata": {
  "kernelspec": {
   "display_name": "Python 3 (ipykernel)",
   "language": "python",
   "name": "python3"
  },
  "language_info": {
   "codemirror_mode": {
    "name": "ipython",
    "version": 3
   },
   "file_extension": ".py",
   "mimetype": "text/x-python",
   "name": "python",
   "nbconvert_exporter": "python",
   "pygments_lexer": "ipython3",
   "version": "3.12.7"
  }
 },
 "nbformat": 4,
 "nbformat_minor": 5
}
