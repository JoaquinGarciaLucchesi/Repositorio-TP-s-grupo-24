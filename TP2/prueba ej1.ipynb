{
 "cells": [
  {
   "cell_type": "code",
   "execution_count": 20,
   "id": "1bfc0f43-762b-4512-8b44-6edc02f59501",
   "metadata": {},
   "outputs": [],
   "source": [
    "import pandas as pd"
   ]
  },
  {
   "cell_type": "code",
   "execution_count": 21,
   "id": "4ec6b1c3-7aaf-4f6f-87c2-28d5b38b757e",
   "metadata": {},
   "outputs": [
    {
     "name": "stdout",
     "output_type": "stream",
     "text": [
      "C:\\Users\\54115\\Desktop\\Python\n"
     ]
    }
   ],
   "source": [
    "import os\n",
    "print(os.getcwd())\n"
   ]
  },
  {
   "cell_type": "code",
   "execution_count": 25,
   "id": "fba1d3ee-645b-4332-a0f8-21504a73491f",
   "metadata": {},
   "outputs": [
    {
     "name": "stdout",
     "output_type": "stream",
     "text": [
      "     CODUSU  nro_hogar componente h15    ano4       trimestre  \\\n",
      "0  125098          1.0        1.0  Sí  2004.0  1er. Trimestre   \n",
      "1  125397          1.0        1.0  Sí  2004.0  1er. Trimestre   \n",
      "2  125515          1.0        1.0  Sí  2004.0  1er. Trimestre   \n",
      "3  125558          1.0        1.0  Sí  2004.0  1er. Trimestre   \n",
      "4  125558          1.0        2.0  Sí  2004.0  1er. Trimestre   \n",
      "\n",
      "              region mas_500              aglomerado  pondera  ... deccfr  \\\n",
      "0  Gran Buenos Aires       S  Ciudad de Buenos Aires   1299.0  ...     07   \n",
      "1  Gran Buenos Aires       S  Ciudad de Buenos Aires   2018.0  ...     00   \n",
      "2  Gran Buenos Aires       S  Ciudad de Buenos Aires   1486.0  ...     07   \n",
      "3  Gran Buenos Aires       S  Ciudad de Buenos Aires   1674.0  ...     08   \n",
      "4  Gran Buenos Aires       S  Ciudad de Buenos Aires   1674.0  ...     08   \n",
      "\n",
      "  ideccfr rdeccfr gdeccfr pdeccfr adeccfr pj1_1 pj2_1 pj3_1 idimpp  \n",
      "0              06      06              04   0.0   0.0   0.0  00000  \n",
      "1              00      00              00   0.0   0.0   0.0  00000  \n",
      "2              07      07              05   0.0   0.0   0.0  00020  \n",
      "3              08      08              06   0.0   0.0   0.0  00000  \n",
      "4              08      08              06   0.0   0.0   0.0  00000  \n",
      "\n",
      "[5 rows x 176 columns]\n"
     ]
    }
   ],
   "source": [
    "ruta_dta = 'C:\\\\Users\\\\54115\\\\Desktop\\\\Python\\\\TP2\\\\usu_individual_T104.dta'\n",
    "df_dta = pd.read_stata(ruta_dta)\n",
    "print(df_dta.head())"
   ]
  },
  {
   "cell_type": "code",
   "execution_count": null,
   "id": "050b5e3f-1117-4e3b-9c7b-ecb7ed392bee",
   "metadata": {},
   "outputs": [],
   "source": [
    "ruta_xls = 'C:\\\\Users\\\\54115\\\\Desktop\\\\Python\\\\TP2\\\\usu_individual_T124.xlsx'\n",
    "df_xls = pd.read_excel(ruta_xls, engine=\"openpyxl\")\n",
    "print(df_xls.head())"
   ]
  },
  {
   "cell_type": "code",
   "execution_count": null,
   "id": "4fb86d5c-fdf9-403e-8f55-1d0509608ffb",
   "metadata": {},
   "outputs": [],
   "source": []
  }
 ],
 "metadata": {
  "kernelspec": {
   "display_name": "Python 3 (ipykernel)",
   "language": "python",
   "name": "python3"
  },
  "language_info": {
   "codemirror_mode": {
    "name": "ipython",
    "version": 3
   },
   "file_extension": ".py",
   "mimetype": "text/x-python",
   "name": "python",
   "nbconvert_exporter": "python",
   "pygments_lexer": "ipython3",
   "version": "3.12.7"
  }
 },
 "nbformat": 4,
 "nbformat_minor": 5
}
