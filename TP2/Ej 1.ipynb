{
 "cells": [
  {
   "cell_type": "code",
   "execution_count": 1,
   "id": "1bfc0f43-762b-4512-8b44-6edc02f59501",
   "metadata": {},
   "outputs": [],
   "source": [
    "import pandas as pd"
   ]
  },
  {
   "cell_type": "code",
   "execution_count": 2,
   "id": "4ec6b1c3-7aaf-4f6f-87c2-28d5b38b757e",
   "metadata": {},
   "outputs": [
    {
     "name": "stdout",
     "output_type": "stream",
     "text": [
      "C:\\Users\\54115\\Desktop\\Python\n"
     ]
    }
   ],
   "source": [
    "import os\n",
    "print(os.getcwd())\n"
   ]
  },
  {
   "cell_type": "code",
   "execution_count": 3,
   "id": "fba1d3ee-645b-4332-a0f8-21504a73491f",
   "metadata": {},
   "outputs": [
    {
     "name": "stdout",
     "output_type": "stream",
     "text": [
      "     CODUSU  nro_hogar componente h15    ano4       trimestre  \\\n",
      "0  125098          1.0        1.0  Sí  2004.0  1er. Trimestre   \n",
      "1  125397          1.0        1.0  Sí  2004.0  1er. Trimestre   \n",
      "2  125515          1.0        1.0  Sí  2004.0  1er. Trimestre   \n",
      "3  125558          1.0        1.0  Sí  2004.0  1er. Trimestre   \n",
      "4  125558          1.0        2.0  Sí  2004.0  1er. Trimestre   \n",
      "\n",
      "              region mas_500              aglomerado  pondera  ... deccfr  \\\n",
      "0  Gran Buenos Aires       S  Ciudad de Buenos Aires   1299.0  ...     07   \n",
      "1  Gran Buenos Aires       S  Ciudad de Buenos Aires   2018.0  ...     00   \n",
      "2  Gran Buenos Aires       S  Ciudad de Buenos Aires   1486.0  ...     07   \n",
      "3  Gran Buenos Aires       S  Ciudad de Buenos Aires   1674.0  ...     08   \n",
      "4  Gran Buenos Aires       S  Ciudad de Buenos Aires   1674.0  ...     08   \n",
      "\n",
      "  ideccfr rdeccfr gdeccfr pdeccfr adeccfr pj1_1 pj2_1 pj3_1 idimpp  \n",
      "0              06      06              04   0.0   0.0   0.0  00000  \n",
      "1              00      00              00   0.0   0.0   0.0  00000  \n",
      "2              07      07              05   0.0   0.0   0.0  00020  \n",
      "3              08      08              06   0.0   0.0   0.0  00000  \n",
      "4              08      08              06   0.0   0.0   0.0  00000  \n",
      "\n",
      "[5 rows x 176 columns]\n"
     ]
    }
   ],
   "source": [
    "ruta_dta = 'C:\\\\Users\\\\54115\\\\Desktop\\\\Python\\\\TP2\\\\usu_individual_T104.dta'\n",
    "df_dta = pd.read_stata(ruta_dta)\n",
    "print(df_dta.head())"
   ]
  },
  {
   "cell_type": "code",
   "execution_count": 4,
   "id": "050b5e3f-1117-4e3b-9c7b-ecb7ed392bee",
   "metadata": {},
   "outputs": [
    {
     "name": "stdout",
     "output_type": "stream",
     "text": [
      "                          CODUSU  ANO4  TRIMESTRE  NRO_HOGAR  COMPONENTE  H15  \\\n",
      "0  TQRMNOPUTHLMKQCDEGGFB00852588  2024          1          1           3    1   \n",
      "1  TQRMNOPUTHLMKQCDEGGFB00852588  2024          1          1           4    1   \n",
      "2  TQRMNOPUTHLMKQCDEGGFB00852588  2024          1          1           5    0   \n",
      "3  TQRMNOPPWHLLKRCDEGGFB00852574  2024          1          1           1    1   \n",
      "4  TQRMNOPPWHLLKRCDEGGFB00852574  2024          1          1           2    1   \n",
      "\n",
      "   REGION MAS_500  AGLOMERADO  PONDERA  ...  PDECIFR  ADECIFR      IPCF  \\\n",
      "0      42       S          10      439  ...      NaN       12       0.0   \n",
      "1      42       S          10      439  ...      NaN       12       0.0   \n",
      "2      42       S          10      439  ...      NaN       12       0.0   \n",
      "3      42       S          10      675  ...      NaN        8  212500.0   \n",
      "4      42       S          10      675  ...      NaN        8  212500.0   \n",
      "\n",
      "   DECCFR  IDECCFR  RDECCFR  GDECCFR  PDECCFR  ADECCFR  PONDIH  \n",
      "0      12     12.0       12     12.0      NaN       12       0  \n",
      "1      12     12.0       12     12.0      NaN       12       0  \n",
      "2      12     12.0       12     12.0      NaN       12       0  \n",
      "3       6      6.0        6      6.0      NaN        6    1610  \n",
      "4       6      6.0        6      6.0      NaN        6    1610  \n",
      "\n",
      "[5 rows x 177 columns]\n"
     ]
    }
   ],
   "source": [
    "ruta_xls = 'C:\\\\Users\\\\54115\\\\Desktop\\\\Python\\\\TP2\\\\usu_individual_T124.xlsx'\n",
    "df_xls = pd.read_excel(ruta_xls, engine=\"openpyxl\")\n",
    "print(df_xls.head())"
   ]
  },
  {
   "cell_type": "code",
   "execution_count": 5,
   "id": "4fb86d5c-fdf9-403e-8f55-1d0509608ffb",
   "metadata": {},
   "outputs": [],
   "source": [
    "eph_04 = pd.read_stata(ruta_dta)\n",
    "eph_24 = pd.read_excel(ruta_xls, engine='openpyxl')\n",
    "\n",
    "eph_24.columns = eph_24.columns.str.lower()"
   ]
  },
  {
   "cell_type": "code",
   "execution_count": 6,
   "id": "a37f7bce-ac16-43c1-8a76-18ce20145752",
   "metadata": {},
   "outputs": [
    {
     "name": "stderr",
     "output_type": "stream",
     "text": [
      "C:\\Users\\54115\\AppData\\Local\\Temp\\ipykernel_19120\\136780333.py:4: FutureWarning: The behavior of DataFrame concatenation with empty or all-NA entries is deprecated. In a future version, this will no longer exclude empty or all-NA columns when determining the result dtypes. To retain the old behavior, exclude the relevant entries before the concat operation.\n",
      "  eph_gba = pd.concat([gba_04, gba_24], ignore_index=True)\n"
     ]
    }
   ],
   "source": [
    "gba_04 = eph_04[eph_04[\"region\"] == 1].copy()\n",
    "gba_24 = eph_24[eph_24[\"region\"] == 1].copy()\n",
    "\n",
    "eph_gba = pd.concat([gba_04, gba_24], ignore_index=True)"
   ]
  },
  {
   "cell_type": "code",
   "execution_count": 8,
   "id": "fd8fd8be-1b44-4419-8623-4834c1cf2361",
   "metadata": {},
   "outputs": [],
   "source": [
    "# Cambiamos el nombre de ciertas variables para facilitar el análisis\n",
    "eph_gba = eph_gba.rename(columns={\n",
    "    'ch04': 'genero',\n",
    "    'ch06': 'edad',\n",
    "    'ch07': 'estado_civil',\n",
    "    'ch08': 'cobertura_medica',\n",
    "    'nivel_ed': 'nivel_educativo',\n",
    "    'cat_inac': 'categoria_inactividad',\n",
    "    'ipcf': 'ingreso_per_capita_familiar',\n",
    "})"
   ]
  },
  {
   "cell_type": "code",
   "execution_count": 10,
   "id": "3a549106-27d8-4307-99af-570902e6f98e",
   "metadata": {},
   "outputs": [
    {
     "name": "stdout",
     "output_type": "stream",
     "text": [
      "        genero  edad  estado_civil  cobertura_medica  nivel_educativo  estado  \\\n",
      "ano4                                                                            \n",
      "2024.0       0     0             0                 0                0       0   \n",
      "\n",
      "        categoria_inactividad  ingreso_per_capita_familiar  ano4  \n",
      "ano4                                                              \n",
      "2024.0                      0                            0     0  \n"
     ]
    }
   ],
   "source": [
    "variab_interes = [\n",
    "    'genero', 'edad', 'estado_civil', 'cobertura_medica', 'nivel_educativo', 'estado',\n",
    "    'categoria_inactividad', 'ingreso_per_capita_familiar', 'ano4', \n",
    "]\n",
    "\n",
    "eph_gba_selected = eph_gba[variab_interes]\n",
    "na_count = eph_gba_selected.groupby('ano4')[variab_interes].apply(lambda x: x.isna().sum())\n",
    "print(na_count)"
   ]
  },
  {
   "cell_type": "code",
   "execution_count": 12,
   "id": "b1297ddb-3853-44fa-87cc-e84e8e568277",
   "metadata": {},
   "outputs": [
    {
     "name": "stdout",
     "output_type": "stream",
     "text": [
      "0       1\n",
      "1       1\n",
      "2       1\n",
      "3       1\n",
      "4       1\n",
      "       ..\n",
      "7046    1\n",
      "7047    1\n",
      "7048    1\n",
      "7049    1\n",
      "7050    1\n",
      "Name: cobertura_medica, Length: 7051, dtype: object\n"
     ]
    }
   ],
   "source": [
    "print(eph_gba_selected['cobertura_medica'].dropna())"
   ]
  },
  {
   "cell_type": "code",
   "execution_count": 14,
   "id": "80f43b4b-10b1-4609-bdb8-ce365bfbb1bb",
   "metadata": {},
   "outputs": [
    {
     "name": "stdout",
     "output_type": "stream",
     "text": [
      "   cobertura_medica  cobertura_medica_num\n",
      "0                 1                   NaN\n",
      "1                 1                   NaN\n",
      "2                 1                   NaN\n",
      "3                 1                   NaN\n",
      "4                 1                   NaN\n",
      "5                 1                   NaN\n",
      "6                 1                   NaN\n",
      "7                 1                   NaN\n",
      "8                 4                   NaN\n",
      "9                 1                   NaN\n",
      "10                1                   NaN\n",
      "11                4                   NaN\n",
      "12                1                   NaN\n",
      "13                4                   NaN\n",
      "14                4                   NaN\n",
      "15                4                   NaN\n",
      "16                4                   NaN\n",
      "17                1                   NaN\n",
      "18                1                   NaN\n",
      "19                1                   NaN\n",
      "20                1                   NaN\n",
      "21                1                   NaN\n",
      "22                1                   NaN\n",
      "23                1                   NaN\n",
      "24                2                   NaN\n"
     ]
    }
   ],
   "source": [
    "mapa_cobertura = {\n",
    "    'Obra social (incluye PAMI)': 1,\n",
    "    'Mutual/Prepaga/Servicio de emergencia': 2,\n",
    "    'Planes y seguros públicos': 3,\n",
    "    'No paga ni le descuentan': 4,\n",
    "    'Obra social y mutual/prepaga/servicio de emergencia': 12,\n",
    "    'Obra social y planes y seguros públicos': 13,\n",
    "    'Mutual/prepaga/servicio de emergencia/planes y seguros públi': 23,\n",
    "    'Obra social, mutual/prepaga/servicio de emergencia y planes': 123\n",
    "}\n",
    "\n",
    "eph_gba_selected = eph_gba_selected.copy()\n",
    "eph_gba_selected['cobertura_medica_num'] = eph_gba_selected['cobertura_medica'].map(mapa_cobertura)\n",
    "print(eph_gba_selected[['cobertura_medica', 'cobertura_medica_num']].head(25))"
   ]
  },
  {
   "cell_type": "code",
   "execution_count": 19,
   "id": "6487eeaa-c92c-4a53-a997-502ab2b67f57",
   "metadata": {},
   "outputs": [
    {
     "name": "stdout",
     "output_type": "stream",
     "text": [
      "   genero edad estado_civil cobertura_medica nivel_educativo estado  \\\n",
      "0       2   85            4                1               2      1   \n",
      "1       1   59            2                1               6      1   \n",
      "2       2   57            2                1               6      1   \n",
      "3       1   26            5                1               6      1   \n",
      "4       2   88            4                1               1      3   \n",
      "5       2   81            3                1               2      1   \n",
      "6       1   43            3                1               4      1   \n",
      "7       1   66            3                1               6      1   \n",
      "8       2   50            5                4               4      1   \n",
      "9       1   30            5                1               3      1   \n",
      "10      2   30            3                1               4      1   \n",
      "11      1   10            5                4               1      3   \n",
      "12      1    5            5                1               7      4   \n",
      "13      1   46            2                4               4      1   \n",
      "14      2   49            2                4               2      0   \n",
      "15      2   25            5                4               6      0   \n",
      "16      1   20            5                4               5      0   \n",
      "17      2   56            3                1               2      1   \n",
      "18      2   61            4                1               3      3   \n",
      "19      1   62            2                1               5      1   \n",
      "\n",
      "   categoria_inactividad  ingreso_per_capita_familiar    ano4  \\\n",
      "0                      0                          0.0  2024.0   \n",
      "1                      0                          0.0  2024.0   \n",
      "2                      0                          0.0  2024.0   \n",
      "3                      0                     500000.0  2024.0   \n",
      "4                      1                          0.0  2024.0   \n",
      "5                      0                          0.0  2024.0   \n",
      "6                      0                          0.0  2024.0   \n",
      "7                      0                    1620000.0  2024.0   \n",
      "8                      0                          0.0  2024.0   \n",
      "9                      0                          0.0  2024.0   \n",
      "10                     0                          0.0  2024.0   \n",
      "11                     3                          0.0  2024.0   \n",
      "12                     5                          0.0  2024.0   \n",
      "13                     0                          0.0  2024.0   \n",
      "14                     0                          0.0  2024.0   \n",
      "15                     0                          0.0  2024.0   \n",
      "16                     0                          0.0  2024.0   \n",
      "17                     0                     350000.0  2024.0   \n",
      "18                     1                     135000.0  2024.0   \n",
      "19                     0                          0.0  2024.0   \n",
      "\n",
      "    cobertura_medica_num  \n",
      "0                    NaN  \n",
      "1                    NaN  \n",
      "2                    NaN  \n",
      "3                    NaN  \n",
      "4                    NaN  \n",
      "5                    NaN  \n",
      "6                    NaN  \n",
      "7                    NaN  \n",
      "8                    NaN  \n",
      "9                    NaN  \n",
      "10                   NaN  \n",
      "11                   NaN  \n",
      "12                   NaN  \n",
      "13                   NaN  \n",
      "14                   NaN  \n",
      "15                   NaN  \n",
      "16                   NaN  \n",
      "17                   NaN  \n",
      "18                   NaN  \n",
      "19                   NaN  \n"
     ]
    }
   ],
   "source": [
    "print(eph_gba_selected.head(20))"
   ]
  },
  {
   "cell_type": "code",
   "execution_count": null,
   "id": "1189c9fc-018f-4c4d-9e8c-d7883bacd4c8",
   "metadata": {},
   "outputs": [],
   "source": []
  }
 ],
 "metadata": {
  "kernelspec": {
   "display_name": "Python 3 (ipykernel)",
   "language": "python",
   "name": "python3"
  },
  "language_info": {
   "codemirror_mode": {
    "name": "ipython",
    "version": 3
   },
   "file_extension": ".py",
   "mimetype": "text/x-python",
   "name": "python",
   "nbconvert_exporter": "python",
   "pygments_lexer": "ipython3",
   "version": "3.12.7"
  }
 },
 "nbformat": 4,
 "nbformat_minor": 5
}
