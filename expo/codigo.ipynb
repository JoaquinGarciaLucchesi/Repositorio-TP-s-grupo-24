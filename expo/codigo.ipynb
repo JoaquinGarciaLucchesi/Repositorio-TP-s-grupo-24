{
 "cells": [
  {
   "cell_type": "code",
   "execution_count": 20,
   "id": "ad8d9e28-94d7-4e08-98af-19cee2ee76db",
   "metadata": {},
   "outputs": [
    {
     "name": "stdout",
     "output_type": "stream",
     "text": [
      "    año         mes      fecha\n",
      "0  2017       Junio 2017-06-01\n",
      "1  2017       Julio 2017-07-01\n",
      "2  2017      Agosto 2017-08-01\n",
      "3  2017  Septiembre 2017-09-01\n",
      "4  2017     Octubre 2017-10-01\n"
     ]
    }
   ],
   "source": [
    "# Cargamos la base de datos de precios deflactada\n",
    "\n",
    "import pandas as pd\n",
    "\n",
    "df = pd.read_excel('precio_pan_deflactado.xlsx')\n",
    "df.columns = df.columns.str.strip().str.lower()\n",
    "\n",
    "## Creamos la columna de fecha\n",
    "\n",
    "meses = {\n",
    "    'enero': 1, 'febrero': 2, 'marzo': 3, 'abril': 4,\n",
    "    'mayo': 5, 'junio': 6, 'julio': 7, 'agosto': 8,\n",
    "    'septiembre': 9, 'octubre': 10, 'noviembre': 11, 'diciembre': 12\n",
    "}\n",
    "df['mes_num'] = df['mes'].str.lower().map(meses)\n",
    "df['fecha'] = pd.to_datetime(dict(year=df['año'], month=df['mes_num'], day=1))\n",
    "df = df.sort_values('fecha').reset_index(drop=True)\n",
    "print(df[['año', 'mes', 'fecha']].head())"
   ]
  },
  {
   "cell_type": "code",
   "execution_count": 21,
   "id": "9adc483f-ee0c-4d76-8d5b-5babf1eca4f7",
   "metadata": {},
   "outputs": [],
   "source": [
    "df['precio_real_pan'] = df['precio deflactado']\n",
    "\n",
    "# Separamos en datos de entrenamiento y testeo\n",
    "# Datos de entrenamiento (2017-2023)\n",
    "\n",
    "df_train = df[df['fecha'] < '2024-01-01'].copy()\n",
    "\n",
    "# Datos de testeo (2024 en adelante)\n",
    "\n",
    "df_test = df[df['fecha'] >= '2024-01-01'].copy()"
   ]
  },
  {
   "cell_type": "code",
   "execution_count": 23,
   "id": "0b6ded86-6ed3-4f94-9517-478ceae33e39",
   "metadata": {},
   "outputs": [
    {
     "name": "stdout",
     "output_type": "stream",
     "text": [
      "Intercepto (β0): 2.4966342448547962\n",
      "Coeficiente (β1): 0.9436591628760415\n"
     ]
    }
   ],
   "source": [
    "df['precio_real_pan'] = pd.to_numeric(df['precio deflactado'], errors='coerce')\n",
    "\n",
    "# Creamos la variable rezagada (lag) de pan en t-1.\n",
    "df['pan_t_menos_1'] = df['precio_real_pan'].shift(1)\n",
    "df = df.dropna(subset=['precio_real_pan', 'pan_t_menos_1'])\n",
    "df_train = df[df['fecha'] < '2024-01-01'].copy()\n",
    "\n",
    "# Creamos las variables\n",
    "X = df_train[['pan_t_menos_1']]\n",
    "y = df_train['precio_real_pan']\n",
    "\n",
    "modelo = LinearRegression()\n",
    "modelo.fit(X, y)\n",
    "print(\"Intercepto (β0):\", modelo.intercept_)\n",
    "print(\"Coeficiente (β1):\", modelo.coef_[0])"
   ]
  },
  {
   "cell_type": "code",
   "execution_count": null,
   "id": "5d501f7c-3415-4426-804f-95427517c751",
   "metadata": {},
   "outputs": [],
   "source": []
  }
 ],
 "metadata": {
  "kernelspec": {
   "display_name": "Python 3 (ipykernel)",
   "language": "python",
   "name": "python3"
  },
  "language_info": {
   "codemirror_mode": {
    "name": "ipython",
    "version": 3
   },
   "file_extension": ".py",
   "mimetype": "text/x-python",
   "name": "python",
   "nbconvert_exporter": "python",
   "pygments_lexer": "ipython3",
   "version": "3.12.7"
  }
 },
 "nbformat": 4,
 "nbformat_minor": 5
}
