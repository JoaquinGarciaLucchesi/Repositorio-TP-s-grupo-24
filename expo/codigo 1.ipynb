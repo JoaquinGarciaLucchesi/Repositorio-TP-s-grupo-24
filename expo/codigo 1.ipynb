{
 "cells": [
  {
   "cell_type": "code",
   "execution_count": 1,
   "id": "be7e83d9-f37a-4d0e-9d2b-a8806e17f154",
   "metadata": {},
   "outputs": [],
   "source": [
    "import pandas as pd\n",
    "import os\n",
    "import numpy as np\n",
    "from matplotlib import pyplot as plt\n",
    "from sklearn.model_selection import train_test_split\n",
    "from sklearn.linear_model import LinearRegression\n",
    "from sklearn.preprocessing import PolynomialFeatures \n",
    "from sklearn.metrics import mean_squared_error\n",
    "from sklearn.metrics import r2_score"
   ]
  },
  {
   "cell_type": "code",
   "execution_count": 2,
   "id": "28d69582-c032-496d-9434-9d9117869aa6",
   "metadata": {},
   "outputs": [],
   "source": [
    "df = pd.read_excel('C:\\\\Users\\\\54115\\\\Desktop\\\\BIG DATA\\\\Python\\\\exposicion\\\\precio_pan_deflactado.xlsx')\n",
    "df=df.round(2)\n",
    "df['Mes'] = df['Mes'].replace({\n",
    "    \"Enero\":\"January\",\"Enero \" :\"January\",\n",
    "    'Febrero': 'February',\"Marzo\":\"March\",\n",
    "    'Abril': 'April',\"Mayo\":\"May\",\"Junio\":\"June\",\"Julio\":\"July\",\"Agosto\":\"August\",\n",
    "    \"Septiembre\":\"September\",\"Octubre\":\"October\",\"Noviembre\":\"November\",\"Diciembre\":\"December\"\n",
    "})"
   ]
  },
  {
   "cell_type": "code",
   "execution_count": 3,
   "id": "8413249e-2e3f-4e3c-8d34-f7a3ca7653a4",
   "metadata": {},
   "outputs": [
    {
     "data": {
      "text/html": [
       "<div>\n",
       "<style scoped>\n",
       "    .dataframe tbody tr th:only-of-type {\n",
       "        vertical-align: middle;\n",
       "    }\n",
       "\n",
       "    .dataframe tbody tr th {\n",
       "        vertical-align: top;\n",
       "    }\n",
       "\n",
       "    .dataframe thead th {\n",
       "        text-align: right;\n",
       "    }\n",
       "</style>\n",
       "<table border=\"1\" class=\"dataframe\">\n",
       "  <thead>\n",
       "    <tr style=\"text-align: right;\">\n",
       "      <th></th>\n",
       "      <th>Año</th>\n",
       "      <th>Mes</th>\n",
       "      <th>Pan francés(kg)</th>\n",
       "      <th>IPC mensual</th>\n",
       "      <th>Índice IPC</th>\n",
       "      <th>IPC (base junio 2017 = 100)</th>\n",
       "      <th>Precio deflactado</th>\n",
       "      <th>month_number</th>\n",
       "      <th>month_year</th>\n",
       "    </tr>\n",
       "  </thead>\n",
       "  <tbody>\n",
       "    <tr>\n",
       "      <th>0</th>\n",
       "      <td>2017</td>\n",
       "      <td>June</td>\n",
       "      <td>38.64</td>\n",
       "      <td>-</td>\n",
       "      <td>100.00</td>\n",
       "      <td>100</td>\n",
       "      <td>38.64</td>\n",
       "      <td>6</td>\n",
       "      <td>2017-06-01</td>\n",
       "    </tr>\n",
       "    <tr>\n",
       "      <th>1</th>\n",
       "      <td>2017</td>\n",
       "      <td>July</td>\n",
       "      <td>39.12</td>\n",
       "      <td>1.7</td>\n",
       "      <td>101.70</td>\n",
       "      <td>100</td>\n",
       "      <td>38.47</td>\n",
       "      <td>7</td>\n",
       "      <td>2017-07-01</td>\n",
       "    </tr>\n",
       "    <tr>\n",
       "      <th>2</th>\n",
       "      <td>2017</td>\n",
       "      <td>August</td>\n",
       "      <td>39.43</td>\n",
       "      <td>1.4</td>\n",
       "      <td>103.12</td>\n",
       "      <td>100</td>\n",
       "      <td>38.24</td>\n",
       "      <td>8</td>\n",
       "      <td>2017-08-01</td>\n",
       "    </tr>\n",
       "    <tr>\n",
       "      <th>3</th>\n",
       "      <td>2017</td>\n",
       "      <td>September</td>\n",
       "      <td>39.71</td>\n",
       "      <td>1.9</td>\n",
       "      <td>105.08</td>\n",
       "      <td>100</td>\n",
       "      <td>37.79</td>\n",
       "      <td>9</td>\n",
       "      <td>2017-09-01</td>\n",
       "    </tr>\n",
       "    <tr>\n",
       "      <th>4</th>\n",
       "      <td>2017</td>\n",
       "      <td>October</td>\n",
       "      <td>39.89</td>\n",
       "      <td>1.5</td>\n",
       "      <td>106.66</td>\n",
       "      <td>100</td>\n",
       "      <td>37.40</td>\n",
       "      <td>10</td>\n",
       "      <td>2017-10-01</td>\n",
       "    </tr>\n",
       "    <tr>\n",
       "      <th>...</th>\n",
       "      <td>...</td>\n",
       "      <td>...</td>\n",
       "      <td>...</td>\n",
       "      <td>...</td>\n",
       "      <td>...</td>\n",
       "      <td>...</td>\n",
       "      <td>...</td>\n",
       "      <td>...</td>\n",
       "      <td>...</td>\n",
       "    </tr>\n",
       "    <tr>\n",
       "      <th>89</th>\n",
       "      <td>2024</td>\n",
       "      <td>November</td>\n",
       "      <td>3040.97</td>\n",
       "      <td>2.4</td>\n",
       "      <td>6678.45</td>\n",
       "      <td>100</td>\n",
       "      <td>45.53</td>\n",
       "      <td>11</td>\n",
       "      <td>2024-11-01</td>\n",
       "    </tr>\n",
       "    <tr>\n",
       "      <th>90</th>\n",
       "      <td>2024</td>\n",
       "      <td>December</td>\n",
       "      <td>3095.49</td>\n",
       "      <td>2.7</td>\n",
       "      <td>6858.77</td>\n",
       "      <td>100</td>\n",
       "      <td>45.13</td>\n",
       "      <td>12</td>\n",
       "      <td>2024-12-01</td>\n",
       "    </tr>\n",
       "    <tr>\n",
       "      <th>91</th>\n",
       "      <td>2025</td>\n",
       "      <td>January</td>\n",
       "      <td>3154.17</td>\n",
       "      <td>2.2</td>\n",
       "      <td>7009.66</td>\n",
       "      <td>100</td>\n",
       "      <td>45.00</td>\n",
       "      <td>1</td>\n",
       "      <td>2025-01-01</td>\n",
       "    </tr>\n",
       "    <tr>\n",
       "      <th>92</th>\n",
       "      <td>2025</td>\n",
       "      <td>February</td>\n",
       "      <td>3212.93</td>\n",
       "      <td>2.4</td>\n",
       "      <td>7177.89</td>\n",
       "      <td>100</td>\n",
       "      <td>44.76</td>\n",
       "      <td>2</td>\n",
       "      <td>2025-02-01</td>\n",
       "    </tr>\n",
       "    <tr>\n",
       "      <th>93</th>\n",
       "      <td>2025</td>\n",
       "      <td>March</td>\n",
       "      <td>3333.96</td>\n",
       "      <td>3.7</td>\n",
       "      <td>7443.47</td>\n",
       "      <td>100</td>\n",
       "      <td>44.79</td>\n",
       "      <td>3</td>\n",
       "      <td>2025-03-01</td>\n",
       "    </tr>\n",
       "  </tbody>\n",
       "</table>\n",
       "<p>94 rows × 9 columns</p>\n",
       "</div>"
      ],
      "text/plain": [
       "     Año        Mes  Pan francés(kg) IPC mensual  Índice IPC  \\\n",
       "0   2017       June            38.64           -      100.00   \n",
       "1   2017       July            39.12         1.7      101.70   \n",
       "2   2017     August            39.43         1.4      103.12   \n",
       "3   2017  September            39.71         1.9      105.08   \n",
       "4   2017    October            39.89         1.5      106.66   \n",
       "..   ...        ...              ...         ...         ...   \n",
       "89  2024   November          3040.97         2.4     6678.45   \n",
       "90  2024   December          3095.49         2.7     6858.77   \n",
       "91  2025    January          3154.17         2.2     7009.66   \n",
       "92  2025   February          3212.93         2.4     7177.89   \n",
       "93  2025      March          3333.96         3.7     7443.47   \n",
       "\n",
       "    IPC (base junio 2017 = 100)  Precio deflactado  month_number month_year  \n",
       "0                           100              38.64             6 2017-06-01  \n",
       "1                           100              38.47             7 2017-07-01  \n",
       "2                           100              38.24             8 2017-08-01  \n",
       "3                           100              37.79             9 2017-09-01  \n",
       "4                           100              37.40            10 2017-10-01  \n",
       "..                          ...                ...           ...        ...  \n",
       "89                          100              45.53            11 2024-11-01  \n",
       "90                          100              45.13            12 2024-12-01  \n",
       "91                          100              45.00             1 2025-01-01  \n",
       "92                          100              44.76             2 2025-02-01  \n",
       "93                          100              44.79             3 2025-03-01  \n",
       "\n",
       "[94 rows x 9 columns]"
      ]
     },
     "execution_count": 3,
     "metadata": {},
     "output_type": "execute_result"
    }
   ],
   "source": [
    "df['month_number'] = pd.to_datetime(df['Mes'], format='%B').dt.month\n",
    "df['month_year'] = df['month_number'].astype(str).str.zfill(2) + '/' + df[\"Año\"].astype(str)\n",
    "df['Precio deflactado'] = df['Precio deflactado'].replace({\"-\":38.64})\n",
    "df[\"month_year\"]=pd.to_datetime(df[\"month_year\"], format=\"%m/%Y\")\n",
    "df[\"Precio deflactado\"]=df[\"Precio deflactado\"].round(2)\n",
    "df"
   ]
  },
  {
   "cell_type": "code",
   "execution_count": 4,
   "id": "879d99cd-a439-4a98-a757-d05c6c9958d9",
   "metadata": {},
   "outputs": [
    {
     "data": {
      "text/plain": [
       "Text(0.5, 1.0, 'Diciembre-Abril , 2017-2025')"
      ]
     },
     "execution_count": 4,
     "metadata": {},
     "output_type": "execute_result"
    },
    {
     "data": {
      "image/png": "[encoded data removed]",
      "text/plain": [
       "<Figure size 1000x500 with 1 Axes>"
      ]
     },
     "metadata": {},
     "output_type": "display_data"
    }
   ],
   "source": [
    "plt.figure(figsize=(10, 5))\n",
    "plt.plot(df['month_year'], df[\"Precio deflactado\"], linestyle='-', color='green')\n",
    "plt.xticks(ticks=plt.xticks()[0][::2])\n",
    "plt.xticks(rotation=45)\n",
    "plt.suptitle('Evolución Precio KG de Pan')\n",
    "plt.xlabel('Mes y año')\n",
    "plt.ylabel('Precio promedio mensual')\n",
    "plt.title('Diciembre-Abril , 2017-2025')"
   ]
  },
  {
   "cell_type": "code",
   "execution_count": 5,
   "id": "84092366-c105-43e6-b2b1-5b94a4c8821d",
   "metadata": {},
   "outputs": [
    {
     "data": {
      "text/plain": [
       "0     38.64\n",
       "1     38.47\n",
       "2     38.24\n",
       "3     37.79\n",
       "4     37.40\n",
       "      ...  \n",
       "89    45.53\n",
       "90    45.13\n",
       "91    45.00\n",
       "92    44.76\n",
       "93    44.79\n",
       "Name: Precio deflactado, Length: 94, dtype: float64"
      ]
     },
     "execution_count": 5,
     "metadata": {},
     "output_type": "execute_result"
    }
   ],
   "source": [
    "import pandas as pd\n",
    "import matplotlib.pyplot as plt\n",
    "from statsmodels.graphics.tsaplots import plot_acf, plot_pacf\n",
    "import statsmodels.api as sm\n",
    "df[\"Precio deflactado\"]"
   ]
  },
  {
   "cell_type": "code",
   "execution_count": 39,
   "id": "36febeba-91df-4028-aad7-fb62ee9bcd09",
   "metadata": {},
   "outputs": [
    {
     "name": "stdout",
     "output_type": "stream",
     "text": [
      "                            OLS Regression Results                            \n",
      "==============================================================================\n",
      "Dep. Variable:      Precio deflactado   R-squared:                       0.426\n",
      "Model:                            OLS   Adj. R-squared:                  0.393\n",
      "Method:                 Least Squares   F-statistic:                     12.91\n",
      "Date:                Mon, 02 Jun 2025   Prob (F-statistic):           2.15e-09\n",
      "Time:                        18:40:40   Log-Likelihood:                -206.12\n",
      "No. Observations:                  93   AIC:                             424.2\n",
      "Df Residuals:                      87   BIC:                             439.4\n",
      "Df Model:                           5                                         \n",
      "Covariance Type:            nonrobust                                         \n",
      "==============================================================================\n",
      "                 coef    std err          t      P>|t|      [0.025      0.975]\n",
      "------------------------------------------------------------------------------\n",
      "precio_1       0.2993      0.075      3.975      0.000       0.150       0.449\n",
      "precio_2      -0.0182      0.082     -0.222      0.824      -0.181       0.144\n",
      "precio_3      -0.0047      0.082     -0.057      0.954      -0.167       0.158\n",
      "precio_4      -0.0009      0.082     -0.011      0.991      -0.164       0.162\n",
      "precio_5       0.0670      0.058      1.153      0.252      -0.049       0.182\n",
      "intercepto    28.2776      1.930     14.654      0.000      24.442      32.113\n",
      "==============================================================================\n",
      "Omnibus:                       26.834   Durbin-Watson:                   0.554\n",
      "Prob(Omnibus):                  0.000   Jarque-Bera (JB):               63.043\n",
      "Skew:                           1.013   Prob(JB):                     2.04e-14\n",
      "Kurtosis:                       6.488   Cond. No.                         757.\n",
      "==============================================================================\n",
      "\n",
      "Notes:\n",
      "[1] Standard Errors assume that the covariance matrix of the errors is correctly specified.\n"
     ]
    },
    {
     "name": "stderr",
     "output_type": "stream",
     "text": [
      "C:\\Users\\54115\\AppData\\Local\\Temp\\ipykernel_12432\\3492074664.py:7: FutureWarning: A value is trying to be set on a copy of a DataFrame or Series through chained assignment using an inplace method.\n",
      "The behavior will change in pandas 3.0. This inplace method will never work because the intermediate object on which we are setting values always behaves as a copy.\n",
      "\n",
      "For example, when doing 'df[col].method(value, inplace=True)', try using 'df.method({col: value}, inplace=True)' or df[col] = df[col].method(value) instead, to perform the operation inplace on the original object.\n",
      "\n",
      "\n",
      "  df[\"precio_1\"].replace([np.nan, np.inf, -np.inf], 0, inplace=True)\n",
      "C:\\Users\\54115\\AppData\\Local\\Temp\\ipykernel_12432\\3492074664.py:8: FutureWarning: A value is trying to be set on a copy of a DataFrame or Series through chained assignment using an inplace method.\n",
      "The behavior will change in pandas 3.0. This inplace method will never work because the intermediate object on which we are setting values always behaves as a copy.\n",
      "\n",
      "For example, when doing 'df[col].method(value, inplace=True)', try using 'df.method({col: value}, inplace=True)' or df[col] = df[col].method(value) instead, to perform the operation inplace on the original object.\n",
      "\n",
      "\n",
      "  df[\"Precio deflactado\"].replace([np.nan, np.inf, -np.inf], 0, inplace=True)\n"
     ]
    }
   ],
   "source": [
    "df[\"precio_1\"] = df[\"Precio deflactado\"].shift(1, fill_value=0)\n",
    "df[\"precio_2\"] = df[\"Precio deflactado\"].shift(2, fill_value=0)\n",
    "df[\"precio_3\"] = df[\"Precio deflactado\"].shift(3, fill_value=0)\n",
    "df[\"precio_4\"] = df[\"Precio deflactado\"].shift(4, fill_value=0)\n",
    "df[\"precio_5\"] = df[\"Precio deflactado\"].shift(5, fill_value=0)\n",
    "df['intercepto'] = 1\n",
    "df[\"precio_1\"].replace([np.nan, np.inf, -np.inf], 0, inplace=True)\n",
    "df[\"Precio deflactado\"].replace([np.nan, np.inf, -np.inf], 0, inplace=True)\n",
    "x=df[[\"precio_1\",\"precio_2\",\"precio_3\",\"precio_4\",\"precio_5\",\"intercepto\"]]\n",
    "y=df[[\"Precio deflactado\"]]\n",
    "model = sm.OLS(y,x)\n",
    "results = model.fit()\n",
    "print(results.summary())"
   ]
  },
  {
   "cell_type": "code",
   "execution_count": 52,
   "id": "e240cdbc-c35c-4a41-b9e7-536f227dcee4",
   "metadata": {},
   "outputs": [
    {
     "data": {
      "image/png": "[encoded data removed]",
      "text/plain": [
       "<Figure size 640x480 with 1 Axes>"
      ]
     },
     "metadata": {},
     "output_type": "display_data"
    }
   ],
   "source": [
    "from statsmodels.graphics.tsaplots import plot_acf\n",
    "import matplotlib.pyplot as plt\n",
    "\n",
    "residuals = results.resid\n",
    "\n",
    "fig, ax = plt.subplots()\n",
    "plot_acf(residuals.squeeze(), lags=92, ax=ax, zero=False)\n",
    "ax.set_xticks(range(1, 92, 4))\n",
    "ax.set_title('Correlograma',fontsize=12)\n",
    "plt.tight_layout()\n",
    "plt.savefig(\"correlograma.png\", dpi=300)\n",
    "plt.show()"
   ]
  },
  {
   "cell_type": "code",
   "execution_count": 8,
   "id": "ff6cd5bc-6110-4b1f-bebf-0b9018d153bb",
   "metadata": {},
   "outputs": [
    {
     "name": "stdout",
     "output_type": "stream",
     "text": [
      "Durbin-Watson: 0.5439372762068908\n"
     ]
    }
   ],
   "source": [
    "from statsmodels.stats.stattools import durbin_watson\n",
    "dw = durbin_watson(results.resid)\n",
    "print(\"Durbin-Watson:\", dw)"
   ]
  },
  {
   "cell_type": "code",
   "execution_count": 54,
   "id": "f6fd7b6e-c693-41e9-b254-41fb6c75aa46",
   "metadata": {},
   "outputs": [],
   "source": [
    "# Creamos un dummy para capturar la estacionalidad cada 6 meses.\n",
    "\n",
    "df = df.sort_values(\"month_year\")\n",
    "df[\"mes_nro\"] = range(len(df))\n",
    "df[\"dummy_seis_meses\"] = (df[\"mes_nro\"] % 6 == 0).astype(int)"
   ]
  },
  {
   "cell_type": "code",
   "execution_count": 55,
   "id": "9adc483f-ee0c-4d76-8d5b-5babf1eca4f7",
   "metadata": {},
   "outputs": [],
   "source": [
    "# Separamos en datos de entrenamiento y testeo\n",
    "# Datos de entrenamiento (2017-2023)\n",
    "\n",
    "df_train = df[df['month_year'] < '2024-01-01'].copy()\n",
    "\n",
    "# Datos de testeo (2024 en adelante)\n",
    "\n",
    "df_test = df[df['month_year'] >= '2024-01-01'].copy()"
   ]
  },
  {
   "cell_type": "code",
   "execution_count": 56,
   "id": "0b6ded86-6ed3-4f94-9517-478ceae33e39",
   "metadata": {},
   "outputs": [
    {
     "name": "stdout",
     "output_type": "stream",
     "text": [
      "Intercepto (β0): 2.506991999432998\n",
      "Coeficiente (β1): 0.9433859163614474\n"
     ]
    }
   ],
   "source": [
    "df.loc[:, 'precio_real_pan'] = pd.to_numeric(df['Precio deflactado'], errors='coerce')\n",
    "\n",
    "# Creamos la variable rezagada (lag) de pan en t-1.\n",
    "df.loc[:, 'pan_t_menos_1'] = df['precio_real_pan'].shift(1)\n",
    "df = df.dropna(subset=['precio_real_pan', 'pan_t_menos_1'])\n",
    "df_train = df[df['month_year'] < '2024-01-01'].copy()\n",
    "\n",
    "# Creamos las variables\n",
    "X = df_train[['pan_t_menos_1']]\n",
    "y = df_train['precio_real_pan']\n",
    "\n",
    "modelo = LinearRegression()\n",
    "modelo.fit(X, y)\n",
    "print(\"Intercepto (β0):\", modelo.intercept_)\n",
    "print(\"Coeficiente (β1):\", modelo.coef_[0])"
   ]
  },
  {
   "cell_type": "code",
   "execution_count": 70,
   "id": "4b5134f2-c1c3-4ac2-8f78-d7e47413e5ab",
   "metadata": {},
   "outputs": [],
   "source": [
    "X = X.drop(columns=['mes'], errors='ignore')\n",
    "df['pan_t_menos_1'] = pd.to_numeric(df['pan_t_menos_1'], errors='coerce')\n",
    "mes_dummies = pd.get_dummies(df['Mes'], prefix='Mes', drop_first=True).astype(int)\n",
    "X = pd.concat([df[['pan_t_menos_1']], mes_dummies], axis=1)\n",
    "X = X.dropna()"
   ]
  },
  {
   "cell_type": "code",
   "execution_count": 71,
   "id": "69b22066-a4eb-4fcc-a45d-256021628a7b",
   "metadata": {},
   "outputs": [
    {
     "name": "stdout",
     "output_type": "stream",
     "text": [
      "0.0026188\n"
     ]
    }
   ],
   "source": [
    "from sklearn.linear_model import LassoCV\n",
    "from sklearn.preprocessing import StandardScaler\n",
    "from sklearn.pipeline import make_pipeline\n",
    "\n",
    "columnas_predictoras = ['pan_t_menos_1'] + [col for col in df.columns if col.startswith('Mes_')]\n",
    "\n",
    "X = df_train[columnas_predictoras]\n",
    "y = df_train['precio_real_pan']\n",
    "X = X.dropna()\n",
    "y = y.loc[X.index]\n",
    "\n",
    "modelo_lasso_cv = make_pipeline(\n",
    "    StandardScaler(),\n",
    "    LassoCV(cv=5, random_state=42)\n",
    ")\n",
    "\n",
    "# Entrenamos el modelo\n",
    "modelo_lasso_cv.fit(X, y)\n",
    "\n",
    "# Buscamos cuál es el mejor alpha para nuestro modelo\n",
    "alpha_optimo = modelo_lasso_cv.named_steps['lassocv'].alpha_\n",
    "print(alpha_optimo.round(7))"
   ]
  },
  {
   "cell_type": "code",
   "execution_count": null,
   "id": "9ec52437-1e99-4d72-ada4-923aa9f80269",
   "metadata": {},
   "outputs": [],
   "source": []
  }
 ],
 "metadata": {
  "kernelspec": {
   "display_name": "Python 3 (ipykernel)",
   "language": "python",
   "name": "python3"
  },
  "language_info": {
   "codemirror_mode": {
    "name": "ipython",
    "version": 3
   },
   "file_extension": ".py",
   "mimetype": "text/x-python",
   "name": "python",
   "nbconvert_exporter": "python",
   "pygments_lexer": "ipython3",
   "version": "3.12.7"
  }
 },
 "nbformat": 4,
 "nbformat_minor": 5
}
