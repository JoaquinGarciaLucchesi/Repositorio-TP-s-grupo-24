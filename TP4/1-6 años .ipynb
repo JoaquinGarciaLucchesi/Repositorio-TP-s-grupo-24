{
 "cells": [
  {
   "cell_type": "code",
   "execution_count": 64,
   "id": "11d537ec-a851-4b25-8a4f-e35f0d5fd9b6",
   "metadata": {},
   "outputs": [],
   "source": [
    "#Parte 1, Ejercicio 1\n",
    "\n",
    "# Uilizamos la base de datos del TP 3 para ampliar la información que contiene  \"Respondieron\"\n",
    "import pandas as pd\n",
    "import os\n",
    "import numpy as np\n",
    "from matplotlib import pyplot as plt\n",
    "from sklearn.model_selection import train_test_split\n",
    "\n",
    "df = pd.read_excel(\"C:\\\\Users\\\\Adela\\\\baseTP3.xlsx\")\n",
    "df = df.drop(columns=['Unnamed: 0', 'cluster_k2', 'cluster_k4', 'cluster_k10', 'cluster_k2_label'], errors='ignore')\n",
    "no_respondieron = df[df['ESTADO'] == \"Entrevista individual no realizada (no respuesta al Cuestionario Individual)\"]\n",
    "respondieron = df[df['ESTADO'] != \"Entrevista individual no realizada (no respuesta al Cuestionario Individual)\"]\n",
    "column_names = df.columns.tolist()"
   ]
  },
  {
   "cell_type": "code",
   "execution_count": 65,
   "id": "89b11750-1138-4cb6-814d-cf9631486292",
   "metadata": {},
   "outputs": [
    {
     "name": "stderr",
     "output_type": "stream",
     "text": [
      "C:\\Users\\Adela\\AppData\\Local\\Temp\\ipykernel_3248\\253196524.py:7: SettingWithCopyWarning: \n",
      "A value is trying to be set on a copy of a slice from a DataFrame.\n",
      "Try using .loc[row_indexer,col_indexer] = value instead\n",
      "\n",
      "See the caveats in the documentation: https://pandas.pydata.org/pandas-docs/stable/user_guide/indexing.html#returning-a-view-versus-a-copy\n",
      "  respondieron['desocupado'] = (respondieron['ESTADO'] == 'Desocupado').astype(int)\n",
      "C:\\Users\\Adela\\AppData\\Local\\Temp\\ipykernel_3248\\253196524.py:11: SettingWithCopyWarning: \n",
      "A value is trying to be set on a copy of a slice from a DataFrame.\n",
      "Try using .loc[row_indexer,col_indexer] = value instead\n",
      "\n",
      "See the caveats in the documentation: https://pandas.pydata.org/pandas-docs/stable/user_guide/indexing.html#returning-a-view-versus-a-copy\n",
      "  respondieron['mujer'] = respondieron['Sexos Relevados'].map({\"Mujer\": 1, 'Varón': 0})\n",
      "C:\\Users\\Adela\\AppData\\Local\\Temp\\ipykernel_3248\\253196524.py:12: SettingWithCopyWarning: \n",
      "A value is trying to be set on a copy of a slice from a DataFrame.\n",
      "Try using .loc[row_indexer,col_indexer] = value instead\n",
      "\n",
      "See the caveats in the documentation: https://pandas.pydata.org/pandas-docs/stable/user_guide/indexing.html#returning-a-view-versus-a-copy\n",
      "  respondieron['lee_dummy'] = respondieron['Sabe leer y escribir'].map({'Sí': 1, 'No': 2})\n",
      "C:\\Users\\Adela\\AppData\\Local\\Temp\\ipykernel_3248\\253196524.py:13: SettingWithCopyWarning: \n",
      "A value is trying to be set on a copy of a slice from a DataFrame.\n",
      "Try using .loc[row_indexer,col_indexer] = value instead\n",
      "\n",
      "See the caveats in the documentation: https://pandas.pydata.org/pandas-docs/stable/user_guide/indexing.html#returning-a-view-versus-a-copy\n",
      "  respondieron['vp_dummy'] = respondieron['Tiene Vacaciones Pagas'].map({'Sí': 1, 'No': 2})\n",
      "C:\\Users\\Adela\\AppData\\Local\\Temp\\ipykernel_3248\\253196524.py:14: SettingWithCopyWarning: \n",
      "A value is trying to be set on a copy of a slice from a DataFrame.\n",
      "Try using .loc[row_indexer,col_indexer] = value instead\n",
      "\n",
      "See the caveats in the documentation: https://pandas.pydata.org/pandas-docs/stable/user_guide/indexing.html#returning-a-view-versus-a-copy\n",
      "  respondieron[\"salario_semanal\"]=respondieron[\"salario_semanal\"].round(2)\n",
      "C:\\Users\\Adela\\AppData\\Local\\Temp\\ipykernel_3248\\253196524.py:32: SettingWithCopyWarning: \n",
      "A value is trying to be set on a copy of a slice from a DataFrame\n",
      "\n",
      "See the caveats in the documentation: https://pandas.pydata.org/pandas-docs/stable/user_guide/indexing.html#returning-a-view-versus-a-copy\n",
      "  x_24.replace([np.nan, np.inf, -np.inf], 0, inplace=True)\n",
      "C:\\Users\\Adela\\AppData\\Local\\Temp\\ipykernel_3248\\253196524.py:33: SettingWithCopyWarning: \n",
      "A value is trying to be set on a copy of a slice from a DataFrame.\n",
      "Try using .loc[row_indexer,col_indexer] = value instead\n",
      "\n",
      "See the caveats in the documentation: https://pandas.pydata.org/pandas-docs/stable/user_guide/indexing.html#returning-a-view-versus-a-copy\n",
      "  x_24['intercepto'] = 1\n",
      "C:\\Users\\Adela\\AppData\\Local\\Temp\\ipykernel_3248\\253196524.py:36: SettingWithCopyWarning: \n",
      "A value is trying to be set on a copy of a slice from a DataFrame\n",
      "\n",
      "See the caveats in the documentation: https://pandas.pydata.org/pandas-docs/stable/user_guide/indexing.html#returning-a-view-versus-a-copy\n",
      "  x_04.replace([np.nan, np.inf, -np.inf], 0, inplace=True)\n",
      "C:\\Users\\Adela\\AppData\\Local\\Temp\\ipykernel_3248\\253196524.py:37: SettingWithCopyWarning: \n",
      "A value is trying to be set on a copy of a slice from a DataFrame.\n",
      "Try using .loc[row_indexer,col_indexer] = value instead\n",
      "\n",
      "See the caveats in the documentation: https://pandas.pydata.org/pandas-docs/stable/user_guide/indexing.html#returning-a-view-versus-a-copy\n",
      "  x_04['intercepto'] = 1\n"
     ]
    }
   ],
   "source": [
    "from scipy import stats\n",
    "import numpy as np\n",
    "from scipy.stats import ttest_ind\n",
    "import ISLP as islp\n",
    "import statsmodels.api as sm\n",
    "#Creamos la variable dummy correspondiente a \"Desocupado\" \n",
    "respondieron['desocupado'] = (respondieron['ESTADO'] == 'Desocupado').astype(int)\n",
    "\n",
    "#Añadimos otras dummies para incorporar más información de nuestra base datos al modelo\n",
    "#Dummies incorporadas\n",
    "respondieron['mujer'] = respondieron['Sexos Relevados'].map({\"Mujer\": 1, 'Varón': 0})\n",
    "respondieron['lee_dummy'] = respondieron['Sabe leer y escribir'].map({'Sí': 1, 'No': 2})\n",
    "respondieron['vp_dummy'] = respondieron['Tiene Vacaciones Pagas'].map({'Sí': 1, 'No': 2})\n",
    "respondieron[\"salario_semanal\"]=respondieron[\"salario_semanal\"].round(2)\n",
    "\n",
    "#Ajustamos la variable \"Ingreso Per cápita familiar\" a la inflación con un deflactor del PBI calculado en el TP3  \n",
    "respondieron.loc[respondieron['ANO4'] == 2004, 'Ingreso Per Cápita Familiar'] *= 882.22\n",
    "#Dividimos la informacion para poder armar una tabla de diferencias para cada año \n",
    "respondieron_04=respondieron[respondieron['ANO4'] == 2004]\n",
    "respondieron_24 = respondieron[respondieron['ANO4'] == 2024]\n",
    "#Designamos la variable dependiente e independiente\n",
    "y_24 = respondieron_24[[\"desocupado\"]]\n",
    "x_24 = respondieron_24[['ANO4', 'Ingreso Per Cápita Familiar', 'Años al momento de la encuesta', 'DECCFR', 'IDECCFR',\n",
    "                        'RDECCFR', 'GDECCFR', 'PDECCFR', 'ADECCFR', 'edad2', 'PP3F_TOT', 'PP3E_TOT', 'P21', \n",
    "                        'educ', 'salario_semanal', 'horas_trab', 'mujer', 'lee_dummy', 'vp_dummy']]\n",
    "y_04 = respondieron_04[[\"desocupado\"]]\n",
    "x_04 = respondieron_04[['ANO4', 'Ingreso Per Cápita Familiar', 'Años al momento de la encuesta', 'DECCFR', 'IDECCFR',\n",
    "                        'RDECCFR', 'GDECCFR', 'PDECCFR', 'ADECCFR', 'edad2', 'PP3F_TOT', 'PP3E_TOT', 'P21', \n",
    "                        'educ', 'salario_semanal', 'horas_trab', 'mujer', 'lee_dummy', 'vp_dummy']]\n",
    "#Reemplazamos todos los NaN por ceros y agregamos la columna de unos\n",
    "# Para x_24\n",
    "x_24.replace([np.nan, np.inf, -np.inf], 0, inplace=True)\n",
    "x_24['intercepto'] = 1\n",
    "\n",
    "# Para x_04\n",
    "x_04.replace([np.nan, np.inf, -np.inf], 0, inplace=True)\n",
    "x_04['intercepto'] = 1\n"
   ]
  },
  {
   "cell_type": "code",
   "execution_count": 66,
   "id": "6d7b5971-196f-428d-a721-d901dc100eac",
   "metadata": {},
   "outputs": [
    {
     "name": "stderr",
     "output_type": "stream",
     "text": [
      "C:\\Users\\Adela\\AppData\\Local\\Temp\\ipykernel_3248\\1127838671.py:5: SettingWithCopyWarning: \n",
      "A value is trying to be set on a copy of a slice from a DataFrame\n",
      "\n",
      "See the caveats in the documentation: https://pandas.pydata.org/pandas-docs/stable/user_guide/indexing.html#returning-a-view-versus-a-copy\n",
      "  x_24.replace([np.nan, np.inf, -np.inf], 0, inplace=True)\n",
      "C:\\Users\\Adela\\AppData\\Local\\Temp\\ipykernel_3248\\1127838671.py:10: SettingWithCopyWarning: \n",
      "A value is trying to be set on a copy of a slice from a DataFrame\n",
      "\n",
      "See the caveats in the documentation: https://pandas.pydata.org/pandas-docs/stable/user_guide/indexing.html#returning-a-view-versus-a-copy\n",
      "  x_04.replace([np.nan, np.inf, -np.inf], 0, inplace=True)\n"
     ]
    }
   ],
   "source": [
    "#Dividimos la información en datos de entrenamiento y testeo:\n",
    "#Para 2024\n",
    "x_train_24, x_test_24, y_train_24, y_test_24 = train_test_split(x_24, y_24, test_size=0.3, random_state=444)\n",
    "\n",
    "x_24.replace([np.nan, np.inf, -np.inf], 0, inplace=True)\n",
    "\n",
    "#Para 2004\n",
    "x_train_04, x_test_04, y_train_04, y_test_04 = train_test_split(x_04, y_04, test_size=0.3, random_state=444)\n",
    "\n",
    "x_04.replace([np.nan, np.inf, -np.inf], 0, inplace=True)\n"
   ]
  },
  {
   "cell_type": "code",
   "execution_count": 67,
   "id": "2c659d68-ae80-485a-a917-245f7b9d392c",
   "metadata": {},
   "outputs": [
    {
     "name": "stderr",
     "output_type": "stream",
     "text": [
      "C:\\Users\\Adela\\anaconda3\\Lib\\site-packages\\scipy\\stats\\_axis_nan_policy.py:563: RuntimeWarning: Precision loss occurred in moment calculation due to catastrophic cancellation. This occurs when the data are nearly identical. Results may be unreliable.\n",
      "  if is_too_small(samples):\n"
     ]
    }
   ],
   "source": [
    "#Calculamos datos :\n",
    "# Evaluamos el test-t y el p-valor para cada grupo\n",
    "#El test-t contrasta las medias entre la muestra de entrenamiento y la de testeo.\n",
    "\n",
    "#Para 2024\n",
    "t_test_x_24 = stats.ttest_ind(x_train_24, x_test_24)\n",
    "t_test_y_24 = stats.ttest_ind(y_train_24, y_test_24)\n",
    "#Para 2004\n",
    "t_test_x_04 = stats.ttest_ind(x_train_04, x_test_04)\n",
    "t_test_y_04 = stats.ttest_ind(y_train_04, y_test_04)\n"
   ]
  },
  {
   "cell_type": "code",
   "execution_count": 68,
   "id": "8771c160-dc8b-498c-ab13-7350b4c02616",
   "metadata": {},
   "outputs": [
    {
     "name": "stdout",
     "output_type": "stream",
     "text": [
      "Número de observaciones (x_train_04): 5352\n",
      "Media (x_train_04):\n",
      " ANO4                                2004.000000\n",
      "Ingreso Per Cápita Familiar       320299.530740\n",
      "Años al momento de la encuesta        33.763453\n",
      "DECCFR                                 4.944694\n",
      "IDECCFR                                0.000000\n",
      "RDECCFR                                4.650972\n",
      "GDECCFR                                4.756913\n",
      "PDECCFR                                0.000000\n",
      "ADECCFR                                4.737855\n",
      "edad2                               1655.115845\n",
      "PP3F_TOT                               1.161435\n",
      "PP3E_TOT                              17.057922\n",
      "P21                                  265.865284\n",
      "educ                                   4.126121\n",
      "salario_semanal                     5863.791678\n",
      "horas_trab                            15.364163\n",
      "mujer                                  0.529709\n",
      "lee_dummy                              1.038677\n",
      "vp_dummy                               0.443386\n",
      "intercepto                             1.000000\n",
      "dtype: float64\n",
      "Desvío estándar (x_train_04):\n",
      " ANO4                                   0.000000\n",
      "Ingreso Per Cápita Familiar       742581.036148\n",
      "Años al momento de la encuesta        22.698929\n",
      "DECCFR                                 2.903855\n",
      "IDECCFR                                0.000000\n",
      "RDECCFR                                2.867080\n",
      "GDECCFR                                2.907685\n",
      "PDECCFR                                0.000000\n",
      "ADECCFR                                2.886024\n",
      "edad2                               1839.209389\n",
      "PP3F_TOT                              27.437057\n",
      "PP3E_TOT                              50.135343\n",
      "P21                                  915.889811\n",
      "educ                                   5.320557\n",
      "salario_semanal                    20200.407753\n",
      "horas_trab                            23.449342\n",
      "mujer                                  0.499163\n",
      "lee_dummy                              0.327804\n",
      "vp_dummy                               0.722188\n",
      "intercepto                             0.000000\n",
      "dtype: float64\n"
     ]
    }
   ],
   "source": [
    "#Tabla de 2004\n",
    "# Para x_train 2004:\n",
    "print(\"Número de observaciones (x_train_04):\", x_train_04.shape[0])\n",
    "print(\"Media (x_train_04):\\n\", x_train_04.mean())\n",
    "print(\"Desvío estándar (x_train_04):\\n\", x_train_04.std())"
   ]
  },
  {
   "cell_type": "code",
   "execution_count": 69,
   "id": "4e30f60d-7ee9-4551-95ff-cdd76a141575",
   "metadata": {},
   "outputs": [
    {
     "name": "stdout",
     "output_type": "stream",
     "text": [
      "Número de observaciones (x_test_04): 2295\n",
      "Media (x_test_04):\n",
      " ANO4                                2004.000000\n",
      "Ingreso Per Cápita Familiar       318682.237760\n",
      "Años al momento de la encuesta        33.131155\n",
      "DECCFR                                 5.030937\n",
      "IDECCFR                                0.000000\n",
      "RDECCFR                                4.726797\n",
      "GDECCFR                                4.840523\n",
      "PDECCFR                                0.000000\n",
      "ADECCFR                                4.805664\n",
      "edad2                               1610.501089\n",
      "PP3F_TOT                               0.462309\n",
      "PP3E_TOT                              17.931155\n",
      "P21                                  256.839651\n",
      "educ                                   4.019608\n",
      "salario_semanal                     5664.726824\n",
      "horas_trab                            15.346405\n",
      "mujer                                  0.527233\n",
      "lee_dummy                              1.048802\n",
      "vp_dummy                               0.414379\n",
      "intercepto                             1.000000\n",
      "dtype: float64\n",
      "Desvío estándar (x_test_04):\n",
      " ANO4                                   0.000000\n",
      "Ingreso Per Cápita Familiar       382252.559397\n",
      "Años al momento de la encuesta        22.650634\n",
      "DECCFR                                 2.847995\n",
      "IDECCFR                                0.000000\n",
      "RDECCFR                                2.811089\n",
      "GDECCFR                                2.854327\n",
      "PDECCFR                                0.000000\n",
      "ADECCFR                                2.845738\n",
      "edad2                               1820.816397\n",
      "PP3F_TOT                               2.981086\n",
      "PP3E_TOT                              58.975691\n",
      "P21                                  546.958123\n",
      "educ                                   5.312965\n",
      "salario_semanal                    12063.434860\n",
      "horas_trab                            23.674537\n",
      "mujer                                  0.499367\n",
      "lee_dummy                              0.335708\n",
      "vp_dummy                               0.695898\n",
      "intercepto                             0.000000\n",
      "dtype: float64\n"
     ]
    }
   ],
   "source": [
    "# Para x_test 2004 :\n",
    "print(\"Número de observaciones (x_test_04):\", x_test_04.shape[0])\n",
    "print(\"Media (x_test_04):\\n\", x_test_04.mean())\n",
    "print(\"Desvío estándar (x_test_04):\\n\", x_test_04.std())"
   ]
  },
  {
   "cell_type": "code",
   "execution_count": 70,
   "id": "439e942f-2a6e-4652-a3da-01b5cd64f353",
   "metadata": {},
   "outputs": [
    {
     "name": "stdout",
     "output_type": "stream",
     "text": [
      "Número de observaciones (y_train_04): 5352\n",
      "Media (y_train_04): desocupado    0.067825\n",
      "dtype: float64\n",
      "Desvío estándar (y_train_04): desocupado    0.251469\n",
      "dtype: float64\n"
     ]
    }
   ],
   "source": [
    "# Para y_train 2004 :\n",
    "print(\"Número de observaciones (y_train_04):\", y_train_04.shape[0])\n",
    "print(\"Media (y_train_04):\", y_train_04.mean())\n",
    "print(\"Desvío estándar (y_train_04):\", y_train_04.std())"
   ]
  },
  {
   "cell_type": "code",
   "execution_count": 71,
   "id": "6fec168f-4638-4643-a000-5ba11c4e0eb0",
   "metadata": {},
   "outputs": [
    {
     "name": "stdout",
     "output_type": "stream",
     "text": [
      "Número de observaciones (y_test_04): 2295\n",
      "Media (y_test_04): desocupado    0.071895\n",
      "dtype: float64\n",
      "Desvío estándar (y_test_04): desocupado    0.258371\n",
      "dtype: float64\n"
     ]
    }
   ],
   "source": [
    "# Para y_test 2004 :\n",
    "print(\"Número de observaciones (y_test_04):\", y_test_04.shape[0])\n",
    "print(\"Media (y_test_04):\", y_test_04.mean())\n",
    "print(\"Desvío estándar (y_test_04):\", y_test_04.std())"
   ]
  },
  {
   "cell_type": "code",
   "execution_count": 72,
   "id": "43300a4a-a9be-4edd-8116-71fd2b6952f9",
   "metadata": {},
   "outputs": [
    {
     "name": "stdout",
     "output_type": "stream",
     "text": [
      "t_test_x_04: TtestResult(statistic=array([        nan,  0.09886799,  1.11711428, -1.19715691,         nan,\n",
      "       -1.06614374, -1.15876394,         nan, -0.9456017 ,  0.97510592,\n",
      "        1.21757748, -0.66103272,  0.43965856,  0.80266846,  0.4396586 ,\n",
      "        0.03026259,  0.19872585, -1.22888408,  1.62726392,         nan]), pvalue=array([       nan, 0.92124568, 0.26398057, 0.23128252,        nan,\n",
      "       0.28639234, 0.24658861,        nan, 0.34438166, 0.32953857,\n",
      "       0.22342216, 0.50861125, 0.66019685, 0.42219134, 0.66019682,\n",
      "       0.97585842, 0.84248249, 0.2191531 , 0.10372227,        nan]), df=array([7645., 7645., 7645., 7645., 7645., 7645., 7645., 7645., 7645.,\n",
      "       7645., 7645., 7645., 7645., 7645., 7645., 7645., 7645., 7645.,\n",
      "       7645., 7645.]))\n",
      "t_test_y_04: TtestResult(statistic=array([-0.6433558]), pvalue=array([0.52001256]), df=array([7645.]))\n",
      "p-valor del t_test_x_04: [       nan 0.92124568 0.26398057 0.23128252        nan 0.28639234\n",
      " 0.24658861        nan 0.34438166 0.32953857 0.22342216 0.50861125\n",
      " 0.66019685 0.42219134 0.66019682 0.97585842 0.84248249 0.2191531\n",
      " 0.10372227        nan]\n",
      "p-valor del t_test_y_04: [0.52001256]\n"
     ]
    }
   ],
   "source": [
    "# T-test 2004 :\n",
    "print(\"t_test_x_04:\", t_test_x_04)\n",
    "print(\"t_test_y_04:\", t_test_y_04)\n",
    "print(\"p-valor del t_test_x_04:\", t_test_x_04.pvalue)\n",
    "print(\"p-valor del t_test_y_04:\", t_test_y_04.pvalue)"
   ]
  },
  {
   "cell_type": "code",
   "execution_count": 73,
   "id": "8b24ee2e-abb2-4a66-80f0-e77b6bf10ecf",
   "metadata": {},
   "outputs": [
    {
     "name": "stdout",
     "output_type": "stream",
     "text": [
      "Número de observaciones (x_train_24): 4907\n",
      "Media (x_train_24):\n",
      " ANO4                                2024.000000\n",
      "Ingreso Per Cápita Familiar       160624.514926\n",
      "Años al momento de la encuesta        38.031384\n",
      "DECCFR                                 7.960465\n",
      "IDECCFR                                0.000000\n",
      "RDECCFR                                7.882413\n",
      "GDECCFR                                7.927654\n",
      "PDECCFR                                0.000000\n",
      "ADECCFR                                7.884858\n",
      "edad2                               1973.360913\n",
      "PP3F_TOT                               1.565111\n",
      "PP3E_TOT                              18.777665\n",
      "P21                               118203.810882\n",
      "educ                                   8.959242\n",
      "salario_semanal                     2955.095272\n",
      "horas_trab                            15.225596\n",
      "mujer                                  0.524557\n",
      "lee_dummy                              1.028531\n",
      "vp_dummy                               0.435093\n",
      "intercepto                             1.000000\n",
      "dtype: float64\n",
      "Desvío estándar (x_train_24):\n",
      " ANO4                                   0.000000\n",
      "Ingreso Per Cápita Familiar       370872.681578\n",
      "Años al momento de la encuesta        22.958270\n",
      "DECCFR                                 4.088661\n",
      "IDECCFR                                0.000000\n",
      "RDECCFR                                4.111153\n",
      "GDECCFR                                4.101676\n",
      "PDECCFR                                0.000000\n",
      "ADECCFR                                4.109933\n",
      "edad2                               1962.632714\n",
      "PP3F_TOT                              32.025061\n",
      "PP3E_TOT                              66.073839\n",
      "P21                               275008.828661\n",
      "educ                                   5.225760\n",
      "salario_semanal                     6875.220717\n",
      "horas_trab                            21.529449\n",
      "mujer                                  0.499447\n",
      "lee_dummy                              0.237189\n",
      "vp_dummy                               0.668443\n",
      "intercepto                             0.000000\n",
      "dtype: float64\n"
     ]
    }
   ],
   "source": [
    "#Tabla de 2024\n",
    "#Para x_train 2024 :\n",
    "print(\"Número de observaciones (x_train_24):\", x_train_24.shape[0])\n",
    "print(\"Media (x_train_24):\\n\", x_train_24.mean())\n",
    "print(\"Desvío estándar (x_train_24):\\n\", x_train_24.std())"
   ]
  },
  {
   "cell_type": "code",
   "execution_count": 74,
   "id": "9499547f-a76f-4dd8-8828-f55b2ee9fcc8",
   "metadata": {},
   "outputs": [
    {
     "name": "stdout",
     "output_type": "stream",
     "text": [
      "Número de observaciones (x_test_24): 2103\n",
      "Media (x_test_24):\n",
      " ANO4                                2024.000000\n",
      "Ingreso Per Cápita Familiar       161901.385711\n",
      "Años al momento de la encuesta        37.561579\n",
      "DECCFR                                 8.084165\n",
      "IDECCFR                                0.000000\n",
      "RDECCFR                                8.003329\n",
      "GDECCFR                                8.047076\n",
      "PDECCFR                                0.000000\n",
      "ADECCFR                                8.008084\n",
      "edad2                               1924.412744\n",
      "PP3F_TOT                               0.570613\n",
      "PP3E_TOT                              18.916786\n",
      "P21                               127931.526391\n",
      "educ                                   8.954826\n",
      "salario_semanal                     3198.288160\n",
      "horas_trab                            16.098906\n",
      "mujer                                  0.520209\n",
      "lee_dummy                              1.037090\n",
      "vp_dummy                               0.434617\n",
      "intercepto                             1.000000\n",
      "dtype: float64\n",
      "Desvío estándar (x_test_24):\n",
      " ANO4                                   0.000000\n",
      "Ingreso Per Cápita Familiar       418887.030727\n",
      "Años al momento de la encuesta        22.666823\n",
      "DECCFR                                 4.110516\n",
      "IDECCFR                                0.000000\n",
      "RDECCFR                                4.135604\n",
      "GDECCFR                                4.129466\n",
      "PDECCFR                                0.000000\n",
      "ADECCFR                                4.132145\n",
      "edad2                               1897.738461\n",
      "PP3F_TOT                               3.236423\n",
      "PP3E_TOT                              60.584115\n",
      "P21                               380649.165159\n",
      "educ                                   5.157127\n",
      "salario_semanal                     9516.229129\n",
      "horas_trab                            22.038646\n",
      "mujer                                  0.499710\n",
      "lee_dummy                              0.259094\n",
      "vp_dummy                               0.658964\n",
      "intercepto                             0.000000\n",
      "dtype: float64\n"
     ]
    }
   ],
   "source": [
    "#Para x_test 2024 :\n",
    "print(\"Número de observaciones (x_test_24):\", x_test_24.shape[0])\n",
    "print(\"Media (x_test_24):\\n\", x_test_24.mean())\n",
    "print(\"Desvío estándar (x_test_24):\\n\", x_test_24.std())"
   ]
  },
  {
   "cell_type": "code",
   "execution_count": 75,
   "id": "5b2d2ce1-3cb6-4800-9029-2c311a099cd5",
   "metadata": {},
   "outputs": [
    {
     "name": "stdout",
     "output_type": "stream",
     "text": [
      "Número de observaciones (y_train_24): 4907\n",
      "Media (y_train_24): desocupado    0.042185\n",
      "dtype: float64\n",
      "Desvío estándar (y_train_24): desocupado    0.201031\n",
      "dtype: float64\n"
     ]
    }
   ],
   "source": [
    "#Para y_train 2024 :\n",
    "print(\"Número de observaciones (y_train_24):\", y_train_24.shape[0])\n",
    "print(\"Media (y_train_24):\", y_train_24.mean())\n",
    "print(\"Desvío estándar (y_train_24):\", y_train_24.std())"
   ]
  },
  {
   "cell_type": "code",
   "execution_count": 76,
   "id": "837ab6d1-d27a-4dde-b349-31c3a5432d0f",
   "metadata": {},
   "outputs": [
    {
     "name": "stdout",
     "output_type": "stream",
     "text": [
      "Número de observaciones (y_test_24): 2103\n",
      "Media (y_test_24): desocupado    0.049453\n",
      "dtype: float64\n",
      "Desvío estándar (y_test_24): desocupado    0.216864\n",
      "dtype: float64\n"
     ]
    }
   ],
   "source": [
    "#Para y_test 2024 :\n",
    "print(\"Número de observaciones (y_test_24):\", y_test_24.shape[0])\n",
    "print(\"Media (y_test_24):\", y_test_24.mean())\n",
    "print(\"Desvío estándar (y_test_24):\", y_test_24.std())"
   ]
  },
  {
   "cell_type": "code",
   "execution_count": 77,
   "id": "6ef435ec-689a-488b-a388-ce6148a74fa8",
   "metadata": {},
   "outputs": [
    {
     "name": "stdout",
     "output_type": "stream",
     "text": [
      "t_test_x_24: TtestResult(statistic=array([        nan, -0.12695173,  0.78812765, -1.15894591,         nan,\n",
      "       -1.12645028, -1.11482078,         nan, -1.14849498,  0.96637098,\n",
      "        1.42091339, -0.08278678, -1.20206943,  0.03254629, -1.20206943,\n",
      "       -1.54528694,  0.33392808, -1.34608421,  0.02740987,         nan]), pvalue=array([       nan, 0.89898225, 0.4306487 , 0.24651772,        nan,\n",
      "       0.26001355, 0.26496546,        nan, 0.25080348, 0.33389193,\n",
      "       0.15538643, 0.93402344, 0.22937724, 0.97403733, 0.22937724,\n",
      "       0.12232203, 0.73844382, 0.1783189 , 0.9781336 ,        nan]), df=array([7008., 7008., 7008., 7008., 7008., 7008., 7008., 7008., 7008.,\n",
      "       7008., 7008., 7008., 7008., 7008., 7008., 7008., 7008., 7008.,\n",
      "       7008., 7008.]))\n",
      "t_test_y_24: TtestResult(statistic=array([-1.35438715]), pvalue=array([0.17565656]), df=array([7008.]))\n",
      "p-valor del t_test_x_24: [       nan 0.89898225 0.4306487  0.24651772        nan 0.26001355\n",
      " 0.26496546        nan 0.25080348 0.33389193 0.15538643 0.93402344\n",
      " 0.22937724 0.97403733 0.22937724 0.12232203 0.73844382 0.1783189\n",
      " 0.9781336         nan]\n",
      "p-valor del t_test_y_24: [0.17565656]\n"
     ]
    }
   ],
   "source": [
    "#T-test 2024 : \n",
    "print(\"t_test_x_24:\", t_test_x_24)\n",
    "print(\"t_test_y_24:\", t_test_y_24)\n",
    "print(\"p-valor del t_test_x_24:\", t_test_x_24.pvalue)\n",
    "print(\"p-valor del t_test_y_24:\", t_test_y_24.pvalue)\n",
    "\n",
    "#Con esta información armamos nuestra tabla de diferencia de medias"
   ]
  },
  {
   "cell_type": "code",
   "execution_count": 78,
   "id": "6d8cd05d-b4b1-4449-8094-2b61f13d3f26",
   "metadata": {},
   "outputs": [
    {
     "name": "stderr",
     "output_type": "stream",
     "text": [
      "C:\\Users\\Adela\\AppData\\Local\\Temp\\ipykernel_3248\\1812089906.py:9: SettingWithCopyWarning: \n",
      "A value is trying to be set on a copy of a slice from a DataFrame.\n",
      "Try using .loc[row_indexer,col_indexer] = value instead\n",
      "\n",
      "See the caveats in the documentation: https://pandas.pydata.org/pandas-docs/stable/user_guide/indexing.html#returning-a-view-versus-a-copy\n",
      "  ocu['intercepto'] = 1\n",
      "C:\\Users\\Adela\\AppData\\Local\\Temp\\ipykernel_3248\\1812089906.py:10: SettingWithCopyWarning: \n",
      "A value is trying to be set on a copy of a slice from a DataFrame\n",
      "\n",
      "See the caveats in the documentation: https://pandas.pydata.org/pandas-docs/stable/user_guide/indexing.html#returning-a-view-versus-a-copy\n",
      "  ocu.rename(columns={'Años al momento de la encuesta': 'edad'}, inplace=True)\n"
     ]
    }
   ],
   "source": [
    "#Parte 1, Ejercicio 2: \n",
    "\n",
    "#Debemos conformar nuestro modelo de regresión únicamente para los ocupados de la EPH\n",
    "\n",
    "# Establecemos primero una base de datos que solo comprenda información para los ocupados de la EPH en nuestra región\n",
    "ocu=respondieron[respondieron[\"ESTADO\"] == \"Ocupado\"]\n",
    "\n",
    "#Creamos la columna de unos\n",
    "ocu['intercepto'] = 1\n",
    "ocu.rename(columns={'Años al momento de la encuesta': 'edad'}, inplace=True)"
   ]
  },
  {
   "cell_type": "code",
   "execution_count": 79,
   "id": "01354c20-4079-4092-b92a-914f26e3c081",
   "metadata": {},
   "outputs": [],
   "source": [
    "from sklearn.linear_model import LinearRegression\n",
    "from sklearn.preprocessing import PolynomialFeatures\n",
    "import statsmodels.api as sm\n",
    "# Planteamos nuestra matriz X\n",
    "X_ocu=ocu[[\"edad\",\"edad2\",\"intercepto\",\"educ\",\"mujer\",\"vp_dummy\", \"lee_dummy\"]]\n",
    "Y_ocu=ocu[[\"salario_semanal\"]]\n",
    "\n",
    "#Dividimos los datos correspondientes en entrenamiento y testeo\n",
    "\n",
    "x_train_ocu,x_test_ocu,y_train_ocu,y_test_ocu=train_test_split(X_ocu,Y_ocu,test_size=0.3, random_state=444)"
   ]
  },
  {
   "cell_type": "code",
   "execution_count": 80,
   "id": "77e820b4-8571-42ad-882e-616049e8d31b",
   "metadata": {},
   "outputs": [
    {
     "name": "stdout",
     "output_type": "stream",
     "text": [
      "                            OLS Regression Results                            \n",
      "==============================================================================\n",
      "Dep. Variable:        salario_semanal   R-squared:                       0.005\n",
      "Model:                            OLS   Adj. R-squared:                  0.004\n",
      "Method:                 Least Squares   F-statistic:                     20.39\n",
      "Date:                Mon, 02 Jun 2025   Prob (F-statistic):           6.49e-06\n",
      "Time:                        22:41:12   Log-Likelihood:                -48323.\n",
      "No. Observations:                4412   AIC:                         9.665e+04\n",
      "Df Residuals:                    4410   BIC:                         9.666e+04\n",
      "Df Model:                           1                                         \n",
      "Covariance Type:            nonrobust                                         \n",
      "==============================================================================\n",
      "                 coef    std err          t      P>|t|      [0.025      0.975]\n",
      "------------------------------------------------------------------------------\n",
      "edad          67.1859     14.880      4.515      0.000      38.014      96.358\n",
      "intercepto  7389.1460    645.598     11.445      0.000    6123.450    8654.842\n",
      "==============================================================================\n",
      "Omnibus:                     4485.656   Durbin-Watson:                   2.029\n",
      "Prob(Omnibus):                  0.000   Jarque-Bera (JB):           377621.587\n",
      "Skew:                           4.878   Prob(JB):                         0.00\n",
      "Kurtosis:                      47.260   Cond. No.                         135.\n",
      "==============================================================================\n",
      "\n",
      "Notes:\n",
      "[1] Standard Errors assume that the covariance matrix of the errors is correctly specified.\n"
     ]
    },
    {
     "name": "stderr",
     "output_type": "stream",
     "text": [
      "C:\\Users\\Adela\\AppData\\Local\\Temp\\ipykernel_3248\\1284707196.py:4: SettingWithCopyWarning: \n",
      "A value is trying to be set on a copy of a slice from a DataFrame\n",
      "\n",
      "See the caveats in the documentation: https://pandas.pydata.org/pandas-docs/stable/user_guide/indexing.html#returning-a-view-versus-a-copy\n",
      "  X_1.replace([np.nan, np.inf, -np.inf], 0, inplace=True)\n"
     ]
    }
   ],
   "source": [
    "#Regresión de salario_semanal en edad\n",
    "\n",
    "X_1 = x_train_ocu[[\"edad\", \"intercepto\"]]\n",
    "X_1.replace([np.nan, np.inf, -np.inf], 0, inplace=True)\n",
    "\n",
    "Y_1 = y_train_ocu[\"salario_semanal\"]\n",
    "Y_1.replace([np.nan, np.inf, -np.inf], 0, inplace=True)\n",
    "\n",
    "model = sm.OLS(Y_1, X_1)\n",
    "results = model.fit()\n",
    "print(results.summary())"
   ]
  },
  {
   "cell_type": "code",
   "execution_count": 81,
   "id": "fdccca0b-c650-41a4-a347-f4bf7961d747",
   "metadata": {},
   "outputs": [
    {
     "name": "stdout",
     "output_type": "stream",
     "text": [
      "                            OLS Regression Results                            \n",
      "==============================================================================\n",
      "Dep. Variable:        salario_semanal   R-squared:                       0.020\n",
      "Model:                            OLS   Adj. R-squared:                  0.019\n",
      "Method:                 Least Squares   F-statistic:                     44.71\n",
      "Date:                Mon, 02 Jun 2025   Prob (F-statistic):           5.98e-20\n",
      "Time:                        22:41:12   Log-Likelihood:                -48289.\n",
      "No. Observations:                4412   AIC:                         9.658e+04\n",
      "Df Residuals:                    4409   BIC:                         9.660e+04\n",
      "Df Model:                           2                                         \n",
      "Covariance Type:            nonrobust                                         \n",
      "==============================================================================\n",
      "                 coef    std err          t      P>|t|      [0.025      0.975]\n",
      "------------------------------------------------------------------------------\n",
      "edad         720.0374     80.126      8.986      0.000     562.949     877.126\n",
      "edad2         -7.5718      0.913     -8.290      0.000      -9.362      -5.781\n",
      "intercepto -5171.1189   1645.049     -3.143      0.002   -8396.241   -1945.997\n",
      "==============================================================================\n",
      "Omnibus:                     4491.816   Durbin-Watson:                   2.033\n",
      "Prob(Omnibus):                  0.000   Jarque-Bera (JB):           383737.450\n",
      "Skew:                           4.883   Prob(JB):                         0.00\n",
      "Kurtosis:                      47.632   Cond. No.                     1.79e+04\n",
      "==============================================================================\n",
      "\n",
      "Notes:\n",
      "[1] Standard Errors assume that the covariance matrix of the errors is correctly specified.\n",
      "[2] The condition number is large, 1.79e+04. This might indicate that there are\n",
      "strong multicollinearity or other numerical problems.\n"
     ]
    },
    {
     "name": "stderr",
     "output_type": "stream",
     "text": [
      "C:\\Users\\Adela\\AppData\\Local\\Temp\\ipykernel_3248\\3347534445.py:3: SettingWithCopyWarning: \n",
      "A value is trying to be set on a copy of a slice from a DataFrame\n",
      "\n",
      "See the caveats in the documentation: https://pandas.pydata.org/pandas-docs/stable/user_guide/indexing.html#returning-a-view-versus-a-copy\n",
      "  X_2.replace([np.nan, np.inf, -np.inf], 0, inplace=True)\n"
     ]
    }
   ],
   "source": [
    "#salario_semanal en edad y edad2\n",
    "X_2 = x_train_ocu[[\"edad\", \"edad2\", \"intercepto\"]]\n",
    "X_2.replace([np.nan, np.inf, -np.inf], 0, inplace=True)\n",
    "\n",
    "Y_2 = y_train_ocu[\"salario_semanal\"]\n",
    "Y_2.replace([np.nan, np.inf, -np.inf], 0, inplace=True)\n",
    "\n",
    "model = sm.OLS(Y_2, X_2)\n",
    "results = model.fit()\n",
    "print(results.summary())"
   ]
  },
  {
   "cell_type": "code",
   "execution_count": 82,
   "id": "70245d72-c7dd-48df-a586-5ff4a55316e9",
   "metadata": {},
   "outputs": [
    {
     "name": "stdout",
     "output_type": "stream",
     "text": [
      "                            OLS Regression Results                            \n",
      "==============================================================================\n",
      "Dep. Variable:        salario_semanal   R-squared:                       0.021\n",
      "Model:                            OLS   Adj. R-squared:                  0.021\n",
      "Method:                 Least Squares   F-statistic:                     31.87\n",
      "Date:                Mon, 02 Jun 2025   Prob (F-statistic):           2.24e-20\n",
      "Time:                        22:41:12   Log-Likelihood:                -48286.\n",
      "No. Observations:                4412   AIC:                         9.658e+04\n",
      "Df Residuals:                    4408   BIC:                         9.661e+04\n",
      "Df Model:                           3                                         \n",
      "Covariance Type:            nonrobust                                         \n",
      "==============================================================================\n",
      "                 coef    std err          t      P>|t|      [0.025      0.975]\n",
      "------------------------------------------------------------------------------\n",
      "edad         691.5456     80.907      8.547      0.000     532.927     850.164\n",
      "edad2         -7.2750      0.921     -7.901      0.000      -9.080      -5.470\n",
      "intercepto -5384.3840   1646.365     -3.270      0.001   -8612.086   -2156.682\n",
      "educ          92.5359     37.470      2.470      0.014      19.076     165.996\n",
      "==============================================================================\n",
      "Omnibus:                     4480.831   Durbin-Watson:                   2.036\n",
      "Prob(Omnibus):                  0.000   Jarque-Bera (JB):           380168.611\n",
      "Skew:                           4.865   Prob(JB):                         0.00\n",
      "Kurtosis:                      47.422   Cond. No.                     1.79e+04\n",
      "==============================================================================\n",
      "\n",
      "Notes:\n",
      "[1] Standard Errors assume that the covariance matrix of the errors is correctly specified.\n",
      "[2] The condition number is large, 1.79e+04. This might indicate that there are\n",
      "strong multicollinearity or other numerical problems.\n"
     ]
    },
    {
     "name": "stderr",
     "output_type": "stream",
     "text": [
      "C:\\Users\\Adela\\AppData\\Local\\Temp\\ipykernel_3248\\4157050273.py:3: SettingWithCopyWarning: \n",
      "A value is trying to be set on a copy of a slice from a DataFrame\n",
      "\n",
      "See the caveats in the documentation: https://pandas.pydata.org/pandas-docs/stable/user_guide/indexing.html#returning-a-view-versus-a-copy\n",
      "  X_3.replace([np.nan, np.inf, -np.inf], 0, inplace=True)\n"
     ]
    }
   ],
   "source": [
    "#salario_semanal en edad, edad2 y educ\n",
    "X_3 = x_train_ocu[[\"edad\", \"edad2\", \"intercepto\", \"educ\"]]\n",
    "X_3.replace([np.nan, np.inf, -np.inf], 0, inplace=True)\n",
    "\n",
    "Y_3 = y_train_ocu[\"salario_semanal\"]\n",
    "Y_3.replace([np.nan, np.inf, -np.inf], 0, inplace=True)\n",
    "\n",
    "model = sm.OLS(Y_3, X_3)\n",
    "results = model.fit()\n",
    "print(results.summary())"
   ]
  },
  {
   "cell_type": "code",
   "execution_count": 83,
   "id": "75044143-73db-4455-bf2b-d1da5e785b29",
   "metadata": {},
   "outputs": [
    {
     "name": "stdout",
     "output_type": "stream",
     "text": [
      "                            OLS Regression Results                            \n",
      "==============================================================================\n",
      "Dep. Variable:        salario_semanal   R-squared:                       0.038\n",
      "Model:                            OLS   Adj. R-squared:                  0.037\n",
      "Method:                 Least Squares   F-statistic:                     43.30\n",
      "Date:                Mon, 02 Jun 2025   Prob (F-statistic):           1.09e-35\n",
      "Time:                        22:41:12   Log-Likelihood:                -48248.\n",
      "No. Observations:                4412   AIC:                         9.651e+04\n",
      "Df Residuals:                    4407   BIC:                         9.654e+04\n",
      "Df Model:                           4                                         \n",
      "Covariance Type:            nonrobust                                         \n",
      "==============================================================================\n",
      "                 coef    std err          t      P>|t|      [0.025      0.975]\n",
      "------------------------------------------------------------------------------\n",
      "edad         715.7028     80.276      8.916      0.000     558.322     873.083\n",
      "edad2         -7.5605      0.914     -8.276      0.000      -9.352      -5.769\n",
      "intercepto -4503.2364   1635.671     -2.753      0.006   -7709.974   -1296.498\n",
      "educ         121.7488     37.306      3.263      0.001      48.610     194.888\n",
      "mujer      -3609.9217    414.217     -8.715      0.000   -4421.996   -2797.848\n",
      "==============================================================================\n",
      "Omnibus:                     4485.965   Durbin-Watson:                   2.034\n",
      "Prob(Omnibus):                  0.000   Jarque-Bera (JB):           386152.344\n",
      "Skew:                           4.869   Prob(JB):                         0.00\n",
      "Kurtosis:                      47.785   Cond. No.                     1.80e+04\n",
      "==============================================================================\n",
      "\n",
      "Notes:\n",
      "[1] Standard Errors assume that the covariance matrix of the errors is correctly specified.\n",
      "[2] The condition number is large, 1.8e+04. This might indicate that there are\n",
      "strong multicollinearity or other numerical problems.\n"
     ]
    },
    {
     "name": "stderr",
     "output_type": "stream",
     "text": [
      "C:\\Users\\Adela\\AppData\\Local\\Temp\\ipykernel_3248\\930480014.py:3: SettingWithCopyWarning: \n",
      "A value is trying to be set on a copy of a slice from a DataFrame\n",
      "\n",
      "See the caveats in the documentation: https://pandas.pydata.org/pandas-docs/stable/user_guide/indexing.html#returning-a-view-versus-a-copy\n",
      "  X_4.replace([np.nan, np.inf, -np.inf], 0, inplace=True)\n"
     ]
    }
   ],
   "source": [
    "#salario_semanal en edad,edad2, educ y mujer\n",
    "X_4 = x_train_ocu[[\"edad\", \"edad2\", \"intercepto\", \"educ\", \"mujer\"]]\n",
    "X_4.replace([np.nan, np.inf, -np.inf], 0, inplace=True)\n",
    "\n",
    "Y_4 = y_train_ocu[\"salario_semanal\"]\n",
    "Y_4.replace([np.nan, np.inf, -np.inf], 0, inplace=True)\n",
    "\n",
    "model = sm.OLS(Y_4, X_4)\n",
    "results = model.fit()\n",
    "print(results.summary())"
   ]
  },
  {
   "cell_type": "code",
   "execution_count": 84,
   "id": "0bdb4589-1209-496f-9df2-02b1efdc4964",
   "metadata": {},
   "outputs": [
    {
     "name": "stdout",
     "output_type": "stream",
     "text": [
      "                            OLS Regression Results                            \n",
      "==============================================================================\n",
      "Dep. Variable:        salario_semanal   R-squared:                       0.042\n",
      "Model:                            OLS   Adj. R-squared:                  0.040\n",
      "Method:                 Least Squares   F-statistic:                     31.91\n",
      "Date:                Mon, 02 Jun 2025   Prob (F-statistic):           8.55e-38\n",
      "Time:                        22:41:13   Log-Likelihood:                -48240.\n",
      "No. Observations:                4412   AIC:                         9.649e+04\n",
      "Df Residuals:                    4405   BIC:                         9.654e+04\n",
      "Df Model:                           6                                         \n",
      "Covariance Type:            nonrobust                                         \n",
      "==============================================================================\n",
      "                 coef    std err          t      P>|t|      [0.025      0.975]\n",
      "------------------------------------------------------------------------------\n",
      "edad         697.9497     80.355      8.686      0.000     540.414     855.485\n",
      "edad2         -7.4922      0.912     -8.211      0.000      -9.281      -5.703\n",
      "intercepto  3281.7328   3575.721      0.918      0.359   -3728.478    1.03e+04\n",
      "educ         100.2320     37.629      2.664      0.008      26.460     174.004\n",
      "mujer      -3459.0940    415.186     -8.331      0.000   -4273.067   -2645.121\n",
      "vp_dummy   -1115.5149    292.185     -3.818      0.000   -1688.344    -542.685\n",
      "lee_dummy  -5896.8138   3137.944     -1.879      0.060    -1.2e+04     255.134\n",
      "==============================================================================\n",
      "Omnibus:                     4464.678   Durbin-Watson:                   2.038\n",
      "Prob(Omnibus):                  0.000   Jarque-Bera (JB):           379808.685\n",
      "Skew:                           4.833   Prob(JB):                         0.00\n",
      "Kurtosis:                      47.414   Cond. No.                     5.08e+04\n",
      "==============================================================================\n",
      "\n",
      "Notes:\n",
      "[1] Standard Errors assume that the covariance matrix of the errors is correctly specified.\n",
      "[2] The condition number is large, 5.08e+04. This might indicate that there are\n",
      "strong multicollinearity or other numerical problems.\n"
     ]
    }
   ],
   "source": [
    "#Regresión de salario_semanal en las variables del punto anterior y vp_dummy y lee_dummy\n",
    "X_5 = x_train_ocu[[\"edad\", \"edad2\", \"intercepto\", \"educ\", \"mujer\", \"vp_dummy\", \"lee_dummy\"]]\n",
    "X_5.replace([np.nan, np.inf, -np.inf], 0, inplace=True)\n",
    "\n",
    "Y_5 = y_train_ocu[\"salario_semanal\"]\n",
    "Y_5.replace([np.nan, np.inf, -np.inf], 0, inplace=True)\n",
    "\n",
    "model = sm.OLS(Y_5, X_5)\n",
    "results = model.fit()\n",
    "print(results.summary())"
   ]
  },
  {
   "cell_type": "code",
   "execution_count": 85,
   "id": "0378ddba-e800-43c1-89b3-9aba7c7d7a87",
   "metadata": {},
   "outputs": [],
   "source": [
    "# Parte B - Punto 3\n",
    "# Enfoque de validación\n",
    "\n",
    "import pandas as pd\n",
    "import numpy as np\n",
    "import statsmodels.api as sm\n",
    "from sklearn.linear_model import LinearRegression\n",
    "from sklearn.model_selection import train_test_split\n",
    "from sklearn.metrics import mean_squared_error, mean_absolute_error, r2_score"
   ]
  },
  {
   "cell_type": "code",
   "execution_count": 86,
   "id": "781e055e-8e8c-466d-a3ae-703b27eaa80d",
   "metadata": {},
   "outputs": [
    {
     "name": "stdout",
     "output_type": "stream",
     "text": [
      "edad            0\n",
      "edad2           0\n",
      "intercepto      0\n",
      "educ          417\n",
      "mujer           0\n",
      "vp_dummy      516\n",
      "lee_dummy       1\n",
      "dtype: int64\n",
      "salario_semanal    401\n",
      "dtype: int64\n"
     ]
    }
   ],
   "source": [
    "# Antes de arrancar, verificamos si existen valores NaN.\n",
    "print(x_test_ocu.isnull().sum())\n",
    "print(y_test_ocu.isnull().sum())"
   ]
  },
  {
   "cell_type": "code",
   "execution_count": 87,
   "id": "741a9776-1d6b-486e-b9be-34a756e1c409",
   "metadata": {},
   "outputs": [
    {
     "name": "stdout",
     "output_type": "stream",
     "text": [
      "Modelo 1 ['edad', 'intercepto']\n",
      "  MSE: 1132976695.39, RMSE: 33659.72, MAE: 8878.36\n",
      "\n",
      "Modelo 2 ['edad', 'edad2', 'intercepto']\n",
      "  MSE: 1128820310.98, RMSE: 33597.92, MAE: 8867.12\n",
      "\n",
      "Modelo 3 ['edad', 'edad2', 'intercepto', 'educ']\n",
      "  MSE: 1124998171.89, RMSE: 33540.99, MAE: 8808.23\n",
      "\n",
      "Modelo 4 ['edad', 'edad2', 'intercepto', 'educ', 'mujer']\n",
      "  MSE: 1114844642.31, RMSE: 33389.29, MAE: 8520.20\n",
      "\n",
      "Modelo 5 ['edad', 'edad2', 'intercepto', 'educ', 'mujer', 'vp_dummy', 'lee_dummy']\n",
      "  MSE: 1115022751.02, RMSE: 33391.96, MAE: 8404.56\n",
      "\n"
     ]
    }
   ],
   "source": [
    "# Ennumeramos variables del 1-5 para cada modelo. Esto va a facilitar el análisis\n",
    "modelo_variables = {\n",
    "    1: ['edad', 'intercepto'],\n",
    "    2: ['edad', 'edad2', 'intercepto'],\n",
    "    3: ['edad', 'edad2', 'intercepto', 'educ'],\n",
    "    4: ['edad', 'edad2', 'intercepto', 'educ', 'mujer'],\n",
    "    5: ['edad', 'edad2', 'intercepto', 'educ', 'mujer', 'vp_dummy', 'lee_dummy']\n",
    "}\n",
    "\n",
    "# Observamos previamente que muchas variables tienen NaN.\n",
    "# Para ello, vamos a imputar valores predictivos; en el caso de la variable educ, usamos la mediana, para las dummies, la moda.\n",
    "x_test_ocu['educ'] = x_test_ocu['educ'].fillna(x_test_ocu['educ'].median())\n",
    "x_test_ocu['vp_dummy'] = x_test_ocu['vp_dummy'].fillna(x_test_ocu['vp_dummy'].mode()[0])\n",
    "x_test_ocu['lee_dummy'] = x_test_ocu['lee_dummy'].fillna(x_test_ocu['lee_dummy'].mode()[0])\n",
    "\n",
    "# Además, eliminamos filas de la base de testeo donde falta la variable objetivo (salario_semanal).\n",
    "y_test_ocu = y_test_ocu.dropna(subset=['salario_semanal'])\n",
    "x_test_ocu = x_test_ocu.loc[y_test_ocu.index]\n",
    "\n",
    "# Guardamos las métricas\n",
    "metrics = {}\n",
    "\n",
    "for i in range(1,6):\n",
    "    vars_i = modelo_variables[i]\n",
    "    \n",
    "    # Preparamos los datos de entrenamiento y entrenamos el modelo\n",
    "    X_train_i = x_train_ocu[vars_i].replace([np.nan, np.inf, -np.inf], 0)\n",
    "    Y_train_i = y_train_ocu['salario_semanal'].replace([np.nan, np.inf, -np.inf], 0)\n",
    "    \n",
    "    model_i = sm.OLS(Y_train_i, X_train_i)\n",
    "    results_i = model_i.fit()\n",
    "\n",
    "    # Preparamos los datos de testeo\n",
    "    X_test_i = x_test_ocu[vars_i].replace([np.nan, np.inf, -np.inf], 0)\n",
    "    Y_test_true = y_test_ocu['salario_semanal']\n",
    "    coef_i = results_i.params\n",
    "    y_pred_i = X_test_i @ coef_i\n",
    "    \n",
    "    # Calculamos las métricas (mse test, rmse test, mae test)\n",
    "    mse_i = mean_squared_error(Y_test_true, y_pred_i)\n",
    "    rmse_i = np.sqrt(mse_i)\n",
    "    mae_i = mean_absolute_error(Y_test_true, y_pred_i)\n",
    "    \n",
    "    metrics[i] = {\n",
    "        'MSE': mse_i,\n",
    "        'RMSE': rmse_i,\n",
    "        'MAE': mae_i,\n",
    "    }\n",
    "    \n",
    "    print(f\"Modelo {i} {vars_i}\")\n",
    "    print(f\"  MSE: {mse_i:.2f}, RMSE: {rmse_i:.2f}, MAE: {mae_i:.2f}\\n\")"
   ]
  },
  {
   "cell_type": "code",
   "execution_count": 88,
   "id": "44b9f087-1bc5-4457-9be9-398d663fb532",
   "metadata": {},
   "outputs": [
    {
     "data": {
      "text/html": [
       "<div>\n",
       "<style scoped>\n",
       "    .dataframe tbody tr th:only-of-type {\n",
       "        vertical-align: middle;\n",
       "    }\n",
       "\n",
       "    .dataframe tbody tr th {\n",
       "        vertical-align: top;\n",
       "    }\n",
       "\n",
       "    .dataframe thead th {\n",
       "        text-align: right;\n",
       "    }\n",
       "</style>\n",
       "<table border=\"1\" class=\"dataframe\">\n",
       "  <thead>\n",
       "    <tr style=\"text-align: right;\">\n",
       "      <th></th>\n",
       "      <th>MSE</th>\n",
       "      <th>RMSE</th>\n",
       "      <th>MAE</th>\n",
       "    </tr>\n",
       "    <tr>\n",
       "      <th>Modelo</th>\n",
       "      <th></th>\n",
       "      <th></th>\n",
       "      <th></th>\n",
       "    </tr>\n",
       "  </thead>\n",
       "  <tbody>\n",
       "    <tr>\n",
       "      <th>1</th>\n",
       "      <td>1,132,976,695.39</td>\n",
       "      <td>33,659.72</td>\n",
       "      <td>8,878.36</td>\n",
       "    </tr>\n",
       "    <tr>\n",
       "      <th>2</th>\n",
       "      <td>1,128,820,310.98</td>\n",
       "      <td>33,597.92</td>\n",
       "      <td>8,867.12</td>\n",
       "    </tr>\n",
       "    <tr>\n",
       "      <th>3</th>\n",
       "      <td>1,124,998,171.89</td>\n",
       "      <td>33,540.99</td>\n",
       "      <td>8,808.23</td>\n",
       "    </tr>\n",
       "    <tr>\n",
       "      <th>4</th>\n",
       "      <td>1,114,844,642.31</td>\n",
       "      <td>33,389.29</td>\n",
       "      <td>8,520.20</td>\n",
       "    </tr>\n",
       "    <tr>\n",
       "      <th>5</th>\n",
       "      <td>1,115,022,751.02</td>\n",
       "      <td>33,391.96</td>\n",
       "      <td>8,404.56</td>\n",
       "    </tr>\n",
       "  </tbody>\n",
       "</table>\n",
       "</div>"
      ],
      "text/plain": [
       "                     MSE       RMSE       MAE\n",
       "Modelo                                       \n",
       "1       1,132,976,695.39  33,659.72  8,878.36\n",
       "2       1,128,820,310.98  33,597.92  8,867.12\n",
       "3       1,124,998,171.89  33,540.99  8,808.23\n",
       "4       1,114,844,642.31  33,389.29  8,520.20\n",
       "5       1,115,022,751.02  33,391.96  8,404.56"
      ]
     },
     "execution_count": 88,
     "metadata": {},
     "output_type": "execute_result"
    }
   ],
   "source": [
    "# Creamos un df con los valores de las métricas.\n",
    "\n",
    "data = []\n",
    "for model_num, vals in metrics.items():\n",
    "    data.append({\n",
    "        'Modelo': model_num,\n",
    "        'MSE': vals['MSE'],\n",
    "        'RMSE': vals['RMSE'],\n",
    "        'MAE': vals['MAE']\n",
    "    })\n",
    "df_metrics = pd.DataFrame(metrics).T\n",
    "df_metrics.index.name = \"Modelo\"\n",
    "df_metrics_formateado = df_metrics.round(2).apply(lambda col: col.map('{:,.2f}'.format))\n",
    "df_metrics_formateado.to_excel('metricas.xlsx') # Lo exportamos a un excel para completar la tabla.\n",
    "df_metrics_formateado"
   ]
  },
  {
   "cell_type": "code",
   "execution_count": 89,
   "id": "4baa7c3e-559a-41ed-b467-dbf176ed2519",
   "metadata": {},
   "outputs": [
    {
     "data": {
      "image/png": "[encoded data removed]",
      "text/plain": [
       "<Figure size 1000x600 with 1 Axes>"
      ]
     },
     "metadata": {},
     "output_type": "display_data"
    }
   ],
   "source": [
    "# Parte B - Punto 4\n",
    "import matplotlib.pyplot as plt\n",
    "from matplotlib.ticker import StrMethodFormatter\n",
    "\n",
    "# Gráfico de dispersión para el modelo de mejor performance\n",
    "\n",
    "# Vamos a usar las predicciones del modelo 5, ya que este presenta el menor MSE y MAE de testeo.\n",
    "variables_modelo_5 = ['edad', 'edad2', 'intercepto', 'educ', 'mujer', 'vp_dummy', 'lee_dummy']\n",
    "x_test_ocu['educ'] = x_test_ocu['educ'].fillna(x_test_ocu['educ'].median())\n",
    "x_test_ocu['vp_dummy'] = x_test_ocu['vp_dummy'].fillna(x_test_ocu['vp_dummy'].mode()[0])\n",
    "x_test_ocu['lee_dummy'] = x_test_ocu['lee_dummy'].fillna(x_test_ocu['lee_dummy'].mode()[0])\n",
    "x_test_ocu = x_test_ocu.loc[y_test_ocu.index]\n",
    "\n",
    "X_test_5 = x_test_ocu[variables_modelo_5].replace([np.nan, np.inf, -np.inf], 0)\n",
    "y_pred_5 = results_i.predict(X_test_5)\n",
    "\n",
    "# Creamos un DataFrame para graficar\n",
    "df_grafico_5 = X_test_5.copy()\n",
    "df_grafico_5[\"edad\"] = x_test_ocu[\"edad\"]\n",
    "df_grafico_5[\"salario_semanal\"] = y_test_ocu[\"salario_semanal\"].values\n",
    "df_grafico_5[\"salario_semanal_hat_test\"] = y_pred_5.values\n",
    "\n",
    "# Realizamos el gráfico de scatter plot\n",
    "plt.figure(figsize=(10, 6))\n",
    "plt.scatter(df_grafico_5[\"edad\"], df_grafico_5[\"salario_semanal\"], color=\"green\", alpha=0.5, label=\"Salario real\")\n",
    "plt.scatter(df_grafico_5[\"edad\"], df_grafico_5[\"salario_semanal_hat_test\"], color=\"blue\", alpha=0.5, label=\"Salario predicho (hat test)\")\n",
    "\n",
    "# Usamos la librería de numpy para graficar una línea de regresión; esto nos va a facilitar la visualización de los datos predichos\n",
    "coef = np.polyfit(df_grafico_5[\"edad\"], df_grafico_5[\"salario_semanal_hat_test\"], 1)\n",
    "linea_regresion = np.poly1d(coef)\n",
    "edades = np.linspace(df_grafico_5[\"edad\"].min(), df_grafico_5[\"edad\"].max(), 100)\n",
    "salarios_predichos_linea = linea_regresion(edades)\n",
    "plt.plot(edades, salarios_predichos_linea, color=\"red\", linewidth=3, label=\"Línea de regresión\")\n",
    "\n",
    "plt.xlabel(\"Edad\", fontsize=11)\n",
    "plt.ylabel(\"Salario semanal (pesos)\", rotation=0, labelpad=60, fontsize=10)\n",
    "plt.title(\"Gráfico 1 - dispersión. Predicción de salarios - Modelo 5 (mejor performance). GBA\", fontsize=12)\n",
    "plt.legend(fontsize=12)\n",
    "plt.grid(True)\n",
    "plt.gca().yaxis.set_major_formatter(StrMethodFormatter('{x:,.0f}'))\n",
    "plt.ylim(0, 200000)\n",
    "plt.tight_layout()\n",
    "plt.savefig(\"scatter_modelo5.png\", bbox_inches=\"tight\", dpi=300)\n",
    "plt.show()"
   ]
  },
  {
   "cell_type": "code",
   "execution_count": 90,
   "id": "498f82b6-c4c3-4340-9e4b-f37635e27eb2",
   "metadata": {},
   "outputs": [
    {
     "name": "stdout",
     "output_type": "stream",
     "text": [
      "\n",
      "--- Logit ---\n",
      "Matriz de confusión:\n",
      "[[128 213]\n",
      " [ 83 678]]\n",
      "Accuracy: 0.7313974591651543\n",
      "AUC: 0.733124342488083\n"
     ]
    },
    {
     "name": "stderr",
     "output_type": "stream",
     "text": [
      "C:\\Users\\Adela\\AppData\\Local\\Temp\\ipykernel_3248\\2191148817.py:14: SettingWithCopyWarning: \n",
      "A value is trying to be set on a copy of a slice from a DataFrame.\n",
      "Try using .loc[row_indexer,col_indexer] = value instead\n",
      "\n",
      "See the caveats in the documentation: https://pandas.pydata.org/pandas-docs/stable/user_guide/indexing.html#returning-a-view-versus-a-copy\n",
      "  respondieron['mujer'] = respondieron['Sexos Relevados'].map({\"Mujer\": 1, 'Varón': 0})\n",
      "C:\\Users\\Adela\\AppData\\Local\\Temp\\ipykernel_3248\\2191148817.py:15: SettingWithCopyWarning: \n",
      "A value is trying to be set on a copy of a slice from a DataFrame.\n",
      "Try using .loc[row_indexer,col_indexer] = value instead\n",
      "\n",
      "See the caveats in the documentation: https://pandas.pydata.org/pandas-docs/stable/user_guide/indexing.html#returning-a-view-versus-a-copy\n",
      "  respondieron['lee_dummy'] = respondieron['Sabe leer y escribir'].map({'Sí': 1, 'No': 2})\n",
      "C:\\Users\\Adela\\AppData\\Local\\Temp\\ipykernel_3248\\2191148817.py:16: SettingWithCopyWarning: \n",
      "A value is trying to be set on a copy of a slice from a DataFrame.\n",
      "Try using .loc[row_indexer,col_indexer] = value instead\n",
      "\n",
      "See the caveats in the documentation: https://pandas.pydata.org/pandas-docs/stable/user_guide/indexing.html#returning-a-view-versus-a-copy\n",
      "  respondieron['vp_dummy'] = respondieron['Tiene Vacaciones Pagas'].map({'Sí': 1, 'No': 2})\n",
      "C:\\Users\\Adela\\AppData\\Local\\Temp\\ipykernel_3248\\2191148817.py:17: SettingWithCopyWarning: \n",
      "A value is trying to be set on a copy of a slice from a DataFrame.\n",
      "Try using .loc[row_indexer,col_indexer] = value instead\n",
      "\n",
      "See the caveats in the documentation: https://pandas.pydata.org/pandas-docs/stable/user_guide/indexing.html#returning-a-view-versus-a-copy\n",
      "  respondieron[\"salario_semanal\"]=respondieron[\"salario_semanal\"].round(2)\n",
      "C:\\Users\\Adela\\anaconda3\\Lib\\site-packages\\sklearn\\metrics\\_plot\\roc_curve.py:171: UserWarning: No artists with labels found to put in legend.  Note that artists whose label start with an underscore are ignored when legend() is called with no argument.\n",
      "  self.ax_.legend(loc=\"lower right\")\n"
     ]
    },
    {
     "data": {
      "text/plain": [
       "<Figure size 640x480 with 0 Axes>"
      ]
     },
     "metadata": {},
     "output_type": "display_data"
    },
    {
     "data": {
      "image/png": "[encoded data removed]",
      "text/plain": [
       "<Figure size 640x480 with 1 Axes>"
      ]
     },
     "metadata": {},
     "output_type": "display_data"
    },
    {
     "name": "stderr",
     "output_type": "stream",
     "text": [
      "C:\\Users\\Adela\\anaconda3\\Lib\\site-packages\\sklearn\\metrics\\_plot\\roc_curve.py:171: UserWarning: No artists with labels found to put in legend.  Note that artists whose label start with an underscore are ignored when legend() is called with no argument.\n",
      "  self.ax_.legend(loc=\"lower right\")\n"
     ]
    },
    {
     "name": "stdout",
     "output_type": "stream",
     "text": [
      "\n",
      "--- KNN (k=5) ---\n",
      "Matriz de confusión:\n",
      "[[145 196]\n",
      " [143 618]]\n",
      "Accuracy: 0.6923774954627949\n",
      "AUC: 0.669220927857696\n"
     ]
    },
    {
     "data": {
      "text/plain": [
       "<Figure size 640x480 with 0 Axes>"
      ]
     },
     "metadata": {},
     "output_type": "display_data"
    },
    {
     "data": {
      "image/png": "[encoded data removed]",
      "text/plain": [
       "<Figure size 640x480 with 1 Axes>"
      ]
     },
     "metadata": {},
     "output_type": "display_data"
    }
   ],
   "source": [
    "import pandas as pd\n",
    "from sklearn.model_selection import train_test_split\n",
    "from sklearn.linear_model import LogisticRegression\n",
    "from sklearn.neighbors import KNeighborsClassifier\n",
    "from sklearn.metrics import confusion_matrix, roc_curve, roc_auc_score, accuracy_score, RocCurveDisplay\n",
    "import matplotlib.pyplot as plt\n",
    "\n",
    "# Filtro solo ocupados\n",
    "ocu = respondieron[respondieron[\"ESTADO\"] == \"Ocupado\"].copy()\n",
    "ocu['intercepto'] = 1\n",
    "ocu.rename(columns={'Años al momento de la encuesta': 'edad'}, inplace=True)\n",
    "\n",
    "# Dummies y auxiliares\n",
    "respondieron['mujer'] = respondieron['Sexos Relevados'].map({\"Mujer\": 1, 'Varón': 0})\n",
    "respondieron['lee_dummy'] = respondieron['Sabe leer y escribir'].map({'Sí': 1, 'No': 2})\n",
    "respondieron['vp_dummy'] = respondieron['Tiene Vacaciones Pagas'].map({'Sí': 1, 'No': 2})\n",
    "respondieron[\"salario_semanal\"]=respondieron[\"salario_semanal\"].round(2)\n",
    "\n",
    "# VARIABLE OBJETIVO BINARIA: ejemplo vacaciones pagas\n",
    "# (1=Sí, 0=No)\n",
    "ocu['objetivo'] = ocu['vp_dummy'].map({1: 1, 2: 0})\n",
    "\n",
    "# Elimino filas con NaN en X o y\n",
    "cols_X = [\"edad\", \"intercepto\", \"educ\", \"mujer\", \"lee_dummy\"]\n",
    "modelo_df = ocu.dropna(subset=['objetivo'] + cols_X)\n",
    "X = modelo_df[cols_X]\n",
    "y = modelo_df['objetivo']\n",
    "\n",
    "# Split entrenamiento/testeo\n",
    "x_train, x_test, y_train, y_test = train_test_split(X, y, test_size=0.3, random_state=444)\n",
    "\n",
    "# Imputación de NaN en X\n",
    "x_train = x_train.fillna(x_train.mean())\n",
    "x_test = x_test.fillna(x_train.mean())\n",
    "\n",
    "# LOGIT\n",
    "logit = LogisticRegression(max_iter=1000)\n",
    "logit.fit(x_train, y_train)\n",
    "logit_probs = logit.predict_proba(x_test)[:, 1]\n",
    "logit_pred = (logit_probs > 0.5).astype(int)\n",
    "\n",
    "# KNN\n",
    "knn = KNeighborsClassifier(n_neighbors=5)\n",
    "knn.fit(x_train, y_train)\n",
    "knn_probs = knn.predict_proba(x_test)[:, 1]\n",
    "knn_pred = (knn_probs > 0.5).astype(int)\n",
    "\n",
    "# Reporte métricas y ROC\n",
    "def report_metrics(y_true, y_pred, y_prob, nombre=\"Modelo\"):\n",
    "    print(f\"\\n--- {nombre} ---\")\n",
    "    print(\"Matriz de confusión:\")\n",
    "    print(confusion_matrix(y_true, y_pred))\n",
    "    print(\"Accuracy:\", accuracy_score(y_true, y_pred))\n",
    "    auc = roc_auc_score(y_true, y_prob)\n",
    "    print(\"AUC:\", auc)\n",
    "    fpr, tpr, _ = roc_curve(y_true, y_prob)\n",
    "    plt.figure()\n",
    "    RocCurveDisplay(fpr=fpr, tpr=tpr).plot()\n",
    "    plt.title(\"Gráfico 2- Curva ROC\", fontsize=12)\n",
    "    plt.show()\n",
    "\n",
    "report_metrics(y_test, logit_pred, logit_probs, nombre=\"Logit\")\n",
    "report_metrics(y_test, knn_pred, knn_probs, nombre=\"KNN (k=5)\")"
   ]
  },
  {
   "cell_type": "code",
   "execution_count": 91,
   "id": "6498e8bf-b2b1-43b8-b6e8-c6b4b6449507",
   "metadata": {},
   "outputs": [
    {
     "name": "stdout",
     "output_type": "stream",
     "text": [
      "Proporción de personas identificadas como desocupadas en norespondieron: 80.49%\n"
     ]
    },
    {
     "name": "stderr",
     "output_type": "stream",
     "text": [
      "C:\\Users\\Adela\\AppData\\Local\\Temp\\ipykernel_3248\\202456789.py:4: SettingWithCopyWarning: \n",
      "A value is trying to be set on a copy of a slice from a DataFrame.\n",
      "Try using .loc[row_indexer,col_indexer] = value instead\n",
      "\n",
      "See the caveats in the documentation: https://pandas.pydata.org/pandas-docs/stable/user_guide/indexing.html#returning-a-view-versus-a-copy\n",
      "  no_respondieron['intercepto'] = 1\n"
     ]
    }
   ],
   "source": [
    "# Usando la misma lógica y variables auxiliares del punto 5\n",
    "\n",
    "# Preparo la base no_respondieron\n",
    "no_respondieron['intercepto'] = 1\n",
    "no_respondieron = no_respondieron.rename(columns={'Años al momento de la encuesta': 'edad'}, inplace=False)\n",
    "no_respondieron['mujer'] = no_respondieron['Sexos Relevados'].map({'Mujer': 1, 'Varón': 0})\n",
    "no_respondieron['lee_dummy'] = no_respondieron['Sabe leer y escribir'].map({'Sí': 1, 'No': 2})\n",
    "no_respondieron['vp_dummy'] = no_respondieron['Tiene Vacaciones Pagas'].map({'Sí': 1, 'No': 2})\n",
    "no_respondieron['salario_semanal'] = no_respondieron['salario_semanal'].round(2)\n",
    "\n",
    "# Variables predictoras y objetivo\n",
    "cols_X = ['edad', 'intercepto', 'educ', 'mujer', 'lee_dummy']\n",
    "X_noresp = no_respondieron[cols_X].copy()\n",
    "\n",
    "# Imput valores faltantes igual que en entrenamiento\n",
    "X_noresp = X_noresp.fillna(x_train.mean())\n",
    "\n",
    "# el modelo logit entrenado\n",
    "# Asegúro que 'logit' sea el modelo ya entrenado en el punto 5\n",
    "noresp_probs = logit.predict_proba(X_noresp)[:, 1]\n",
    "noresp_pred = (noresp_probs > 0.5).astype(int)\n",
    "\n",
    "# Calculo proporción de desocupados predichos\n",
    "proporcion_desocupados = noresp_pred.sum() / len(noresp_pred)\n",
    "print(f\"Proporción de personas identificadas como desocupadas en norespondieron: {proporcion_desocupados:.2%}\")"
   ]
  },
  {
   "cell_type": "code",
   "execution_count": null,
   "id": "89460bcd-36c5-4ad0-bb36-a97d3b7059a9",
   "metadata": {},
   "outputs": [],
   "source": []
  }
 ],
 "metadata": {
  "kernelspec": {
   "display_name": "Python [conda env:base] *",
   "language": "python",
   "name": "conda-base-py"
  },
  "language_info": {
   "codemirror_mode": {
    "name": "ipython",
    "version": 3
   },
   "file_extension": ".py",
   "mimetype": "text/x-python",
   "name": "python",
   "nbconvert_exporter": "python",
   "pygments_lexer": "ipython3",
   "version": "3.12.7"
  }
 },
 "nbformat": 4,
 "nbformat_minor": 5
}
