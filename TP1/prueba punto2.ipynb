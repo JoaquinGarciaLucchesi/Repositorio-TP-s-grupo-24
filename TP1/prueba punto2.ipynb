{
 "cells": [
  {
   "cell_type": "markdown",
   "metadata": {
    "collapsed": true,
    "id": "Dh8MkXaG-c9Y",
    "jupyter": {
     "outputs_hidden": true
    }
   },
   "source": [
    "# Big Data y Machine Learning (UBA) -  2025\n",
    "\n",
    "## Trabajo Práctico 1: Jugando con APIs y WebScraping "
   ]
  },
  {
   "cell_type": "markdown",
   "metadata": {
    "id": "RhBlm6mZ-c9e"
   },
   "source": [
    "### Reglas de formato y presentación\n",
    "- El trabajo debe estar debidamente documentado comentado (utilizando #) para que tanto los docentes como sus compañeros puedan comprender el código fácilmente.\n",
    "\n",
    "- El mismo debe ser completado en este Jupyter Notebook y entregado como tal, es decir en un archivo .ipynb\n"
   ]
  },
  {
   "cell_type": "markdown",
   "metadata": {
    "id": "ZEjGaa4U-c9g"
   },
   "source": [
    "### Fecha de entrega:\n",
    "Viernes 4 de Abril a las 13:00 hs"
   ]
  },
  {
   "cell_type": "markdown",
   "metadata": {
    "id": "N9TU2y7E-c9h"
   },
   "source": [
    "### Modalidad de entrega\n",
    "- Al finalizar el trabajo práctico deben hacer un último <i>commit</i> en su repositorio de GitHub llamado “Entrega final del tp”. \n",
    "- Asegurense de haber creado una carpeta llamada TP1. Este Jupyter Notebook y el correspondiente al TP1 deben estar dentro de esa carpeta.\n",
    "- También deben enviar el link de su repositorio -para que pueda ser clonado y corregido- a mi correo 25RO35480961@campus.economicas.uba.ar. Usar de asunto de email <i>\"Big Data - TP 1 - Grupo #\"</i> y nombrar el archivo <i>\"TP1_Grupo #\"</i> donde # es el número de grupo que le fue asignado.\n",
    "- La última versión en el repositorio es la que será evaluada. Por lo que es importante que: \n",
    "    - No envien el correo hasta no haber terminado y estar seguros de que han hecho el <i>commit y push</i> a la versión final que quieren entregar. \n",
    "    - No hagan nuevos <i>push</i> despues de haber entregado su versión final. Esto generaría confusión acerca de que versión es la que quieren que se les corrija.\n",
    "- En resumen, la carpeta del repositorio debe incluir:\n",
    "    - El codigo\n",
    "    - Un documento Word (Parte A) donde esten las figuras y una breve descripción de las mismas.\n",
    "    - El excel con los links webscrappeados (Parte B)"
   ]
  },
  {
   "cell_type": "markdown",
   "metadata": {},
   "source": [
    "### Parte A"
   ]
  },
  {
   "cell_type": "markdown",
   "metadata": {
    "id": "ZXbrPraa-c9i"
   },
   "source": [
    "#### Ejercicio 1 - Jugando con APIs\n",
    "Usando la API del Banco Mundial [link](https://wbdata.readthedocs.io/en/stable/) , obtener dos series de indicadores para dos paises a elección en una consulta de búsqueda. Pueden buscar serie de indicadores de su interés."
   ]
  },
  {
   "cell_type": "code",
   "execution_count": 3,
   "metadata": {},
   "outputs": [
    {
     "name": "stdout",
     "output_type": "stream",
     "text": [
      "Requirement already satisfied: wbdata in c:\\users\\ldtes\\anaconda3\\lib\\site-packages (1.0.0)\n",
      "Requirement already satisfied: appdirs<2.0,>=1.4 in c:\\users\\ldtes\\anaconda3\\lib\\site-packages (from wbdata) (1.4.4)\n",
      "Requirement already satisfied: backoff<3.0.0,>=2.2.1 in c:\\users\\ldtes\\anaconda3\\lib\\site-packages (from wbdata) (2.2.1)\n",
      "Requirement already satisfied: cachetools<6.0.0,>=5.3.2 in c:\\users\\ldtes\\anaconda3\\lib\\site-packages (from wbdata) (5.3.3)\n",
      "Requirement already satisfied: dateparser<2.0.0,>=1.2.0 in c:\\users\\ldtes\\anaconda3\\lib\\site-packages (from wbdata) (1.2.1)\n",
      "Requirement already satisfied: decorator<6.0.0,>=5.1.1 in c:\\users\\ldtes\\anaconda3\\lib\\site-packages (from wbdata) (5.1.1)\n",
      "Requirement already satisfied: requests<3.0,>=2.0 in c:\\users\\ldtes\\anaconda3\\lib\\site-packages (from wbdata) (2.32.3)\n",
      "Requirement already satisfied: shelved-cache<0.4.0,>=0.3.1 in c:\\users\\ldtes\\anaconda3\\lib\\site-packages (from wbdata) (0.3.1)\n",
      "Requirement already satisfied: tabulate<0.9.0,>=0.8.5 in c:\\users\\ldtes\\anaconda3\\lib\\site-packages (from wbdata) (0.8.10)\n",
      "Requirement already satisfied: python-dateutil>=2.7.0 in c:\\users\\ldtes\\anaconda3\\lib\\site-packages (from dateparser<2.0.0,>=1.2.0->wbdata) (2.9.0.post0)\n",
      "Requirement already satisfied: pytz>=2024.2 in c:\\users\\ldtes\\anaconda3\\lib\\site-packages (from dateparser<2.0.0,>=1.2.0->wbdata) (2025.2)\n",
      "Requirement already satisfied: regex!=2019.02.19,!=2021.8.27,>=2015.06.24 in c:\\users\\ldtes\\anaconda3\\lib\\site-packages (from dateparser<2.0.0,>=1.2.0->wbdata) (2024.9.11)\n",
      "Requirement already satisfied: tzlocal>=0.2 in c:\\users\\ldtes\\anaconda3\\lib\\site-packages (from dateparser<2.0.0,>=1.2.0->wbdata) (5.3.1)\n",
      "Requirement already satisfied: charset-normalizer<4,>=2 in c:\\users\\ldtes\\anaconda3\\lib\\site-packages (from requests<3.0,>=2.0->wbdata) (3.3.2)\n",
      "Requirement already satisfied: idna<4,>=2.5 in c:\\users\\ldtes\\anaconda3\\lib\\site-packages (from requests<3.0,>=2.0->wbdata) (3.7)\n",
      "Requirement already satisfied: urllib3<3,>=1.21.1 in c:\\users\\ldtes\\anaconda3\\lib\\site-packages (from requests<3.0,>=2.0->wbdata) (2.2.3)\n",
      "Requirement already satisfied: certifi>=2017.4.17 in c:\\users\\ldtes\\anaconda3\\lib\\site-packages (from requests<3.0,>=2.0->wbdata) (2025.1.31)\n",
      "Requirement already satisfied: six>=1.5 in c:\\users\\ldtes\\anaconda3\\lib\\site-packages (from python-dateutil>=2.7.0->dateparser<2.0.0,>=1.2.0->wbdata) (1.16.0)\n",
      "Requirement already satisfied: tzdata in c:\\users\\ldtes\\anaconda3\\lib\\site-packages (from tzlocal>=0.2->dateparser<2.0.0,>=1.2.0->wbdata) (2023.3)\n"
     ]
    }
   ],
   "source": [
    "import sys\n",
    "!{sys.executable} -m pip install wbdata"
   ]
  },
  {
   "cell_type": "code",
   "execution_count": 4,
   "metadata": {},
   "outputs": [
    {
     "name": "stdout",
     "output_type": "stream",
     "text": [
      "Requirement already satisfied: wbdata in c:\\users\\ldtes\\anaconda3\\lib\\site-packages (1.0.0)\n",
      "Requirement already satisfied: appdirs<2.0,>=1.4 in c:\\users\\ldtes\\anaconda3\\lib\\site-packages (from wbdata) (1.4.4)\n",
      "Requirement already satisfied: backoff<3.0.0,>=2.2.1 in c:\\users\\ldtes\\anaconda3\\lib\\site-packages (from wbdata) (2.2.1)\n",
      "Requirement already satisfied: cachetools<6.0.0,>=5.3.2 in c:\\users\\ldtes\\anaconda3\\lib\\site-packages (from wbdata) (5.3.3)\n",
      "Requirement already satisfied: dateparser<2.0.0,>=1.2.0 in c:\\users\\ldtes\\anaconda3\\lib\\site-packages (from wbdata) (1.2.1)\n",
      "Requirement already satisfied: decorator<6.0.0,>=5.1.1 in c:\\users\\ldtes\\anaconda3\\lib\\site-packages (from wbdata) (5.1.1)\n",
      "Requirement already satisfied: requests<3.0,>=2.0 in c:\\users\\ldtes\\anaconda3\\lib\\site-packages (from wbdata) (2.32.3)\n",
      "Requirement already satisfied: shelved-cache<0.4.0,>=0.3.1 in c:\\users\\ldtes\\anaconda3\\lib\\site-packages (from wbdata) (0.3.1)\n",
      "Requirement already satisfied: tabulate<0.9.0,>=0.8.5 in c:\\users\\ldtes\\anaconda3\\lib\\site-packages (from wbdata) (0.8.10)\n",
      "Requirement already satisfied: python-dateutil>=2.7.0 in c:\\users\\ldtes\\anaconda3\\lib\\site-packages (from dateparser<2.0.0,>=1.2.0->wbdata) (2.9.0.post0)\n",
      "Requirement already satisfied: pytz>=2024.2 in c:\\users\\ldtes\\anaconda3\\lib\\site-packages (from dateparser<2.0.0,>=1.2.0->wbdata) (2025.2)\n",
      "Requirement already satisfied: regex!=2019.02.19,!=2021.8.27,>=2015.06.24 in c:\\users\\ldtes\\anaconda3\\lib\\site-packages (from dateparser<2.0.0,>=1.2.0->wbdata) (2024.9.11)\n",
      "Requirement already satisfied: tzlocal>=0.2 in c:\\users\\ldtes\\anaconda3\\lib\\site-packages (from dateparser<2.0.0,>=1.2.0->wbdata) (5.3.1)\n",
      "Requirement already satisfied: charset-normalizer<4,>=2 in c:\\users\\ldtes\\anaconda3\\lib\\site-packages (from requests<3.0,>=2.0->wbdata) (3.3.2)\n",
      "Requirement already satisfied: idna<4,>=2.5 in c:\\users\\ldtes\\anaconda3\\lib\\site-packages (from requests<3.0,>=2.0->wbdata) (3.7)\n",
      "Requirement already satisfied: urllib3<3,>=1.21.1 in c:\\users\\ldtes\\anaconda3\\lib\\site-packages (from requests<3.0,>=2.0->wbdata) (2.2.3)\n",
      "Requirement already satisfied: certifi>=2017.4.17 in c:\\users\\ldtes\\anaconda3\\lib\\site-packages (from requests<3.0,>=2.0->wbdata) (2025.1.31)\n",
      "Requirement already satisfied: six>=1.5 in c:\\users\\ldtes\\anaconda3\\lib\\site-packages (from python-dateutil>=2.7.0->dateparser<2.0.0,>=1.2.0->wbdata) (1.16.0)\n",
      "Requirement already satisfied: tzdata in c:\\users\\ldtes\\anaconda3\\lib\\site-packages (from tzlocal>=0.2->dateparser<2.0.0,>=1.2.0->wbdata) (2023.3)\n"
     ]
    }
   ],
   "source": [
    "!pip install wbdata\n",
    "import wbdata\n",
    "import pandas as pd"
   ]
  },
  {
   "cell_type": "code",
   "execution_count": null,
   "metadata": {},
   "outputs": [],
   "source": []
  },
  {
   "cell_type": "markdown",
   "metadata": {},
   "source": [
    "#### Ejercicio 2 - Repaso de Pandas\n",
    "Realicen una estadistica descriptiva de ambas series de indicadores comparando los dos países."
   ]
  },
  {
   "cell_type": "code",
   "execution_count": 137,
   "metadata": {},
   "outputs": [
    {
     "data": {
      "text/html": [
       "<div>\n",
       "<style scoped>\n",
       "    .dataframe tbody tr th:only-of-type {\n",
       "        vertical-align: middle;\n",
       "    }\n",
       "\n",
       "    .dataframe tbody tr th {\n",
       "        vertical-align: top;\n",
       "    }\n",
       "\n",
       "    .dataframe thead th {\n",
       "        text-align: right;\n",
       "    }\n",
       "</style>\n",
       "<table border=\"1\" class=\"dataframe\">\n",
       "  <thead>\n",
       "    <tr style=\"text-align: right;\">\n",
       "      <th></th>\n",
       "      <th>Media Aritmética</th>\n",
       "      <th>Desvío Estándar</th>\n",
       "      <th>Mediana</th>\n",
       "      <th>25%</th>\n",
       "      <th>75%</th>\n",
       "    </tr>\n",
       "  </thead>\n",
       "  <tbody>\n",
       "    <tr>\n",
       "      <th>Argentina</th>\n",
       "      <td>1.29</td>\n",
       "      <td>5.52</td>\n",
       "      <td>0.69</td>\n",
       "      <td>4.66</td>\n",
       "      <td>4.66</td>\n",
       "    </tr>\n",
       "    <tr>\n",
       "      <th>Uruguay</th>\n",
       "      <td>2.32</td>\n",
       "      <td>3.63</td>\n",
       "      <td>2.49</td>\n",
       "      <td>4.69</td>\n",
       "      <td>4.69</td>\n",
       "    </tr>\n",
       "  </tbody>\n",
       "</table>\n",
       "</div>"
      ],
      "text/plain": [
       "           Media Aritmética  Desvío Estándar  Mediana   25%   75%\n",
       "Argentina              1.29             5.52     0.69  4.66  4.66\n",
       "Uruguay                2.32             3.63     2.49  4.69  4.69"
      ]
     },
     "execution_count": 137,
     "metadata": {},
     "output_type": "execute_result"
    }
   ],
   "source": [
    "# Resolver acá\n",
    "\n",
    "#Se separa la información de los indicadores por país\n",
    "import statistics as st\n",
    "import pandas as pd\n",
    "#Argentina\n",
    "indicadores = {(\"NY.GDP.MKTP.CD\"): \"Producto Interno Bruto (PIB) en millones USD\", \"NY.GDP.MKTP.KD.ZG\": \"Tasa de Crecimiento del PIB (%)\"}\n",
    "data = wbdata.get_dataframe(indicadores, country=['AR'], date=(\"2010\",\"2023\"))\n",
    "df = pd.DataFrame(data=data)\n",
    "df[\"Producto Interno Bruto (PIB) en millones USD\"]=df[\"Producto Interno Bruto (PIB) en millones USD\"]/1000000\n",
    "df[\"Producto Interno Bruto (PIB) en millones USD\"]=df[\"Producto Interno Bruto (PIB) en millones USD\"].apply(round)\n",
    "df[ \"Tasa de Crecimiento del PIB (%)\"]=df[ \"Tasa de Crecimiento del PIB (%)\"].apply(lambda x: round(x, 2))\n",
    "#Uruguay\n",
    "indicadores = {(\"NY.GDP.MKTP.CD\"): \"Producto Interno Bruto (PIB) en millones USD\", \"NY.GDP.MKTP.KD.ZG\": \"Tasa de Crecimiento del PIB (%)\"}\n",
    "data = wbdata.get_dataframe(indicadores, country=['URY'], date=(\"2010\",\"2023\"))\n",
    "df_2 = pd.DataFrame(data=data)\n",
    "df_2[\"Producto Interno Bruto (PIB) en millones USD\"]=df_2[\"Producto Interno Bruto (PIB) en millones USD\"]/1000000\n",
    "df_2[\"Producto Interno Bruto (PIB) en millones USD\"]=df_2[\"Producto Interno Bruto (PIB) en millones USD\"].apply(round)\n",
    "df_2[ \"Tasa de Crecimiento del PIB (%)\"]=df_2[ \"Tasa de Crecimiento del PIB (%)\"].apply(lambda x: round(x, 2))\n",
    "\n",
    "#Se calculan valores de estadística descriptiva para cada país:\n",
    "#Argentina\n",
    "media_arg=(df[ \"Tasa de Crecimiento del PIB (%)\"].mean())\n",
    "desvio_arg=(df[ \"Tasa de Crecimiento del PIB (%)\"].std())\n",
    "mediana_arg=(df[\"Tasa de Crecimiento del PIB (%)\"].median())\n",
    "perc_25_arg=(df[\"Tasa de Crecimiento del PIB (%)\"].quantile(0.75))\n",
    "perc_75_arg= (df[\"Tasa de Crecimiento del PIB (%)\"].quantile(0.75))\n",
    "#Uruguay\n",
    "media_uru=(df_2[ \"Tasa de Crecimiento del PIB (%)\"].mean())\n",
    "desvio_uru=(df_2[ \"Tasa de Crecimiento del PIB (%)\"].std())\n",
    "mediana_uru=(df_2[\"Tasa de Crecimiento del PIB (%)\"].median())\n",
    "perc_25_uru=(df_2[\"Tasa de Crecimiento del PIB (%)\"].quantile(0.75))\n",
    "perc_75_uru= (df_2[\"Tasa de Crecimiento del PIB (%)\"].quantile(0.75))\n",
    "#Se representan los datos obtenidos en un dataframe\n",
    "descriptiva=({\"Media Aritmética\": [media_arg,media_uru],\"Desvío Estándar\":[desvio_arg,desvio_uru], \"Mediana\":[mediana_arg,mediana_uru],\"25%\":[perc_25_arg,perc_25_uru],\"75%\":[perc_75_arg,perc_75_uru]})\n",
    "df_1 = pd.DataFrame(descriptiva)\n",
    "index_=[\"Argentina\",\"Uruguay\"]\n",
    "df_1.index=index_\n",
    "df_1[\"Desvío Estándar\"]=df_1[\"Desvío Estándar\"].apply(lambda x: round(x, 2))\n",
    "df_1[\"Media Aritmética\"]=df_1[\"Media Aritmética\"].apply(lambda x: round(x, 2))\n",
    "df_1[\"Mediana\"]=df_1[\"Mediana\"].apply(lambda x: round(x, 2))\n",
    "df_1[\"25%\"]=df_1[\"25%\"].apply(lambda x: round(x, 2))\n",
    "df_1[\"75%\"]=df_1[\"75%\"].apply(lambda x: round(x, 2))\n",
    "df_1\n"
   ]
  },
  {
   "cell_type": "markdown",
   "metadata": {},
   "source": [
    "#### Ejercicio 3 - Practicando con Matplotlib\n",
    "Armen dos gráficos distintos usando la librería Matplotlib (repasen Clase 4). Uno programandolo con el estilo *pyplot* y otro gráfico de estilo *orientada a objetos*"
   ]
  },
  {
   "cell_type": "code",
   "execution_count": 131,
   "metadata": {},
   "outputs": [
    {
     "name": "stdout",
     "output_type": "stream",
     "text": [
      "       Producto Interno Bruto (PIB) en millones USD  \\\n",
      "count                                     14.000000   \n",
      "mean                                  535554.714286   \n",
      "std                                    79916.645646   \n",
      "min                                   385741.000000   \n",
      "25%                                   496128.000000   \n",
      "50%                                   538070.000000   \n",
      "75%                                   585444.750000   \n",
      "max                                   646075.000000   \n",
      "\n",
      "       Tasa de Crecimiento del PIB (%)  \n",
      "count                        14.000000  \n",
      "mean                          1.289286  \n",
      "std                           5.522535  \n",
      "min                          -9.900000  \n",
      "25%                          -2.060000  \n",
      "50%                           0.690000  \n",
      "75%                           4.657500  \n",
      "max                          10.440000  \n"
     ]
    }
   ],
   "source": [
    "# Resolver acá estilo pyplot\n",
    "indicadores = {(\"NY.GDP.MKTP.CD\"): \"Producto Interno Bruto (PIB) en millones USD\", \"NY.GDP.MKTP.KD.ZG\": \"Tasa de Crecimiento del PIB (%)\"}\n",
    "data = wbdata.get_dataframe(indicadores, country=['AR'], date=(\"2010\",\"2023\"))\n",
    "df = pd.DataFrame(data=data)\n",
    "df[\"Producto Interno Bruto (PIB) en millones USD\"]=df[\"Producto Interno Bruto (PIB) en millones USD\"]/1000000\n",
    "df[\"Producto Interno Bruto (PIB) en millones USD\"]=df[\"Producto Interno Bruto (PIB) en millones USD\"].apply(round)\n",
    "df[ \"Tasa de Crecimiento del PIB (%)\"]=df[ \"Tasa de Crecimiento del PIB (%)\"].apply(lambda x: round(x, 2))\n",
    "print(df.describe())"
   ]
  },
  {
   "cell_type": "code",
   "execution_count": null,
   "metadata": {},
   "outputs": [],
   "source": [
    "# Resolver acá estilo orientado-objetos \n",
    "# Tip: aprovechar este estilo de programar una figura para hacerlo más lindo \n"
   ]
  },
  {
   "cell_type": "markdown",
   "metadata": {},
   "source": [
    "### Parte B"
   ]
  },
  {
   "cell_type": "markdown",
   "metadata": {},
   "source": [
    "#### Ejercicio 4\n",
    "De la página de noticias del [diario La Nación](https://www.lanacion.com.ar/) o cualquier diario que les interese, utilicen herramientas de web scraping para obtener los **links** de las noticias de la portada. Guarden los links obtenidos en un dataframe y expórtenlo a un archivo de excel.\n",
    "\n",
    "Nota 1: es posible que logren obtener los links a las noticias sin el dominio: \"https://www.lanacion.com.ar/\". De ser así, concatenen el dominio a la ruta del link obtenido, tal que se obtenga un link al que se pueda acceder. Es decir, que las cadenas de caracteres finales tendrán la forma: https://www.lanacion.com.ar/*texto_obtenido*)\n",
    "\n",
    "Nota 2: junto con su entrega, adjunten una captura de la página de noticias al momento de correr su código. Eso servirá al momento de la corrección para verificar que los links obtenidos hacen referencia a las noticias de ese día y hora."
   ]
  },
  {
   "cell_type": "code",
   "execution_count": null,
   "metadata": {},
   "outputs": [],
   "source": [
    "# Resolver acá\n"
   ]
  }
 ],
 "metadata": {
  "anaconda-cloud": {},
  "colab": {
   "name": "TP1 - Parte 1.ipynb",
   "provenance": []
  },
  "kernelspec": {
   "display_name": "Python 3 (ipykernel)",
   "language": "python",
   "name": "python3"
  },
  "language_info": {
   "codemirror_mode": {
    "name": "ipython",
    "version": 3
   },
   "file_extension": ".py",
   "mimetype": "text/x-python",
   "name": "python",
   "nbconvert_exporter": "python",
   "pygments_lexer": "ipython3",
   "version": "3.12.7"
  }
 },
 "nbformat": 4,
 "nbformat_minor": 4
}
