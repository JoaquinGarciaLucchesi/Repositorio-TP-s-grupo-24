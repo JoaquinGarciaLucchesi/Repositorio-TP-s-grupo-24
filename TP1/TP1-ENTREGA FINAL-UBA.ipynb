{
 "cells": [
  {
   "cell_type": "markdown",
   "metadata": {
    "collapsed": true,
    "id": "Dh8MkXaG-c9Y",
    "jupyter": {
     "outputs_hidden": true
    }
   },
   "source": [
    "# Big Data y Machine Learning (UBA) -  2025\n",
    "\n",
    "## Trabajo Práctico 1: Jugando con APIs y WebScraping "
   ]
  },
  {
   "cell_type": "markdown",
   "metadata": {
    "id": "RhBlm6mZ-c9e"
   },
   "source": [
    "### Reglas de formato y presentación\n",
    "- El trabajo debe estar debidamente documentado comentado (utilizando #) para que tanto los docentes como sus compañeros puedan comprender el código fácilmente.\n",
    "\n",
    "- El mismo debe ser completado en este Jupyter Notebook y entregado como tal, es decir en un archivo .ipynb\n"
   ]
  },
  {
   "cell_type": "markdown",
   "metadata": {
    "id": "ZEjGaa4U-c9g"
   },
   "source": [
    "### Fecha de entrega:\n",
    "Viernes 4 de Abril a las 13:00 hs"
   ]
  },
  {
   "cell_type": "markdown",
   "metadata": {
    "id": "N9TU2y7E-c9h"
   },
   "source": [
    "### Modalidad de entrega\n",
    "- Al finalizar el trabajo práctico deben hacer un último <i>commit</i> en su repositorio de GitHub llamado “Entrega final del tp”. \n",
    "- Asegurense de haber creado una carpeta llamada TP1. Este Jupyter Notebook y el correspondiente al TP1 deben estar dentro de esa carpeta.\n",
    "- También deben enviar el link de su repositorio -para que pueda ser clonado y corregido- a mi correo 25RO35480961@campus.economicas.uba.ar. Usar de asunto de email <i>\"Big Data - TP 1 - Grupo #\"</i> y nombrar el archivo <i>\"TP1_Grupo #\"</i> donde # es el número de grupo que le fue asignado.\n",
    "- La última versión en el repositorio es la que será evaluada. Por lo que es importante que: \n",
    "    - No envien el correo hasta no haber terminado y estar seguros de que han hecho el <i>commit y push</i> a la versión final que quieren entregar. \n",
    "    - No hagan nuevos <i>push</i> despues de haber entregado su versión final. Esto generaría confusión acerca de que versión es la que quieren que se les corrija.\n",
    "- En resumen, la carpeta del repositorio debe incluir:\n",
    "    - El codigo\n",
    "    - Un documento Word (Parte A) donde esten las figuras y una breve descripción de las mismas.\n",
    "    - El excel con los links webscrappeados (Parte B)"
   ]
  },
  {
   "cell_type": "markdown",
   "metadata": {},
   "source": [
    "### Parte A"
   ]
  },
  {
   "cell_type": "markdown",
   "metadata": {
    "id": "ZXbrPraa-c9i"
   },
   "source": [
    "#### Ejercicio 1 - Jugando con APIs\n",
    "Usando la API del Banco Mundial [link](https://wbdata.readthedocs.io/en/stable/) , obtener dos series de indicadores para dos paises a elección en una consulta de búsqueda. Pueden buscar serie de indicadores de su interés."
   ]
  },
  {
   "cell_type": "code",
   "execution_count": 2,
   "metadata": {},
   "outputs": [
    {
     "name": "stdout",
     "output_type": "stream",
     "text": [
      "Requirement already satisfied: wbdata in c:\\users\\joaqu\\anaconda3\\lib\\site-packages (1.0.0)\n",
      "Requirement already satisfied: appdirs<2.0,>=1.4 in c:\\users\\joaqu\\anaconda3\\lib\\site-packages (from wbdata) (1.4.4)\n",
      "Requirement already satisfied: backoff<3.0.0,>=2.2.1 in c:\\users\\joaqu\\anaconda3\\lib\\site-packages (from wbdata) (2.2.1)\n",
      "Requirement already satisfied: cachetools<6.0.0,>=5.3.2 in c:\\users\\joaqu\\anaconda3\\lib\\site-packages (from wbdata) (5.3.3)\n",
      "Requirement already satisfied: dateparser<2.0.0,>=1.2.0 in c:\\users\\joaqu\\anaconda3\\lib\\site-packages (from wbdata) (1.2.1)\n",
      "Requirement already satisfied: decorator<6.0.0,>=5.1.1 in c:\\users\\joaqu\\anaconda3\\lib\\site-packages (from wbdata) (5.1.1)\n",
      "Requirement already satisfied: requests<3.0,>=2.0 in c:\\users\\joaqu\\anaconda3\\lib\\site-packages (from wbdata) (2.32.3)\n",
      "Requirement already satisfied: shelved-cache<0.4.0,>=0.3.1 in c:\\users\\joaqu\\anaconda3\\lib\\site-packages (from wbdata) (0.3.1)\n",
      "Requirement already satisfied: tabulate<0.9.0,>=0.8.5 in c:\\users\\joaqu\\anaconda3\\lib\\site-packages (from wbdata) (0.8.10)\n",
      "Requirement already satisfied: python-dateutil>=2.7.0 in c:\\users\\joaqu\\anaconda3\\lib\\site-packages (from dateparser<2.0.0,>=1.2.0->wbdata) (2.9.0.post0)\n",
      "Requirement already satisfied: pytz>=2024.2 in c:\\users\\joaqu\\anaconda3\\lib\\site-packages (from dateparser<2.0.0,>=1.2.0->wbdata) (2025.2)\n",
      "Requirement already satisfied: regex!=2019.02.19,!=2021.8.27,>=2015.06.24 in c:\\users\\joaqu\\anaconda3\\lib\\site-packages (from dateparser<2.0.0,>=1.2.0->wbdata) (2024.9.11)\n",
      "Requirement already satisfied: tzlocal>=0.2 in c:\\users\\joaqu\\anaconda3\\lib\\site-packages (from dateparser<2.0.0,>=1.2.0->wbdata) (5.3.1)\n",
      "Requirement already satisfied: charset-normalizer<4,>=2 in c:\\users\\joaqu\\anaconda3\\lib\\site-packages (from requests<3.0,>=2.0->wbdata) (3.3.2)\n",
      "Requirement already satisfied: idna<4,>=2.5 in c:\\users\\joaqu\\anaconda3\\lib\\site-packages (from requests<3.0,>=2.0->wbdata) (3.7)\n",
      "Requirement already satisfied: urllib3<3,>=1.21.1 in c:\\users\\joaqu\\anaconda3\\lib\\site-packages (from requests<3.0,>=2.0->wbdata) (2.2.3)\n",
      "Requirement already satisfied: certifi>=2017.4.17 in c:\\users\\joaqu\\anaconda3\\lib\\site-packages (from requests<3.0,>=2.0->wbdata) (2025.1.31)\n",
      "Requirement already satisfied: six>=1.5 in c:\\users\\joaqu\\anaconda3\\lib\\site-packages (from python-dateutil>=2.7.0->dateparser<2.0.0,>=1.2.0->wbdata) (1.16.0)\n",
      "Requirement already satisfied: tzdata in c:\\users\\joaqu\\anaconda3\\lib\\site-packages (from tzlocal>=0.2->dateparser<2.0.0,>=1.2.0->wbdata) (2023.3)\n"
     ]
    }
   ],
   "source": [
    "import sys\n",
    "!{sys.executable} -m pip install wbdata"
   ]
  },
  {
   "cell_type": "code",
   "execution_count": 3,
   "metadata": {},
   "outputs": [
    {
     "name": "stdout",
     "output_type": "stream",
     "text": [
      "Requirement already satisfied: wbdata in c:\\users\\joaqu\\anaconda3\\lib\\site-packages (1.0.0)\n",
      "Requirement already satisfied: appdirs<2.0,>=1.4 in c:\\users\\joaqu\\anaconda3\\lib\\site-packages (from wbdata) (1.4.4)\n",
      "Requirement already satisfied: backoff<3.0.0,>=2.2.1 in c:\\users\\joaqu\\anaconda3\\lib\\site-packages (from wbdata) (2.2.1)\n",
      "Requirement already satisfied: cachetools<6.0.0,>=5.3.2 in c:\\users\\joaqu\\anaconda3\\lib\\site-packages (from wbdata) (5.3.3)\n",
      "Requirement already satisfied: dateparser<2.0.0,>=1.2.0 in c:\\users\\joaqu\\anaconda3\\lib\\site-packages (from wbdata) (1.2.1)\n",
      "Requirement already satisfied: decorator<6.0.0,>=5.1.1 in c:\\users\\joaqu\\anaconda3\\lib\\site-packages (from wbdata) (5.1.1)\n",
      "Requirement already satisfied: requests<3.0,>=2.0 in c:\\users\\joaqu\\anaconda3\\lib\\site-packages (from wbdata) (2.32.3)\n",
      "Requirement already satisfied: shelved-cache<0.4.0,>=0.3.1 in c:\\users\\joaqu\\anaconda3\\lib\\site-packages (from wbdata) (0.3.1)\n",
      "Requirement already satisfied: tabulate<0.9.0,>=0.8.5 in c:\\users\\joaqu\\anaconda3\\lib\\site-packages (from wbdata) (0.8.10)\n",
      "Requirement already satisfied: python-dateutil>=2.7.0 in c:\\users\\joaqu\\anaconda3\\lib\\site-packages (from dateparser<2.0.0,>=1.2.0->wbdata) (2.9.0.post0)\n",
      "Requirement already satisfied: pytz>=2024.2 in c:\\users\\joaqu\\anaconda3\\lib\\site-packages (from dateparser<2.0.0,>=1.2.0->wbdata) (2025.2)\n",
      "Requirement already satisfied: regex!=2019.02.19,!=2021.8.27,>=2015.06.24 in c:\\users\\joaqu\\anaconda3\\lib\\site-packages (from dateparser<2.0.0,>=1.2.0->wbdata) (2024.9.11)\n",
      "Requirement already satisfied: tzlocal>=0.2 in c:\\users\\joaqu\\anaconda3\\lib\\site-packages (from dateparser<2.0.0,>=1.2.0->wbdata) (5.3.1)\n",
      "Requirement already satisfied: charset-normalizer<4,>=2 in c:\\users\\joaqu\\anaconda3\\lib\\site-packages (from requests<3.0,>=2.0->wbdata) (3.3.2)\n",
      "Requirement already satisfied: idna<4,>=2.5 in c:\\users\\joaqu\\anaconda3\\lib\\site-packages (from requests<3.0,>=2.0->wbdata) (3.7)\n",
      "Requirement already satisfied: urllib3<3,>=1.21.1 in c:\\users\\joaqu\\anaconda3\\lib\\site-packages (from requests<3.0,>=2.0->wbdata) (2.2.3)\n",
      "Requirement already satisfied: certifi>=2017.4.17 in c:\\users\\joaqu\\anaconda3\\lib\\site-packages (from requests<3.0,>=2.0->wbdata) (2025.1.31)\n",
      "Requirement already satisfied: six>=1.5 in c:\\users\\joaqu\\anaconda3\\lib\\site-packages (from python-dateutil>=2.7.0->dateparser<2.0.0,>=1.2.0->wbdata) (1.16.0)\n",
      "Requirement already satisfied: tzdata in c:\\users\\joaqu\\anaconda3\\lib\\site-packages (from tzlocal>=0.2->dateparser<2.0.0,>=1.2.0->wbdata) (2023.3)\n"
     ]
    }
   ],
   "source": [
    "!pip install wbdata\n",
    "import wbdata\n",
    "import pandas as pd"
   ]
  },
  {
   "cell_type": "code",
   "execution_count": 6,
   "metadata": {},
   "outputs": [
    {
     "data": {
      "text/html": [
       "<div>\n",
       "<style scoped>\n",
       "    .dataframe tbody tr th:only-of-type {\n",
       "        vertical-align: middle;\n",
       "    }\n",
       "\n",
       "    .dataframe tbody tr th {\n",
       "        vertical-align: top;\n",
       "    }\n",
       "\n",
       "    .dataframe thead th {\n",
       "        text-align: right;\n",
       "    }\n",
       "</style>\n",
       "<table border=\"1\" class=\"dataframe\">\n",
       "  <thead>\n",
       "    <tr style=\"text-align: right;\">\n",
       "      <th></th>\n",
       "      <th></th>\n",
       "      <th>Producto Interno Bruto (PIB) en millones USD</th>\n",
       "      <th>Tasa de Crecimiento del PIB (%)</th>\n",
       "    </tr>\n",
       "    <tr>\n",
       "      <th>country</th>\n",
       "      <th>date</th>\n",
       "      <th></th>\n",
       "      <th></th>\n",
       "    </tr>\n",
       "  </thead>\n",
       "  <tbody>\n",
       "    <tr>\n",
       "      <th rowspan=\"14\" valign=\"top\">Argentina</th>\n",
       "      <th>2023</th>\n",
       "      <td>646075</td>\n",
       "      <td>-1.61</td>\n",
       "    </tr>\n",
       "    <tr>\n",
       "      <th>2022</th>\n",
       "      <td>632790</td>\n",
       "      <td>5.27</td>\n",
       "    </tr>\n",
       "    <tr>\n",
       "      <th>2021</th>\n",
       "      <td>486564</td>\n",
       "      <td>10.44</td>\n",
       "    </tr>\n",
       "    <tr>\n",
       "      <th>2020</th>\n",
       "      <td>385741</td>\n",
       "      <td>-9.90</td>\n",
       "    </tr>\n",
       "    <tr>\n",
       "      <th>2019</th>\n",
       "      <td>447755</td>\n",
       "      <td>-2.00</td>\n",
       "    </tr>\n",
       "    <tr>\n",
       "      <th>2018</th>\n",
       "      <td>524820</td>\n",
       "      <td>-2.62</td>\n",
       "    </tr>\n",
       "    <tr>\n",
       "      <th>2017</th>\n",
       "      <td>643628</td>\n",
       "      <td>2.82</td>\n",
       "    </tr>\n",
       "    <tr>\n",
       "      <th>2016</th>\n",
       "      <td>557532</td>\n",
       "      <td>-2.08</td>\n",
       "    </tr>\n",
       "    <tr>\n",
       "      <th>2015</th>\n",
       "      <td>594749</td>\n",
       "      <td>2.73</td>\n",
       "    </tr>\n",
       "    <tr>\n",
       "      <th>2014</th>\n",
       "      <td>526320</td>\n",
       "      <td>-2.51</td>\n",
       "    </tr>\n",
       "    <tr>\n",
       "      <th>2013</th>\n",
       "      <td>552025</td>\n",
       "      <td>2.41</td>\n",
       "    </tr>\n",
       "    <tr>\n",
       "      <th>2012</th>\n",
       "      <td>545982</td>\n",
       "      <td>-1.03</td>\n",
       "    </tr>\n",
       "    <tr>\n",
       "      <th>2011</th>\n",
       "      <td>530158</td>\n",
       "      <td>6.00</td>\n",
       "    </tr>\n",
       "    <tr>\n",
       "      <th>2010</th>\n",
       "      <td>423627</td>\n",
       "      <td>10.13</td>\n",
       "    </tr>\n",
       "    <tr>\n",
       "      <th rowspan=\"14\" valign=\"top\">Uruguay</th>\n",
       "      <th>2023</th>\n",
       "      <td>77241</td>\n",
       "      <td>0.37</td>\n",
       "    </tr>\n",
       "    <tr>\n",
       "      <th>2022</th>\n",
       "      <td>70165</td>\n",
       "      <td>4.71</td>\n",
       "    </tr>\n",
       "    <tr>\n",
       "      <th>2021</th>\n",
       "      <td>60761</td>\n",
       "      <td>5.56</td>\n",
       "    </tr>\n",
       "    <tr>\n",
       "      <th>2020</th>\n",
       "      <td>53669</td>\n",
       "      <td>-7.38</td>\n",
       "    </tr>\n",
       "    <tr>\n",
       "      <th>2019</th>\n",
       "      <td>62222</td>\n",
       "      <td>0.93</td>\n",
       "    </tr>\n",
       "    <tr>\n",
       "      <th>2018</th>\n",
       "      <td>65345</td>\n",
       "      <td>0.16</td>\n",
       "    </tr>\n",
       "    <tr>\n",
       "      <th>2017</th>\n",
       "      <td>65006</td>\n",
       "      <td>1.74</td>\n",
       "    </tr>\n",
       "    <tr>\n",
       "      <th>2016</th>\n",
       "      <td>57481</td>\n",
       "      <td>1.69</td>\n",
       "    </tr>\n",
       "    <tr>\n",
       "      <th>2015</th>\n",
       "      <td>57680</td>\n",
       "      <td>0.37</td>\n",
       "    </tr>\n",
       "    <tr>\n",
       "      <th>2014</th>\n",
       "      <td>61496</td>\n",
       "      <td>3.24</td>\n",
       "    </tr>\n",
       "    <tr>\n",
       "      <th>2013</th>\n",
       "      <td>61338</td>\n",
       "      <td>4.64</td>\n",
       "    </tr>\n",
       "    <tr>\n",
       "      <th>2012</th>\n",
       "      <td>54232</td>\n",
       "      <td>3.54</td>\n",
       "    </tr>\n",
       "    <tr>\n",
       "      <th>2011</th>\n",
       "      <td>50342</td>\n",
       "      <td>5.16</td>\n",
       "    </tr>\n",
       "    <tr>\n",
       "      <th>2010</th>\n",
       "      <td>41950</td>\n",
       "      <td>7.80</td>\n",
       "    </tr>\n",
       "  </tbody>\n",
       "</table>\n",
       "</div>"
      ],
      "text/plain": [
       "                Producto Interno Bruto (PIB) en millones USD  \\\n",
       "country   date                                                 \n",
       "Argentina 2023                                        646075   \n",
       "          2022                                        632790   \n",
       "          2021                                        486564   \n",
       "          2020                                        385741   \n",
       "          2019                                        447755   \n",
       "          2018                                        524820   \n",
       "          2017                                        643628   \n",
       "          2016                                        557532   \n",
       "          2015                                        594749   \n",
       "          2014                                        526320   \n",
       "          2013                                        552025   \n",
       "          2012                                        545982   \n",
       "          2011                                        530158   \n",
       "          2010                                        423627   \n",
       "Uruguay   2023                                         77241   \n",
       "          2022                                         70165   \n",
       "          2021                                         60761   \n",
       "          2020                                         53669   \n",
       "          2019                                         62222   \n",
       "          2018                                         65345   \n",
       "          2017                                         65006   \n",
       "          2016                                         57481   \n",
       "          2015                                         57680   \n",
       "          2014                                         61496   \n",
       "          2013                                         61338   \n",
       "          2012                                         54232   \n",
       "          2011                                         50342   \n",
       "          2010                                         41950   \n",
       "\n",
       "                Tasa de Crecimiento del PIB (%)  \n",
       "country   date                                   \n",
       "Argentina 2023                            -1.61  \n",
       "          2022                             5.27  \n",
       "          2021                            10.44  \n",
       "          2020                            -9.90  \n",
       "          2019                            -2.00  \n",
       "          2018                            -2.62  \n",
       "          2017                             2.82  \n",
       "          2016                            -2.08  \n",
       "          2015                             2.73  \n",
       "          2014                            -2.51  \n",
       "          2013                             2.41  \n",
       "          2012                            -1.03  \n",
       "          2011                             6.00  \n",
       "          2010                            10.13  \n",
       "Uruguay   2023                             0.37  \n",
       "          2022                             4.71  \n",
       "          2021                             5.56  \n",
       "          2020                            -7.38  \n",
       "          2019                             0.93  \n",
       "          2018                             0.16  \n",
       "          2017                             1.74  \n",
       "          2016                             1.69  \n",
       "          2015                             0.37  \n",
       "          2014                             3.24  \n",
       "          2013                             4.64  \n",
       "          2012                             3.54  \n",
       "          2011                             5.16  \n",
       "          2010                             7.80  "
      ]
     },
     "execution_count": 6,
     "metadata": {},
     "output_type": "execute_result"
    }
   ],
   "source": [
    "indicadores = {\"NY.GDP.MKTP.CD\": \"Producto Interno Bruto (PIB) en millones USD\", \"NY.GDP.MKTP.KD.ZG\": \"Tasa de Crecimiento del PIB (%)\"}\n",
    "#NY.GDP.MKTP.CD:       Producto Interno Bruto (PIB) en USD\n",
    "#NY.GDP.MKTP.KD.ZG:    Tasa de Crecimiento del PIB (%)\n",
    "\n",
    "data = wbdata.get_dataframe(indicadores, country=['AR','UY'], date=(\"2010\",\"2023\"))\n",
    "\n",
    "df = pd.DataFrame(data=data)\n",
    "df[\"Producto Interno Bruto (PIB) en millones USD\"]=df[\"Producto Interno Bruto (PIB) en millones USD\"]/1000000\n",
    "df[\"Producto Interno Bruto (PIB) en millones USD\"]=df[ \"Producto Interno Bruto (PIB) en millones USD\"].apply(round)\n",
    "df[ \"Tasa de Crecimiento del PIB (%)\"]=df[ \"Tasa de Crecimiento del PIB (%)\"].apply(lambda x: round(x, 2))\n",
    "df.to_excel('data.xlsx')\n",
    "df"
   ]
  },
  {
   "cell_type": "markdown",
   "metadata": {},
   "source": [
    "#### Ejercicio 2 - Repaso de Pandas\n",
    "Realicen una estadistica descriptiva de ambas series de indicadores comparando los dos países."
   ]
  },
  {
   "cell_type": "code",
   "execution_count": 13,
   "metadata": {},
   "outputs": [
    {
     "ename": "NameError",
     "evalue": "name 'df2' is not defined",
     "output_type": "error",
     "traceback": [
      "\u001b[1;31m---------------------------------------------------------------------------\u001b[0m",
      "\u001b[1;31mNameError\u001b[0m                                 Traceback (most recent call last)",
      "Cell \u001b[1;32mIn[13], line 15\u001b[0m\n\u001b[0;32m     13\u001b[0m df[ \u001b[38;5;124m\"\u001b[39m\u001b[38;5;124mTasa de Crecimiento del PIB (\u001b[39m\u001b[38;5;124m%\u001b[39m\u001b[38;5;124m)\u001b[39m\u001b[38;5;124m\"\u001b[39m]\u001b[38;5;241m=\u001b[39mdf[ \u001b[38;5;124m\"\u001b[39m\u001b[38;5;124mTasa de Crecimiento del PIB (\u001b[39m\u001b[38;5;124m%\u001b[39m\u001b[38;5;124m)\u001b[39m\u001b[38;5;124m\"\u001b[39m]\u001b[38;5;241m.\u001b[39mapply(\u001b[38;5;28;01mlambda\u001b[39;00m x: \u001b[38;5;28mround\u001b[39m(x, \u001b[38;5;241m2\u001b[39m))\n\u001b[0;32m     14\u001b[0m df_2 \u001b[38;5;241m=\u001b[39m pd\u001b[38;5;241m.\u001b[39mDataFrame({\u001b[38;5;124m'\u001b[39m\u001b[38;5;124mprueba\u001b[39m\u001b[38;5;124m'\u001b[39m: df[\u001b[38;5;124m'\u001b[39m\u001b[38;5;124mTasa de Crecimiento del PIB (\u001b[39m\u001b[38;5;124m%\u001b[39m\u001b[38;5;124m)\u001b[39m\u001b[38;5;124m'\u001b[39m]\u001b[38;5;241m.\u001b[39mdescribe()})\n\u001b[1;32m---> 15\u001b[0m df_2 \u001b[38;5;241m=\u001b[39m df2\u001b[38;5;241m.\u001b[39mreset_index()\n\u001b[0;32m     17\u001b[0m \u001b[38;5;66;03m#Uruguay Variación PIB\u001b[39;00m\n\u001b[0;32m     18\u001b[0m indicadores \u001b[38;5;241m=\u001b[39m {(\u001b[38;5;124m\"\u001b[39m\u001b[38;5;124mNY.GDP.MKTP.CD\u001b[39m\u001b[38;5;124m\"\u001b[39m): \u001b[38;5;124m\"\u001b[39m\u001b[38;5;124mProducto Interno Bruto (PIB) en millones USD\u001b[39m\u001b[38;5;124m\"\u001b[39m, \u001b[38;5;124m\"\u001b[39m\u001b[38;5;124mNY.GDP.MKTP.KD.ZG\u001b[39m\u001b[38;5;124m\"\u001b[39m: \u001b[38;5;124m\"\u001b[39m\u001b[38;5;124mTasa de Crecimiento del PIB (\u001b[39m\u001b[38;5;124m%\u001b[39m\u001b[38;5;124m)\u001b[39m\u001b[38;5;124m\"\u001b[39m}\n",
      "\u001b[1;31mNameError\u001b[0m: name 'df2' is not defined"
     ]
    }
   ],
   "source": [
    "# Resolver acá\n",
    "import wbdata\n",
    "import statistics as st\n",
    "import pandas as pd\n",
    "#Se conforma un dataset para cada indicador y se define otro nuevo con la información de la estadística descriptiva del dataset original\n",
    "\n",
    "#Argentina Variación PIB\n",
    "indicadores = {(\"NY.GDP.MKTP.CD\"): \"Producto Interno Bruto (PIB) en millones USD\", \"NY.GDP.MKTP.KD.ZG\": \"Tasa de Crecimiento del PIB (%)\"}\n",
    "data = wbdata.get_dataframe(indicadores, country=['AR'], date=(\"2010\",\"2023\"))\n",
    "df = pd.DataFrame(data=data)\n",
    "df[\"Producto Interno Bruto (PIB) en millones USD\"]=df[\"Producto Interno Bruto (PIB) en millones USD\"]/1000000\n",
    "df[\"Producto Interno Bruto (PIB) en millones USD\"]=df[\"Producto Interno Bruto (PIB) en millones USD\"].apply(round)\n",
    "df[ \"Tasa de Crecimiento del PIB (%)\"]=df[ \"Tasa de Crecimiento del PIB (%)\"].apply(lambda x: round(x, 2))\n",
    "df_2 = pd.DataFrame({'prueba': df['Tasa de Crecimiento del PIB (%)'].describe()})\n",
    "df_2 = df2.reset_index()\n",
    "\n",
    "#Uruguay Variación PIB\n",
    "indicadores = {(\"NY.GDP.MKTP.CD\"): \"Producto Interno Bruto (PIB) en millones USD\", \"NY.GDP.MKTP.KD.ZG\": \"Tasa de Crecimiento del PIB (%)\"}\n",
    "data = wbdata.get_dataframe(indicadores, country=['URY'], date=(\"2010\",\"2023\"))\n",
    "df = pd.DataFrame(data=data)\n",
    "df[\"Producto Interno Bruto (PIB) en millones USD\"]=df[\"Producto Interno Bruto (PIB) en millones USD\"]/1000000\n",
    "df[\"Producto Interno Bruto (PIB) en millones USD\"]=df[\"Producto Interno Bruto (PIB) en millones USD\"].apply(round)\n",
    "df[ \"Tasa de Crecimiento del PIB (%)\"]=df[ \"Tasa de Crecimiento del PIB (%)\"].apply(lambda x: round(x, 2))\n",
    "df_4 = pd.DataFrame({'prueba': df['Tasa de Crecimiento del PIB (%)'].describe()})\n",
    "df_4 = df4.reset_index()\n",
    "\n",
    "#Argentina PIB en USD\n",
    "indicadores = {(\"NY.GDP.MKTP.CD\"): \"Producto Interno Bruto (PIB) en millones USD\", \"NY.GDP.MKTP.KD.ZG\": \"Tasa de Crecimiento del PIB (%)\"}\n",
    "data = wbdata.get_dataframe(indicadores, country=['AR'], date=(\"2010\",\"2023\"))\n",
    "df = pd.DataFrame(data=data)\n",
    "df[\"Producto Interno Bruto (PIB) en millones USD\"]=df[\"Producto Interno Bruto (PIB) en millones USD\"]/1000000\n",
    "df[\"Producto Interno Bruto (PIB) en millones USD\"]=df[\"Producto Interno Bruto (PIB) en millones USD\"].apply(round)\n",
    "df[ \"Tasa de Crecimiento del PIB (%)\"]=df[ \"Tasa de Crecimiento del PIB (%)\"].apply(lambda x: round(x, 2))\n",
    "df_1 = pd.DataFrame({'prueba': df[\"Producto Interno Bruto (PIB) en millones USD\"].describe()})\n",
    "df_1 = df_1.reset_index()\n",
    "\n",
    "#Uruguay PIB en USD\n",
    "indicadores = {(\"NY.GDP.MKTP.CD\"): \"Producto Interno Bruto (PIB) en millones USD\", \"NY.GDP.MKTP.KD.ZG\": \"Tasa de Crecimiento del PIB (%)\"}\n",
    "data = wbdata.get_dataframe(indicadores, country=['URY'], date=(\"2010\",\"2023\"))\n",
    "df = pd.DataFrame(data=data)\n",
    "df[\"Producto Interno Bruto (PIB) en millones USD\"]=df[\"Producto Interno Bruto (PIB) en millones USD\"]/1000000\n",
    "df[\"Producto Interno Bruto (PIB) en millones USD\"]=df[\"Producto Interno Bruto (PIB) en millones USD\"].apply(round)\n",
    "df[ \"Tasa de Crecimiento del PIB (%)\"]=df[ \"Tasa de Crecimiento del PIB (%)\"].apply(lambda x: round(x, 2))\n",
    "df_5 = pd.DataFrame({'prueba': df[\"Producto Interno Bruto (PIB) en millones USD\"].describe()})\n",
    "df_5 = df5.reset_index()\n",
    "\n",
    "#df2: Estadística Descriptiva Argentina Variación PIB(%), df4: Estadística Descriptiva Uruguay Variación PIB(%)\n",
    "#df1:Estadística Descriptiva Argentina PIB en Millones, df5: Estadística Descriptiva Uruguay Variación PIB en Millones\n",
    "\n",
    "descripcion=({\n",
    "    \"Media Aritmética Variación(%)\":[df_2.iloc[1][\"prueba\"],\n",
    "                        df_4.iloc[1][\"prueba\"]],\n",
    "    \"Desvío Estándar Variación(%)\":[df_2.iloc[2][\"prueba\"],\n",
    "                       df_4.iloc[2][\"prueba\"]],\n",
    "    \"Mín Variación(%)\":[df_2.iloc[3][\"prueba\"],\n",
    "              df_4.iloc[3][\"prueba\"]],\n",
    "    \"Máx Variación(%)\":[df_2.iloc[7][\"prueba\"],\n",
    "              df_4.iloc[7][\"prueba\"]],\n",
    "    \"25% Variación(%)\":[df_2.iloc[4][\"prueba\"],\n",
    "           df_4.iloc[4][\"prueba\"]] ,\n",
    "    \"Mediana Variación(%)\":[df_2.iloc[5][\"prueba\"],df_4.iloc[5][\"prueba\"]],\n",
    "    \"75% Variación(%)\":[df_2.iloc[6][\"prueba\"],df_4.iloc[6][\"prueba\"]],\n",
    "    \"Media Aritmética PIB Millones\":[df_1.iloc[1][\"prueba\"],df_5.iloc[1][\"prueba\"]],\n",
    "    \"Desvío Estándar PIB Millones\":[df_1.iloc[2][\"prueba\"],df_5.iloc[2][\"prueba\"]], \n",
    "    \"Min PIB Millones\":[df_1.iloc[3][\"prueba\"],df_5.iloc[3][\"prueba\"]], \n",
    "    \"Máx PIB Millones\":[df_1.iloc[7][\"prueba\"],df_5.iloc[7][\"prueba\"]], \n",
    "    \"25% PIB Millones\":[df_1.iloc[4][\"prueba\"],df_5.iloc[4][\"prueba\"]],\n",
    "    \"Mediana PIB Millones\":[df_1.iloc[5][\"prueba\"],df_5.iloc[5][\"prueba\"]],\n",
    "    \"75% PIB Millones\":[df_1.iloc[6][\"prueba\"],df_5.iloc[6][\"prueba\"]]})\n",
    "\n",
    "df_3=pd.DataFrame(descripcion)\n",
    "df_3[ \"Media Aritmética Variación(%)\"]=df_3[ \"Media Aritmética Variación(%)\"].apply(lambda x: round(x,2))\n",
    "df_3[ \"Media Aritmética PIB Millones\"]=df_3[ \"Media Aritmética PIB Millones\"].apply(lambda x: round(x, 2))\n",
    "df_3[ \"Desvío Estándar Variación(%)\"]=df_3[ \"Desvío Estándar Variación(%)\"].apply(lambda x: round(x, 2))\n",
    "df_3[ \"Mín Variación(%)\"]=df_3[ \"Mín Variación(%)\"].apply(lambda x: round(x, 2))\n",
    "df_3[ \"Min PIB Millones\"]=df_3[ \"Min PIB Millones\"].apply(lambda x: round(x, 2))\n",
    "df_3[ \"Máx PIB Millones\"]=df_3[ \"Máx PIB Millones\"].apply(lambda x: round(x, 2))\n",
    "df_3[ \"25% PIB Millones\"]=df_3[ \"25% PIB Millones\"].apply(lambda x: round(x, 2))\n",
    "df_3[ \"75% PIB Millones\"]=df_3[ \"75% PIB Millones\"].apply(lambda x: round(x, 2))\n",
    "df_3[ \"Desvío Estándar PIB Millones\"]=df_3[ \"Desvío Estándar PIB Millones\"].apply(lambda x: round(x, 2))\n",
    "index_=[\"Argentina\", \"Uruguay\"]\n",
    "df_3.index=index_\n",
    "df_3"
   ]
  },
  {
   "cell_type": "markdown",
   "metadata": {},
   "source": [
    "#### Ejercicio 3 - Practicando con Matplotlib\n",
    "Armen dos gráficos distintos usando la librería Matplotlib (repasen Clase 4). Uno programandolo con el estilo *pyplot* y otro gráfico de estilo *orientada a objetos*"
   ]
  },
  {
   "cell_type": "code",
   "execution_count": 15,
   "metadata": {},
   "outputs": [
    {
     "name": "stdout",
     "output_type": "stream",
     "text": [
      "Requirement already satisfied: matplotlib in c:\\users\\joaqu\\anaconda3\\lib\\site-packages (3.9.2)\n",
      "Requirement already satisfied: contourpy>=1.0.1 in c:\\users\\joaqu\\anaconda3\\lib\\site-packages (from matplotlib) (1.2.0)\n",
      "Requirement already satisfied: cycler>=0.10 in c:\\users\\joaqu\\anaconda3\\lib\\site-packages (from matplotlib) (0.11.0)\n",
      "Requirement already satisfied: fonttools>=4.22.0 in c:\\users\\joaqu\\anaconda3\\lib\\site-packages (from matplotlib) (4.51.0)\n",
      "Requirement already satisfied: kiwisolver>=1.3.1 in c:\\users\\joaqu\\anaconda3\\lib\\site-packages (from matplotlib) (1.4.4)\n",
      "Requirement already satisfied: numpy>=1.23 in c:\\users\\joaqu\\anaconda3\\lib\\site-packages (from matplotlib) (1.26.4)\n",
      "Requirement already satisfied: packaging>=20.0 in c:\\users\\joaqu\\anaconda3\\lib\\site-packages (from matplotlib) (24.1)\n",
      "Requirement already satisfied: pillow>=8 in c:\\users\\joaqu\\anaconda3\\lib\\site-packages (from matplotlib) (10.4.0)\n",
      "Requirement already satisfied: pyparsing>=2.3.1 in c:\\users\\joaqu\\anaconda3\\lib\\site-packages (from matplotlib) (3.1.2)\n",
      "Requirement already satisfied: python-dateutil>=2.7 in c:\\users\\joaqu\\anaconda3\\lib\\site-packages (from matplotlib) (2.9.0.post0)\n",
      "Requirement already satisfied: six>=1.5 in c:\\users\\joaqu\\anaconda3\\lib\\site-packages (from python-dateutil>=2.7->matplotlib) (1.16.0)\n"
     ]
    }
   ],
   "source": [
    "# Resolver acá estilo pyplot\n",
    "!pip install matplotlib\n",
    "import matplotlib.pyplot as plt"
   ]
  },
  {
   "cell_type": "code",
   "execution_count": 17,
   "metadata": {},
   "outputs": [
    {
     "ename": "FileNotFoundError",
     "evalue": "[WinError 2] El sistema no puede encontrar el archivo especificado: 'C:\\\\Users\\\\ldtes'",
     "output_type": "error",
     "traceback": [
      "\u001b[1;31m---------------------------------------------------------------------------\u001b[0m",
      "\u001b[1;31mFileNotFoundError\u001b[0m                         Traceback (most recent call last)",
      "Cell \u001b[1;32mIn[17], line 3\u001b[0m\n\u001b[0;32m      1\u001b[0m \u001b[38;5;28;01mimport\u001b[39;00m \u001b[38;5;21;01mos\u001b[39;00m\n\u001b[0;32m      2\u001b[0m os\u001b[38;5;241m.\u001b[39mgetcwd()\n\u001b[1;32m----> 3\u001b[0m os\u001b[38;5;241m.\u001b[39mchdir(\u001b[38;5;124m\"\u001b[39m\u001b[38;5;124mC:\u001b[39m\u001b[38;5;130;01m\\\\\u001b[39;00m\u001b[38;5;124mUsers\u001b[39m\u001b[38;5;130;01m\\\\\u001b[39;00m\u001b[38;5;124mldtes\u001b[39m\u001b[38;5;124m\"\u001b[39m)\n",
      "\u001b[1;31mFileNotFoundError\u001b[0m: [WinError 2] El sistema no puede encontrar el archivo especificado: 'C:\\\\Users\\\\ldtes'"
     ]
    }
   ],
   "source": [
    "import os\n",
    "os.getcwd()\n",
    "os.chdir(\"C:\\\\Users\\\\ldtes\")"
   ]
  },
  {
   "cell_type": "code",
   "execution_count": 19,
   "metadata": {},
   "outputs": [],
   "source": [
    "df = pd.read_excel('data.xlsx')\n",
    "\n",
    "df_arg = df[df['country'] == 'Argentina']\n",
    "df_uy = df[df['country'] == 'Uruguay']\n",
    "\n",
    "y1 = df_arg[df_arg['country'] == 'Argentina']['Producto Interno Bruto (PIB) en millones USD']\n",
    "x1 = df_arg[df_arg['country'] == 'Argentina']['date']\n",
    "\n",
    "y2 = df_arg[df_arg['country'] == 'Argentina']['Tasa de Crecimiento del PIB (%)']\n",
    "x2 = df_arg[df_arg['country'] == 'Argentina']['date']\n",
    "\n",
    "y3 = df_uy[df_uy['country'] == 'Uruguay']['Producto Interno Bruto (PIB) en millones USD']\n",
    "x3 = df_uy[df_uy['country'] == 'Uruguay']['date']\n",
    "\n",
    "y4 = df_uy[df_uy['country'] == 'Uruguay']['Tasa de Crecimiento del PIB (%)']\n",
    "x4 = df_uy[df_uy['country'] == 'Uruguay']['date']"
   ]
  },
  {
   "cell_type": "code",
   "execution_count": 21,
   "metadata": {},
   "outputs": [
    {
     "data": {
      "image/png": "[encoded data removed]",
      "text/plain": [
       "<Figure size 640x480 with 1 Axes>"
      ]
     },
     "metadata": {},
     "output_type": "display_data"
    },
    {
     "data": {
      "image/png": "[encoded data removed]",
      "text/plain": [
       "<Figure size 640x480 with 1 Axes>"
      ]
     },
     "metadata": {},
     "output_type": "display_data"
    }
   ],
   "source": [
    "#Gráfico estilo Pyplot\n",
    "\n",
    "plt.plot(x1, y1, label=\"Argentina\", color='blue')\n",
    "plt.plot(x3, y3, label=\"Uruguay\", color='orange')\n",
    "\n",
    "plt.title(\"(Millones de USD)\")\n",
    "plt.suptitle(\"PBI en Dólares, Evolución anual\")\n",
    "\n",
    "# Agrego  leyenda\n",
    "plt.legend(loc='upper left')\n",
    "plt.show() #esto es necesario para visualizar\n",
    "\n",
    "plt.plot(x2, y2, label=\"Argentina\", color='red')\n",
    "plt.plot(x4, y4, label=\"Uruguay\", color='green')\n",
    "\n",
    "# Modifico  labels\n",
    "plt.xlabel(\"Años\")\n",
    "plt.suptitle(\"Tasa de Crecimiento del PBI, Evolución anual\")\n",
    "plt.title(\"(Porcentual)\")\n",
    "\n",
    "# Agrego  leyenda\n",
    "plt.legend(loc='lower left')\n",
    "plt.show()"
   ]
  },
  {
   "cell_type": "code",
   "execution_count": 25,
   "metadata": {},
   "outputs": [
    {
     "name": "stderr",
     "output_type": "stream",
     "text": [
      "C:\\Users\\joaqu\\AppData\\Local\\Temp\\ipykernel_8480\\2897962163.py:17: UserWarning: FigureCanvasAgg is non-interactive, and thus cannot be shown\n",
      "  fig.show()\n",
      "C:\\Users\\joaqu\\AppData\\Local\\Temp\\ipykernel_8480\\2897962163.py:20: UserWarning: FigureCanvasAgg is non-interactive, and thus cannot be shown\n",
      "  fig.show()\n"
     ]
    },
    {
     "data": {
      "image/png": "[encoded data removed]",
      "text/plain": [
       "<Figure size 1400x500 with 2 Axes>"
      ]
     },
     "metadata": {},
     "output_type": "display_data"
    }
   ],
   "source": [
    "# Resolver acá estilo orientado-objetos \n",
    "# Tip: aprovechar este estilo de programar una figura para hacerlo más lindo \n",
    "fig, ax = plt.subplots(figsize=(14, 5), ncols=2, nrows=1)\n",
    "\n",
    "ax[0].plot(x1, y1, label=\"Argentina\", color='blue')\n",
    "ax[0].plot(x3, y3, label=\"Uruguay\", color='orange')\n",
    "\n",
    "ax[1].plot(x2, y2, label=\"Tasa % Argentina\", color='red')\n",
    "ax[1].plot(x4, y4, label=\"Tasa % Uruguay\", color='green')\n",
    "\n",
    "ax[1].set_title(\"Crecimiento PBI,Evolución anual\")\n",
    "ax[0].set_title(\"PBI en USD,Evolución anual\")\n",
    "\n",
    "fig.suptitle(\"Comparación PBI Argentina-Uruguay\")\n",
    "\n",
    "ax[0].legend()\n",
    "fig.show()\n",
    "\n",
    "ax[1].legend()\n",
    "fig.show()"
   ]
  },
  {
   "cell_type": "markdown",
   "metadata": {},
   "source": [
    "### Parte B"
   ]
  },
  {
   "cell_type": "markdown",
   "metadata": {},
   "source": [
    "#### Ejercicio 4\n",
    "De la página de noticias del [diario La Nación](https://www.lanacion.com.ar/) o cualquier diario que les interese, utilicen herramientas de web scraping para obtener los **links** de las noticias de la portada. Guarden los links obtenidos en un dataframe y expórtenlo a un archivo de excel.\n",
    "\n",
    "Nota 1: es posible que logren obtener los links a las noticias sin el dominio: \"https://www.lanacion.com.ar/\". De ser así, concatenen el dominio a la ruta del link obtenido, tal que se obtenga un link al que se pueda acceder. Es decir, que las cadenas de caracteres finales tendrán la forma: https://www.lanacion.com.ar/*texto_obtenido*)\n",
    "\n",
    "Nota 2: junto con su entrega, adjunten una captura de la página de noticias al momento de correr su código. Eso servirá al momento de la corrección para verificar que los links obtenidos hacen referencia a las noticias de ese día y hora."
   ]
  },
  {
   "cell_type": "code",
   "execution_count": 27,
   "metadata": {},
   "outputs": [
    {
     "name": "stdout",
     "output_type": "stream",
     "text": [
      "Enlaces de noticias de la portada guardados en 'links_portada.xlsx'\n"
     ]
    }
   ],
   "source": [
    "# Resolver acá\n",
    "import requests\n",
    "from bs4 import BeautifulSoup\n",
    "import pandas as pd\n",
    "\n",
    "# URL del sitio web del diario La Nación\n",
    "url = \"https://www.lanacion.com.ar/\"\n",
    "\n",
    "# Hacer una solicitud a la página\n",
    "response = requests.get(url)\n",
    "\n",
    "if response.status_code == 200:\n",
    "    # Parsear el contenido HTML de la página\n",
    "    soup = BeautifulSoup(response.content, 'html.parser')\n",
    "    \n",
    "    # Encontrar todos los enlaces que probablemente correspondan a noticias en la portada\n",
    "    news_links = []\n",
    "    for a in soup.find_all('a', href=True):\n",
    "        href = a['href']\n",
    "        if href.startswith(\"/\") or \"lanacion\" in href:\n",
    "            # Concatenar el dominio si el enlace está incompleto\n",
    "            full_link = href if href.startswith(\"http\") else f\"https://www.lanacion.com.ar{href}\"\n",
    "            if full_link not in news_links:  # Evitar duplicados\n",
    "                news_links.append(full_link)\n",
    "    \n",
    "    # Crear un DataFrame solo con enlaces únicos\n",
    "    df = pd.DataFrame({'Links': news_links})\n",
    "    \n",
    "    # Exportar a un archivo Excel\n",
    "    df.to_excel('links_portada.xlsx', index=False)\n",
    "    print(\"Enlaces de noticias de la portada guardados en 'links_portada.xlsx'\")\n",
    "else:\n",
    "    print(f\"Error al acceder a la página: {response.status_code}\")"
   ]
  },
  {
   "cell_type": "code",
   "execution_count": null,
   "metadata": {},
   "outputs": [],
   "source": []
  }
 ],
 "metadata": {
  "anaconda-cloud": {},
  "colab": {
   "name": "TP1 - Parte 1.ipynb",
   "provenance": []
  },
  "kernelspec": {
   "display_name": "Python [conda env:base] *",
   "language": "python",
   "name": "conda-base-py"
  },
  "language_info": {
   "codemirror_mode": {
    "name": "ipython",
    "version": 3
   },
   "file_extension": ".py",
   "mimetype": "text/x-python",
   "name": "python",
   "nbconvert_exporter": "python",
   "pygments_lexer": "ipython3",
   "version": "3.12.7"
  }
 },
 "nbformat": 4,
 "nbformat_minor": 4
}
