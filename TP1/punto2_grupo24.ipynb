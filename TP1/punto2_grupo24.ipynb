{
 "cells": [
  {
   "cell_type": "markdown",
   "metadata": {
    "collapsed": true,
    "id": "Dh8MkXaG-c9Y",
    "jupyter": {
     "outputs_hidden": true
    }
   },
   "source": [
    "# Big Data y Machine Learning (UBA) -  2025\n",
    "\n",
    "## Trabajo Práctico 1: Jugando con APIs y WebScraping "
   ]
  },
  {
   "cell_type": "markdown",
   "metadata": {
    "id": "RhBlm6mZ-c9e"
   },
   "source": [
    "### Reglas de formato y presentación\n",
    "- El trabajo debe estar debidamente documentado comentado (utilizando #) para que tanto los docentes como sus compañeros puedan comprender el código fácilmente.\n",
    "\n",
    "- El mismo debe ser completado en este Jupyter Notebook y entregado como tal, es decir en un archivo .ipynb\n"
   ]
  },
  {
   "cell_type": "markdown",
   "metadata": {
    "id": "ZEjGaa4U-c9g"
   },
   "source": [
    "### Fecha de entrega:\n",
    "Viernes 4 de Abril a las 13:00 hs"
   ]
  },
  {
   "cell_type": "markdown",
   "metadata": {
    "id": "N9TU2y7E-c9h"
   },
   "source": [
    "### Modalidad de entrega\n",
    "- Al finalizar el trabajo práctico deben hacer un último <i>commit</i> en su repositorio de GitHub llamado “Entrega final del tp”. \n",
    "- Asegurense de haber creado una carpeta llamada TP1. Este Jupyter Notebook y el correspondiente al TP1 deben estar dentro de esa carpeta.\n",
    "- También deben enviar el link de su repositorio -para que pueda ser clonado y corregido- a mi correo 25RO35480961@campus.economicas.uba.ar. Usar de asunto de email <i>\"Big Data - TP 1 - Grupo #\"</i> y nombrar el archivo <i>\"TP1_Grupo #\"</i> donde # es el número de grupo que le fue asignado.\n",
    "- La última versión en el repositorio es la que será evaluada. Por lo que es importante que: \n",
    "    - No envien el correo hasta no haber terminado y estar seguros de que han hecho el <i>commit y push</i> a la versión final que quieren entregar. \n",
    "    - No hagan nuevos <i>push</i> despues de haber entregado su versión final. Esto generaría confusión acerca de que versión es la que quieren que se les corrija. "
   ]
  },
  {
   "cell_type": "markdown",
   "metadata": {},
   "source": [
    "### Parte A"
   ]
  },
  {
   "cell_type": "markdown",
   "metadata": {
    "id": "ZXbrPraa-c9i"
   },
   "source": [
    "#### Ejercicio 1\n",
    "Usando la API de Mercado Libre, obtener los ítems de una consulta de búsqueda. Pueden buscar cualquier producto de su interés."
   ]
  },
  {
   "cell_type": "code",
   "execution_count": 1,
   "metadata": {},
   "outputs": [],
   "source": [
    "# Resolver acá\n"
   ]
  },
  {
   "cell_type": "markdown",
   "metadata": {},
   "source": [
    "#### Ejercicio 2\n",
    "Guarden los precios de los ítems obtenidos en un dataframe y calculen el precio promedio, el mínimo y el máximo. "
   ]
  },
  {
   "cell_type": "code",
   "execution_count": 6,
   "metadata": {},
   "outputs": [
    {
     "data": {
      "text/html": [
       "<div>\n",
       "<style scoped>\n",
       "    .dataframe tbody tr th:only-of-type {\n",
       "        vertical-align: middle;\n",
       "    }\n",
       "\n",
       "    .dataframe tbody tr th {\n",
       "        vertical-align: top;\n",
       "    }\n",
       "\n",
       "    .dataframe thead th {\n",
       "        text-align: right;\n",
       "    }\n",
       "</style>\n",
       "<table border=\"1\" class=\"dataframe\">\n",
       "  <thead>\n",
       "    <tr style=\"text-align: right;\">\n",
       "      <th></th>\n",
       "      <th>Media Aritmética Variación(%)</th>\n",
       "      <th>Desvío Estándar Variación(%)</th>\n",
       "      <th>Mín Variación(%)</th>\n",
       "      <th>Máx Variación(%)</th>\n",
       "      <th>25% Variación(%)</th>\n",
       "      <th>Mediana Variación(%)</th>\n",
       "      <th>75% Variación(%)</th>\n",
       "      <th>Media Aritmética PIB Millones</th>\n",
       "      <th>Desvío Estándar PIB Millones</th>\n",
       "      <th>Min PIB Millones</th>\n",
       "      <th>Máx PIB Millones</th>\n",
       "      <th>25% PIB Millones</th>\n",
       "      <th>Mediana PIB Millones</th>\n",
       "      <th>75% PIB Millones</th>\n",
       "    </tr>\n",
       "  </thead>\n",
       "  <tbody>\n",
       "    <tr>\n",
       "      <th>Argentina</th>\n",
       "      <td>1.29</td>\n",
       "      <td>5.52</td>\n",
       "      <td>-9.90</td>\n",
       "      <td>10.44</td>\n",
       "      <td>-2.06</td>\n",
       "      <td>0.69</td>\n",
       "      <td>4.6575</td>\n",
       "      <td>535554.71</td>\n",
       "      <td>79916.65</td>\n",
       "      <td>385741.0</td>\n",
       "      <td>646075.0</td>\n",
       "      <td>496128.00</td>\n",
       "      <td>538070.0</td>\n",
       "      <td>585444.75</td>\n",
       "    </tr>\n",
       "    <tr>\n",
       "      <th>Uruguay</th>\n",
       "      <td>2.32</td>\n",
       "      <td>3.63</td>\n",
       "      <td>-7.38</td>\n",
       "      <td>7.80</td>\n",
       "      <td>0.51</td>\n",
       "      <td>2.49</td>\n",
       "      <td>4.6925</td>\n",
       "      <td>59923.43</td>\n",
       "      <td>8628.35</td>\n",
       "      <td>41950.0</td>\n",
       "      <td>77241.0</td>\n",
       "      <td>55044.25</td>\n",
       "      <td>61049.5</td>\n",
       "      <td>64310.00</td>\n",
       "    </tr>\n",
       "  </tbody>\n",
       "</table>\n",
       "</div>"
      ],
      "text/plain": [
       "           Media Aritmética Variación(%)  Desvío Estándar Variación(%)  \\\n",
       "Argentina                           1.29                          5.52   \n",
       "Uruguay                             2.32                          3.63   \n",
       "\n",
       "           Mín Variación(%)  Máx Variación(%)  25% Variación(%)  \\\n",
       "Argentina             -9.90             10.44             -2.06   \n",
       "Uruguay               -7.38              7.80              0.51   \n",
       "\n",
       "           Mediana Variación(%)  75% Variación(%)  \\\n",
       "Argentina                  0.69            4.6575   \n",
       "Uruguay                    2.49            4.6925   \n",
       "\n",
       "           Media Aritmética PIB Millones  Desvío Estándar PIB Millones  \\\n",
       "Argentina                      535554.71                      79916.65   \n",
       "Uruguay                         59923.43                       8628.35   \n",
       "\n",
       "           Min PIB Millones  Máx PIB Millones  25% PIB Millones  \\\n",
       "Argentina          385741.0          646075.0         496128.00   \n",
       "Uruguay             41950.0           77241.0          55044.25   \n",
       "\n",
       "           Mediana PIB Millones  75% PIB Millones  \n",
       "Argentina              538070.0         585444.75  \n",
       "Uruguay                 61049.5          64310.00  "
      ]
     },
     "execution_count": 6,
     "metadata": {},
     "output_type": "execute_result"
    }
   ],
   "source": [
    "# Resolver acá\n",
    "import wbdata\n",
    "import statistics as st\n",
    "import pandas as pd\n",
    "\n",
    "#Argentina Variación PIB\n",
    "indicadores = {(\"NY.GDP.MKTP.CD\"): \"Producto Interno Bruto (PIB) en millones USD\", \"NY.GDP.MKTP.KD.ZG\": \"Tasa de Crecimiento del PIB (%)\"}\n",
    "data = wbdata.get_dataframe(indicadores, country=['AR'], date=(\"2010\",\"2023\"))\n",
    "df = pd.DataFrame(data=data)\n",
    "df[\"Producto Interno Bruto (PIB) en millones USD\"]=df[\"Producto Interno Bruto (PIB) en millones USD\"]/1000000\n",
    "df[\"Producto Interno Bruto (PIB) en millones USD\"]=df[\"Producto Interno Bruto (PIB) en millones USD\"].apply(round)\n",
    "df[ \"Tasa de Crecimiento del PIB (%)\"]=df[ \"Tasa de Crecimiento del PIB (%)\"].apply(lambda x: round(x, 2))\n",
    "df_2 = pd.DataFrame({'prueba': df['Tasa de Crecimiento del PIB (%)'].describe()})\n",
    "df_2 = df2.reset_index()\n",
    "\n",
    "#Uruguay Variación PIB\n",
    "indicadores = {(\"NY.GDP.MKTP.CD\"): \"Producto Interno Bruto (PIB) en millones USD\", \"NY.GDP.MKTP.KD.ZG\": \"Tasa de Crecimiento del PIB (%)\"}\n",
    "data = wbdata.get_dataframe(indicadores, country=['URY'], date=(\"2010\",\"2023\"))\n",
    "df = pd.DataFrame(data=data)\n",
    "df[\"Producto Interno Bruto (PIB) en millones USD\"]=df[\"Producto Interno Bruto (PIB) en millones USD\"]/1000000\n",
    "df[\"Producto Interno Bruto (PIB) en millones USD\"]=df[\"Producto Interno Bruto (PIB) en millones USD\"].apply(round)\n",
    "df[ \"Tasa de Crecimiento del PIB (%)\"]=df[ \"Tasa de Crecimiento del PIB (%)\"].apply(lambda x: round(x, 2))\n",
    "df_4 = pd.DataFrame({'prueba': df['Tasa de Crecimiento del PIB (%)'].describe()})\n",
    "df_4 = df4.reset_index()\n",
    "\n",
    "#Argentina PIB en USD\n",
    "indicadores = {(\"NY.GDP.MKTP.CD\"): \"Producto Interno Bruto (PIB) en millones USD\", \"NY.GDP.MKTP.KD.ZG\": \"Tasa de Crecimiento del PIB (%)\"}\n",
    "data = wbdata.get_dataframe(indicadores, country=['AR'], date=(\"2010\",\"2023\"))\n",
    "df = pd.DataFrame(data=data)\n",
    "df[\"Producto Interno Bruto (PIB) en millones USD\"]=df[\"Producto Interno Bruto (PIB) en millones USD\"]/1000000\n",
    "df[\"Producto Interno Bruto (PIB) en millones USD\"]=df[\"Producto Interno Bruto (PIB) en millones USD\"].apply(round)\n",
    "df[ \"Tasa de Crecimiento del PIB (%)\"]=df[ \"Tasa de Crecimiento del PIB (%)\"].apply(lambda x: round(x, 2))\n",
    "df_1 = pd.DataFrame({'prueba': df[\"Producto Interno Bruto (PIB) en millones USD\"].describe()})\n",
    "df_1 = df_1.reset_index()\n",
    "\n",
    "#Uruguay PIB en USD\n",
    "indicadores = {(\"NY.GDP.MKTP.CD\"): \"Producto Interno Bruto (PIB) en millones USD\", \"NY.GDP.MKTP.KD.ZG\": \"Tasa de Crecimiento del PIB (%)\"}\n",
    "data = wbdata.get_dataframe(indicadores, country=['URY'], date=(\"2010\",\"2023\"))\n",
    "df = pd.DataFrame(data=data)\n",
    "df[\"Producto Interno Bruto (PIB) en millones USD\"]=df[\"Producto Interno Bruto (PIB) en millones USD\"]/1000000\n",
    "df[\"Producto Interno Bruto (PIB) en millones USD\"]=df[\"Producto Interno Bruto (PIB) en millones USD\"].apply(round)\n",
    "df[ \"Tasa de Crecimiento del PIB (%)\"]=df[ \"Tasa de Crecimiento del PIB (%)\"].apply(lambda x: round(x, 2))\n",
    "df_5 = pd.DataFrame({'prueba': df[\"Producto Interno Bruto (PIB) en millones USD\"].describe()})\n",
    "df_5 = df5.reset_index()\n",
    "\n",
    "#df2: Descripción Argentina Variación PIB, df4: Descripción Uruguay Variación PIB\n",
    "#df1:Descripción Argentina PIB en millones USD, df5: descrici\n",
    "\n",
    "descripcion=({\n",
    "    \"Media Aritmética Variación(%)\":[df_2.iloc[1][\"prueba\"],\n",
    "                        df_4.iloc[1][\"prueba\"]],\n",
    "    \"Desvío Estándar Variación(%)\":[df_2.iloc[2][\"prueba\"],\n",
    "                       df_4.iloc[2][\"prueba\"]],\n",
    "    \"Mín Variación(%)\":[df_2.iloc[3][\"prueba\"],\n",
    "              df_4.iloc[3][\"prueba\"]],\n",
    "    \"Máx Variación(%)\":[df_2.iloc[7][\"prueba\"],\n",
    "              df_4.iloc[7][\"prueba\"]],\n",
    "    \"25% Variación(%)\":[df_2.iloc[4][\"prueba\"],\n",
    "           df_4.iloc[4][\"prueba\"]] ,\n",
    "    \"Mediana Variación(%)\":[df_2.iloc[5][\"prueba\"],df_4.iloc[5][\"prueba\"]],\n",
    "    \"75% Variación(%)\":[df_2.iloc[6][\"prueba\"],df_4.iloc[6][\"prueba\"]],\n",
    "    \"Media Aritmética PIB Millones\":[df_1.iloc[1][\"prueba\"],df_5.iloc[1][\"prueba\"]],\n",
    "    \"Desvío Estándar PIB Millones\":[df_1.iloc[2][\"prueba\"],df_5.iloc[2][\"prueba\"]], \n",
    "    \"Min PIB Millones\":[df_1.iloc[3][\"prueba\"],df_5.iloc[3][\"prueba\"]], \n",
    "    \"Máx PIB Millones\":[df_1.iloc[7][\"prueba\"],df_5.iloc[7][\"prueba\"]], \n",
    "    \"25% PIB Millones\":[df_1.iloc[4][\"prueba\"],df_5.iloc[4][\"prueba\"]],\n",
    "    \"Mediana PIB Millones\":[df_1.iloc[5][\"prueba\"],df_5.iloc[5][\"prueba\"]],\n",
    "    \"75% PIB Millones\":[df_1.iloc[6][\"prueba\"],df_5.iloc[6][\"prueba\"]]})\n",
    "\n",
    "df_3=pd.DataFrame(descripcion)\n",
    "df_3[ \"Media Aritmética Variación(%)\"]=df_3[ \"Media Aritmética Variación(%)\"].apply(lambda x: round(x,2))\n",
    "df_3[ \"Media Aritmética PIB Millones\"]=df_3[ \"Media Aritmética PIB Millones\"].apply(lambda x: round(x, 2))\n",
    "df_3[ \"Desvío Estándar Variación(%)\"]=df_3[ \"Desvío Estándar Variación(%)\"].apply(lambda x: round(x, 2))\n",
    "df_3[ \"Mín Variación(%)\"]=df_3[ \"Mín Variación(%)\"].apply(lambda x: round(x, 2))\n",
    "df_3[ \"Min PIB Millones\"]=df_3[ \"Min PIB Millones\"].apply(lambda x: round(x, 2))\n",
    "df_3[ \"Máx PIB Millones\"]=df_3[ \"Máx PIB Millones\"].apply(lambda x: round(x, 2))\n",
    "df_3[ \"25% PIB Millones\"]=df_3[ \"25% PIB Millones\"].apply(lambda x: round(x, 2))\n",
    "df_3[ \"75% PIB Millones\"]=df_3[ \"75% PIB Millones\"].apply(lambda x: round(x, 2))\n",
    "df_3[ \"Desvío Estándar PIB Millones\"]=df_3[ \"Desvío Estándar PIB Millones\"].apply(lambda x: round(x, 2))\n",
    "index_=[\"Argentina\", \"Uruguay\"]\n",
    "df_3.index=index_\n",
    "df_3"
   ]
  },
  {
   "cell_type": "markdown",
   "metadata": {},
   "source": [
    "#### Ejercicio 3\n",
    "Armen un histograma de los precios. ¿Ven algún <i>outlier<i>? \n",
    "Nota: pueden usar la librería de Matplotlib o la de Pandas."
   ]
  },
  {
   "cell_type": "code",
   "execution_count": null,
   "metadata": {},
   "outputs": [],
   "source": [
    "# Resolver acá\n"
   ]
  },
  {
   "cell_type": "markdown",
   "metadata": {},
   "source": [
    "#### Ejercicio 4\n",
    "Realicen alguna consulta adicional utilizando la API de Mercado Libre (debe ser alguna consulta que no se haya visto en clase. Por ejemplo, obtener los ítems de un vendedor en particular, obtener los productos de una categoría u otros). Analicen los resultados y comenten uno o dos que les parezcan interesantes (por ejemplo, precios promedio de los productos de un vendedor, diferencia entre el precio original y actual, si acepta mercado pago para la compra de productos, etc.) "
   ]
  },
  {
   "cell_type": "code",
   "execution_count": null,
   "metadata": {},
   "outputs": [],
   "source": [
    "# Resolver acá\n"
   ]
  },
  {
   "cell_type": "markdown",
   "metadata": {},
   "source": [
    "### Parte B"
   ]
  },
  {
   "cell_type": "markdown",
   "metadata": {},
   "source": [
    "#### Ejercicio 5\n",
    "De la página de noticias del [diario La Nación](https://www.lanacion.com.ar/), utilicen herramientas de web scraping para obtener los links de las noticias de la portada. Guarden los links obtenidos en un dataframe y expórtenlo a un archivo de excel.\n",
    "\n",
    "Nota 1: es posible que logren obtener los links a las noticias sin el dominio: \"https://www.lanacion.com.ar/\". De ser así, concatenen el dominio a la ruta del link obtenido, tal que se obtenga un link al que se pueda acceder. Es decir, que las cadenas de caracteres finales tendrán la forma: https://www.lanacion.com.ar/*texto_obtenido*)\n",
    "\n",
    "Nota 2: junto con su entrega, adjunten una captura de la página de noticias al momento de correr su código. Eso servirá al momento de la corrección para verificar que los links obtenidos hacen referencia a las noticias de ese día y hora."
   ]
  },
  {
   "cell_type": "code",
   "execution_count": null,
   "metadata": {},
   "outputs": [],
   "source": [
    "# Resolver acá\n"
   ]
  }
 ],
 "metadata": {
  "anaconda-cloud": {},
  "colab": {
   "name": "TP1 - Parte 1.ipynb",
   "provenance": []
  },
  "kernelspec": {
   "display_name": "Python 3 (ipykernel)",
   "language": "python",
   "name": "python3"
  },
  "language_info": {
   "codemirror_mode": {
    "name": "ipython",
    "version": 3
   },
   "file_extension": ".py",
   "mimetype": "text/x-python",
   "name": "python",
   "nbconvert_exporter": "python",
   "pygments_lexer": "ipython3",
   "version": "3.12.7"
  }
 },
 "nbformat": 4,
 "nbformat_minor": 4
}
