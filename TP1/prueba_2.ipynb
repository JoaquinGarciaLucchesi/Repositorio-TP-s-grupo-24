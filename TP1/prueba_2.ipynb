{
 "cells": [
  {
   "cell_type": "code",
   "execution_count": 44,
   "id": "670c41f5-ede0-4ea0-a156-af74f51a854b",
   "metadata": {},
   "outputs": [
    {
     "data": {
      "text/html": [
       "<div>\n",
       "<style scoped>\n",
       "    .dataframe tbody tr th:only-of-type {\n",
       "        vertical-align: middle;\n",
       "    }\n",
       "\n",
       "    .dataframe tbody tr th {\n",
       "        vertical-align: top;\n",
       "    }\n",
       "\n",
       "    .dataframe thead th {\n",
       "        text-align: right;\n",
       "    }\n",
       "</style>\n",
       "<table border=\"1\" class=\"dataframe\">\n",
       "  <thead>\n",
       "    <tr style=\"text-align: right;\">\n",
       "      <th></th>\n",
       "      <th>Media Aritmética</th>\n",
       "      <th>Desvío Estándar</th>\n",
       "      <th>Mínimo</th>\n",
       "      <th>Máximo</th>\n",
       "      <th>25%</th>\n",
       "      <th>Mediana</th>\n",
       "      <th>75%</th>\n",
       "    </tr>\n",
       "  </thead>\n",
       "  <tbody>\n",
       "    <tr>\n",
       "      <th>Argentina</th>\n",
       "      <td>1.29</td>\n",
       "      <td>5.52</td>\n",
       "      <td>-9.90</td>\n",
       "      <td>10.44</td>\n",
       "      <td>-2.06</td>\n",
       "      <td>0.69</td>\n",
       "      <td>4.6575</td>\n",
       "    </tr>\n",
       "    <tr>\n",
       "      <th>Uruguay</th>\n",
       "      <td>2.32</td>\n",
       "      <td>3.63</td>\n",
       "      <td>-7.38</td>\n",
       "      <td>7.80</td>\n",
       "      <td>0.51</td>\n",
       "      <td>2.49</td>\n",
       "      <td>4.6925</td>\n",
       "    </tr>\n",
       "  </tbody>\n",
       "</table>\n",
       "</div>"
      ],
      "text/plain": [
       "           Media Aritmética  Desvío Estándar  Mínimo  Máximo   25%  Mediana  \\\n",
       "Argentina              1.29             5.52   -9.90   10.44 -2.06     0.69   \n",
       "Uruguay                2.32             3.63   -7.38    7.80  0.51     2.49   \n",
       "\n",
       "              75%  \n",
       "Argentina  4.6575  \n",
       "Uruguay    4.6925  "
      ]
     },
     "execution_count": 44,
     "metadata": {},
     "output_type": "execute_result"
    }
   ],
   "source": [
    "#Se separa la información de los indicadores por país\n",
    "import wbdata\n",
    "import statistics as st\n",
    "import pandas as pd\n",
    "#Argentina\n",
    "indicadores = {(\"NY.GDP.MKTP.CD\"): \"Producto Interno Bruto (PIB) en millones USD\", \"NY.GDP.MKTP.KD.ZG\": \"Tasa de Crecimiento del PIB (%)\"}\n",
    "data = wbdata.get_dataframe(indicadores, country=['AR'], date=(\"2010\",\"2023\"))\n",
    "df = pd.DataFrame(data=data)\n",
    "df[\"Producto Interno Bruto (PIB) en millones USD\"]=df[\"Producto Interno Bruto (PIB) en millones USD\"]/1000000\n",
    "df[\"Producto Interno Bruto (PIB) en millones USD\"]=df[\"Producto Interno Bruto (PIB) en millones USD\"].apply(round)\n",
    "df[ \"Tasa de Crecimiento del PIB (%)\"]=df[ \"Tasa de Crecimiento del PIB (%)\"].apply(lambda x: round(x, 2))\n",
    "df2 = pd.DataFrame({'prueba': df['Tasa de Crecimiento del PIB (%)'].describe()})\n",
    "df2 = df2.reset_index()\n",
    "\n",
    "indicadores = {(\"NY.GDP.MKTP.CD\"): \"Producto Interno Bruto (PIB) en millones USD\", \"NY.GDP.MKTP.KD.ZG\": \"Tasa de Crecimiento del PIB (%)\"}\n",
    "data = wbdata.get_dataframe(indicadores, country=['URY'], date=(\"2010\",\"2023\"))\n",
    "df = pd.DataFrame(data=data)\n",
    "df[\"Producto Interno Bruto (PIB) en millones USD\"]=df[\"Producto Interno Bruto (PIB) en millones USD\"]/1000000\n",
    "df[\"Producto Interno Bruto (PIB) en millones USD\"]=df[\"Producto Interno Bruto (PIB) en millones USD\"].apply(round)\n",
    "df[ \"Tasa de Crecimiento del PIB (%)\"]=df[ \"Tasa de Crecimiento del PIB (%)\"].apply(lambda x: round(x, 2))\n",
    "df4 = pd.DataFrame({'prueba': df5['Tasa de Crecimiento del PIB (%)'].describe()})\n",
    "df4 = df4.reset_index()\n",
    "\n",
    "descripcion=({\"Media Aritmética\":[df2.iloc[1][\"prueba\"],df4.iloc[1][\"prueba\"]],\"Desvío Estándar\":[df2.iloc[2][\"prueba\"],df4.iloc[2][\"prueba\"]],\"Mínimo\":[df2.iloc[3][\"prueba\"],df4.iloc[3][\"prueba\"]], \"Máximo\":[df2.iloc[7][\"prueba\"],df4.iloc[7][\"prueba\"]],\"25%\":[df2.iloc[4][\"prueba\"],df4.iloc[4][\"prueba\"]] ,\"Mediana\":[df2.iloc[5][\"prueba\"],df4.iloc[5][\"prueba\"]],\"75%\":[df2.iloc[6][\"prueba\"],df4.iloc[6][\"prueba\"]],})\n",
    "df3=pd.DataFrame(descripcion)\n",
    "df3[ \"Media Aritmética\"]=df3[ \"Media Aritmética\"].apply(lambda x: round(x, 2))\n",
    "df3[ \"Desvío Estándar\"]=df3[ \"Desvío Estándar\"].apply(lambda x: round(x, 2))\n",
    "index_=[\"Argentina\", \"Uruguay\"]\n",
    "df3.index=index_\n",
    "df3\n"
   ]
  },
  {
   "cell_type": "code",
   "execution_count": null,
   "id": "927993f1-7821-4bea-95e7-61a9c7558701",
   "metadata": {},
   "outputs": [],
   "source": []
  }
 ],
 "metadata": {
  "kernelspec": {
   "display_name": "Python 3 (ipykernel)",
   "language": "python",
   "name": "python3"
  },
  "language_info": {
   "codemirror_mode": {
    "name": "ipython",
    "version": 3
   },
   "file_extension": ".py",
   "mimetype": "text/x-python",
   "name": "python",
   "nbconvert_exporter": "python",
   "pygments_lexer": "ipython3",
   "version": "3.12.7"
  }
 },
 "nbformat": 4,
 "nbformat_minor": 5
}
